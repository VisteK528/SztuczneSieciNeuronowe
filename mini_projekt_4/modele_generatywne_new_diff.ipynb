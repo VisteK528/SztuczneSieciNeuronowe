{
 "cells": [
  {
   "cell_type": "code",
   "id": "initial_id",
   "metadata": {
    "collapsed": true,
    "ExecuteTime": {
     "end_time": "2025-05-11T16:34:03.693781Z",
     "start_time": "2025-05-11T16:34:03.691900Z"
    }
   },
   "source": [
    "import torch\n",
    "import torch.nn as nn\n",
    "import torch.nn.functional as F\n",
    "import torchvision\n",
    "import torchvision.transforms as T\n",
    "from torch.utils.data import DataLoader\n",
    "from torchvision.datasets import ImageFolder\n",
    "from torchvision.utils import save_image\n",
    "from tqdm import tqdm\n",
    "import os\n",
    "import numpy as np\n",
    "import matplotlib.pyplot as plt\n",
    "from tqdm.notebook import tqdm\n",
    "import sys\n",
    "import math"
   ],
   "outputs": [],
   "execution_count": 22
  },
  {
   "metadata": {
    "ExecuteTime": {
     "end_time": "2025-05-11T16:15:25.339228Z",
     "start_time": "2025-05-11T16:15:25.241820Z"
    }
   },
   "cell_type": "code",
   "source": [
    "import gc\n",
    "torch.cuda.empty_cache()\n",
    "gc.collect()\n"
   ],
   "id": "f67a59f10a10428",
   "outputs": [
    {
     "data": {
      "text/plain": [
       "34"
      ]
     },
     "execution_count": 2,
     "metadata": {},
     "output_type": "execute_result"
    }
   ],
   "execution_count": 2
  },
  {
   "metadata": {},
   "cell_type": "markdown",
   "source": "## Setup",
   "id": "dec344bff4b3721d"
  },
  {
   "metadata": {
    "ExecuteTime": {
     "end_time": "2025-05-11T16:15:32.738386Z",
     "start_time": "2025-05-11T16:15:32.736687Z"
    }
   },
   "cell_type": "code",
   "source": [
    "device = torch.device(\"cuda\" if torch.cuda.is_available() else \"cpu\")\n",
    "print(device)\n",
    "\n",
    "IMG_SIZE = 32\n",
    "BATCH_SIZE = 32\n",
    "EPOCHS = 100\n",
    "NUM_SAMPLES = 1000"
   ],
   "id": "4e1675b036642194",
   "outputs": [
    {
     "name": "stdout",
     "output_type": "stream",
     "text": [
      "cuda\n"
     ]
    }
   ],
   "execution_count": 5
  },
  {
   "metadata": {},
   "cell_type": "markdown",
   "source": "## Load data",
   "id": "733e878e089d9b54"
  },
  {
   "metadata": {
    "ExecuteTime": {
     "end_time": "2025-05-11T16:15:34.427135Z",
     "start_time": "2025-05-11T16:15:34.155420Z"
    }
   },
   "cell_type": "code",
   "source": [
    "transform = T.Compose([\n",
    "    T.Resize((IMG_SIZE, IMG_SIZE)),\n",
    "    T.ToTensor(),\n",
    "    T.Normalize([0.5]*3, [0.5]*3),\n",
    "])\n",
    "\n",
    "train_data = ImageFolder('train/', transform=transform)\n",
    "loader = DataLoader(train_data, batch_size=BATCH_SIZE, shuffle=True, drop_last=True, pin_memory=True, num_workers=4)"
   ],
   "id": "eadeb4f897f83c69",
   "outputs": [],
   "execution_count": 6
  },
  {
   "metadata": {},
   "cell_type": "markdown",
   "source": "## Diffusion model",
   "id": "32fbb44c385cec3c"
  },
  {
   "metadata": {
    "ExecuteTime": {
     "end_time": "2025-05-11T16:19:01.023214Z",
     "start_time": "2025-05-11T16:19:01.015943Z"
    }
   },
   "cell_type": "code",
   "source": [
    "# Sinusoidal Time Embedding\n",
    "def get_timestep_embedding(timesteps, dim):\n",
    "    half_dim = dim // 2\n",
    "    emb = math.log(10000) / (half_dim - 1)\n",
    "    emb = torch.exp(torch.arange(half_dim, device=timesteps.device) * -emb)\n",
    "    emb = timesteps[:, None] * emb[None, :]\n",
    "    return torch.cat([torch.sin(emb), torch.cos(emb)], dim=1)\n",
    "\n",
    "def get_valid_num_groups(channels, max_groups=8):\n",
    "    for g in reversed(range(1, max_groups + 1)):\n",
    "        if channels % g == 0:\n",
    "            return g\n",
    "    return 1  # fallback to LayerNorm-like behavior\n",
    "\n",
    "\n",
    "class ResBlock(nn.Module):\n",
    "    def __init__(self, in_ch, out_ch, time_emb_dim):\n",
    "        super().__init__()\n",
    "        g1 = get_valid_num_groups(in_ch)\n",
    "        g2 = get_valid_num_groups(out_ch)\n",
    "\n",
    "        self.norm1 = nn.GroupNorm(g1, in_ch)\n",
    "        self.act1 = nn.SiLU()\n",
    "        self.conv1 = nn.Conv2d(in_ch, out_ch, 3, padding=1)\n",
    "\n",
    "        self.norm2 = nn.GroupNorm(g2, out_ch)\n",
    "        self.act2 = nn.SiLU()\n",
    "        self.conv2 = nn.Conv2d(out_ch, out_ch, 3, padding=1)\n",
    "\n",
    "        self.time_proj = nn.Linear(time_emb_dim, out_ch)\n",
    "        self.residual_conv = nn.Conv2d(in_ch, out_ch, 1) if in_ch != out_ch else nn.Identity()\n",
    "\n",
    "    def forward(self, x, t_emb):\n",
    "        h = self.conv1(self.act1(self.norm1(x)))\n",
    "        h = h + self.time_proj(t_emb).unsqueeze(-1).unsqueeze(-1)\n",
    "        h = self.conv2(self.act2(self.norm2(h)))\n",
    "        return h + self.residual_conv(x)\n",
    "\n",
    "# Upgraded UNet\n",
    "class UpgradedUNet(nn.Module):\n",
    "    def __init__(self, time_emb_dim=128):\n",
    "        super().__init__()\n",
    "        self.time_mlp = nn.Sequential(\n",
    "            nn.Linear(time_emb_dim, time_emb_dim * 4),\n",
    "            nn.SiLU(),\n",
    "            nn.Linear(time_emb_dim * 4, time_emb_dim)\n",
    "        )\n",
    "\n",
    "        self.down1 = ResBlock(3, 64, time_emb_dim)\n",
    "        self.pool1 = nn.MaxPool2d(2)\n",
    "        self.down2 = ResBlock(64, 128, time_emb_dim)\n",
    "        self.pool2 = nn.MaxPool2d(2)\n",
    "\n",
    "        self.middle = ResBlock(128, 256, time_emb_dim)\n",
    "\n",
    "        self.up1 = nn.ConvTranspose2d(256, 128, 2, stride=2)\n",
    "        self.up_block1 = ResBlock(256, 128, time_emb_dim)\n",
    "\n",
    "        self.up2 = nn.ConvTranspose2d(128, 64, 2, stride=2)\n",
    "        self.up_block2 = ResBlock(128, 64, time_emb_dim)\n",
    "\n",
    "        self.out_conv = nn.Conv2d(64, 3, 1)\n",
    "\n",
    "    def forward(self, x, t):\n",
    "        t_emb = get_timestep_embedding(t, 128)\n",
    "        t_emb = self.time_mlp(t_emb)\n",
    "\n",
    "        d1 = self.down1(x, t_emb)\n",
    "        d2 = self.down2(self.pool1(d1), t_emb)\n",
    "        m = self.middle(self.pool2(d2), t_emb)\n",
    "\n",
    "        u1 = self.up1(m)\n",
    "        u1 = self.up_block1(torch.cat([u1, d2], dim=1), t_emb)\n",
    "\n",
    "        u2 = self.up2(u1)\n",
    "        u2 = self.up_block2(torch.cat([u2, d1], dim=1), t_emb)\n",
    "\n",
    "        return self.out_conv(u2)\n",
    "\n",
    "\n",
    "@torch.no_grad()\n",
    "def denorm(x):\n",
    "    return x * 0.5 + 0.5\n",
    "\n",
    "@torch.no_grad()\n",
    "def show_images(images, num=16):\n",
    "    images = denorm(images[:num].cpu()).permute(0, 2, 3, 1).numpy()\n",
    "    fig, axes = plt.subplots(int(num ** 0.5), int(num ** 0.5), figsize=(10, 10))\n",
    "    for i, ax in enumerate(axes.flat):\n",
    "        ax.imshow(np.clip(images[i], 0, 1))\n",
    "        ax.axis('off')\n",
    "    plt.tight_layout()\n",
    "    plt.show()\n",
    "\n",
    "def get_beta_schedule(T, beta_start=1e-4, beta_end=0.02):\n",
    "    return torch.linspace(beta_start, beta_end, T)\n",
    "\n",
    "class DDPM:\n",
    "    def __init__(self, model, T=250):\n",
    "        self.model = model.to(device)\n",
    "        self.T = T\n",
    "        self.betas = get_beta_schedule(T).to(device)\n",
    "        self.alphas = 1. - self.betas\n",
    "        self.alpha_hat = torch.cumprod(self.alphas, dim=0)\n",
    "\n",
    "    def noise_images(self, x0, t):\n",
    "        sqrt_alpha_hat = torch.sqrt(self.alpha_hat[t])[:, None, None, None]\n",
    "        sqrt_one_minus_alpha_hat = torch.sqrt(1 - self.alpha_hat[t])[:, None, None, None]\n",
    "        noise = torch.randn_like(x0)\n",
    "        return sqrt_alpha_hat * x0 + sqrt_one_minus_alpha_hat * noise, noise\n",
    "\n",
    "    def train_step(self, x0):\n",
    "        t = torch.randint(0, self.T, (x0.shape[0],), device=device).long()\n",
    "        xt, noise = self.noise_images(x0, t)\n",
    "        pred = self.model(xt, t.float() / self.T)\n",
    "        return F.mse_loss(pred, noise)\n",
    "    \n",
    "    @torch.no_grad()\n",
    "    def sample(self, n):\n",
    "        x = torch.randn(n, 3, IMG_SIZE, IMG_SIZE).to(device)\n",
    "        for t in tqdm(reversed(range(self.T))):\n",
    "            z = torch.randn_like(x) if t > 0 else 0\n",
    "            alpha = self.alphas[t]\n",
    "            alpha_hat = self.alpha_hat[t]\n",
    "            beta = self.betas[t]\n",
    "\n",
    "            pred_noise = self.model(x, torch.tensor([t / self.T]).to(device).repeat(n))\n",
    "\n",
    "            x = (1 / torch.sqrt(alpha)) * (x - (1 - alpha) / torch.sqrt(1 - alpha_hat) * pred_noise) + torch.sqrt(beta) * z\n",
    "        torch.cuda.empty_cache()\n",
    "        return x"
   ],
   "id": "74bf49d9d7298d3e",
   "outputs": [],
   "execution_count": 15
  },
  {
   "metadata": {},
   "cell_type": "markdown",
   "source": "### Train the model",
   "id": "70737a84caef5bad"
  },
  {
   "metadata": {
    "ExecuteTime": {
     "end_time": "2025-05-11T16:31:09.402128Z",
     "start_time": "2025-05-11T16:19:03.026800Z"
    }
   },
   "cell_type": "code",
   "source": [
    "model = UpgradedUNet()\n",
    "ddpm = DDPM(model)\n",
    "optimizer = torch.optim.Adam(model.parameters(), lr=1e-3)\n",
    "scheduler = torch.optim.lr_scheduler.StepLR(optimizer, step_size=15, gamma=0.1)\n",
    "\n",
    "losses = []\n",
    "for epoch in range(EPOCHS):\n",
    "    progress_bar = tqdm(loader, desc=f\"Epoch {epoch+1}/{EPOCHS}\", leave=True)\n",
    "    \n",
    "    for batch in progress_bar:\n",
    "        x, _ = batch\n",
    "        x = x.to(device)\n",
    "        loss = ddpm.train_step(x)\n",
    "        optimizer.zero_grad()\n",
    "        loss.backward()\n",
    "        optimizer.step()\n",
    "        losses.append(loss.item())\n",
    "        progress_bar.set_postfix(loss=f\"{loss.item():.4f}\")\n",
    "    scheduler.step()"
   ],
   "id": "4c9506700ea83130",
   "outputs": [
    {
     "data": {
      "text/plain": [
       "Epoch 1/100:   0%|          | 0/1225 [00:00<?, ?it/s]"
      ],
      "application/vnd.jupyter.widget-view+json": {
       "version_major": 2,
       "version_minor": 0,
       "model_id": "7638bdd438c345858889359d86d75218"
      }
     },
     "metadata": {},
     "output_type": "display_data"
    },
    {
     "data": {
      "text/plain": [
       "Epoch 2/100:   0%|          | 0/1225 [00:00<?, ?it/s]"
      ],
      "application/vnd.jupyter.widget-view+json": {
       "version_major": 2,
       "version_minor": 0,
       "model_id": "f373875b0e1749b6987ce26739a01e4f"
      }
     },
     "metadata": {},
     "output_type": "display_data"
    },
    {
     "data": {
      "text/plain": [
       "Epoch 3/100:   0%|          | 0/1225 [00:00<?, ?it/s]"
      ],
      "application/vnd.jupyter.widget-view+json": {
       "version_major": 2,
       "version_minor": 0,
       "model_id": "ff974d81b6ea47b2b532d5c20270f989"
      }
     },
     "metadata": {},
     "output_type": "display_data"
    },
    {
     "data": {
      "text/plain": [
       "Epoch 4/100:   0%|          | 0/1225 [00:00<?, ?it/s]"
      ],
      "application/vnd.jupyter.widget-view+json": {
       "version_major": 2,
       "version_minor": 0,
       "model_id": "9869a532c7244123b44ef7f43031dea7"
      }
     },
     "metadata": {},
     "output_type": "display_data"
    },
    {
     "data": {
      "text/plain": [
       "Epoch 5/100:   0%|          | 0/1225 [00:00<?, ?it/s]"
      ],
      "application/vnd.jupyter.widget-view+json": {
       "version_major": 2,
       "version_minor": 0,
       "model_id": "b23ceb47fb1d4d9c8cb0a4c950b5338b"
      }
     },
     "metadata": {},
     "output_type": "display_data"
    },
    {
     "data": {
      "text/plain": [
       "Epoch 6/100:   0%|          | 0/1225 [00:00<?, ?it/s]"
      ],
      "application/vnd.jupyter.widget-view+json": {
       "version_major": 2,
       "version_minor": 0,
       "model_id": "566e8401296949cc88907e80695f1518"
      }
     },
     "metadata": {},
     "output_type": "display_data"
    },
    {
     "data": {
      "text/plain": [
       "Epoch 7/100:   0%|          | 0/1225 [00:00<?, ?it/s]"
      ],
      "application/vnd.jupyter.widget-view+json": {
       "version_major": 2,
       "version_minor": 0,
       "model_id": "b63b314e8ec7457499fb8274812d912c"
      }
     },
     "metadata": {},
     "output_type": "display_data"
    },
    {
     "data": {
      "text/plain": [
       "Epoch 8/100:   0%|          | 0/1225 [00:00<?, ?it/s]"
      ],
      "application/vnd.jupyter.widget-view+json": {
       "version_major": 2,
       "version_minor": 0,
       "model_id": "7571fe5933b64911accbe91e8e0fcce1"
      }
     },
     "metadata": {},
     "output_type": "display_data"
    },
    {
     "data": {
      "text/plain": [
       "Epoch 9/100:   0%|          | 0/1225 [00:00<?, ?it/s]"
      ],
      "application/vnd.jupyter.widget-view+json": {
       "version_major": 2,
       "version_minor": 0,
       "model_id": "0166ff3ee87a430bb5f477866d9862fc"
      }
     },
     "metadata": {},
     "output_type": "display_data"
    },
    {
     "data": {
      "text/plain": [
       "Epoch 10/100:   0%|          | 0/1225 [00:00<?, ?it/s]"
      ],
      "application/vnd.jupyter.widget-view+json": {
       "version_major": 2,
       "version_minor": 0,
       "model_id": "c314786bbd794b86808fff3f8b43d432"
      }
     },
     "metadata": {},
     "output_type": "display_data"
    },
    {
     "data": {
      "text/plain": [
       "Epoch 11/100:   0%|          | 0/1225 [00:00<?, ?it/s]"
      ],
      "application/vnd.jupyter.widget-view+json": {
       "version_major": 2,
       "version_minor": 0,
       "model_id": "90f8ad492c8b46c0a48267d41d261bd0"
      }
     },
     "metadata": {},
     "output_type": "display_data"
    },
    {
     "data": {
      "text/plain": [
       "Epoch 12/100:   0%|          | 0/1225 [00:00<?, ?it/s]"
      ],
      "application/vnd.jupyter.widget-view+json": {
       "version_major": 2,
       "version_minor": 0,
       "model_id": "770f954a946a4d0ea45b4475eefa9a6d"
      }
     },
     "metadata": {},
     "output_type": "display_data"
    },
    {
     "data": {
      "text/plain": [
       "Epoch 13/100:   0%|          | 0/1225 [00:00<?, ?it/s]"
      ],
      "application/vnd.jupyter.widget-view+json": {
       "version_major": 2,
       "version_minor": 0,
       "model_id": "c4ede5f7a4984a3a8b24a5f69e9fda88"
      }
     },
     "metadata": {},
     "output_type": "display_data"
    },
    {
     "data": {
      "text/plain": [
       "Epoch 14/100:   0%|          | 0/1225 [00:00<?, ?it/s]"
      ],
      "application/vnd.jupyter.widget-view+json": {
       "version_major": 2,
       "version_minor": 0,
       "model_id": "3241bc7bdabe42a0ba40afae72df0c6b"
      }
     },
     "metadata": {},
     "output_type": "display_data"
    },
    {
     "data": {
      "text/plain": [
       "Epoch 15/100:   0%|          | 0/1225 [00:00<?, ?it/s]"
      ],
      "application/vnd.jupyter.widget-view+json": {
       "version_major": 2,
       "version_minor": 0,
       "model_id": "b470fee246c34d24a7c9fc12a5d5483e"
      }
     },
     "metadata": {},
     "output_type": "display_data"
    },
    {
     "data": {
      "text/plain": [
       "Epoch 16/100:   0%|          | 0/1225 [00:00<?, ?it/s]"
      ],
      "application/vnd.jupyter.widget-view+json": {
       "version_major": 2,
       "version_minor": 0,
       "model_id": "5b6f90d9d012494b8e799008d6e67ce0"
      }
     },
     "metadata": {},
     "output_type": "display_data"
    },
    {
     "data": {
      "text/plain": [
       "Epoch 17/100:   0%|          | 0/1225 [00:00<?, ?it/s]"
      ],
      "application/vnd.jupyter.widget-view+json": {
       "version_major": 2,
       "version_minor": 0,
       "model_id": "e0667ccb4f174d0a999b574c196fe4aa"
      }
     },
     "metadata": {},
     "output_type": "display_data"
    },
    {
     "data": {
      "text/plain": [
       "Epoch 18/100:   0%|          | 0/1225 [00:00<?, ?it/s]"
      ],
      "application/vnd.jupyter.widget-view+json": {
       "version_major": 2,
       "version_minor": 0,
       "model_id": "40617aa495af40c0a354adfd80374fd2"
      }
     },
     "metadata": {},
     "output_type": "display_data"
    },
    {
     "data": {
      "text/plain": [
       "Epoch 19/100:   0%|          | 0/1225 [00:00<?, ?it/s]"
      ],
      "application/vnd.jupyter.widget-view+json": {
       "version_major": 2,
       "version_minor": 0,
       "model_id": "66d909c5a5214e4983015a4c2bec6c62"
      }
     },
     "metadata": {},
     "output_type": "display_data"
    },
    {
     "data": {
      "text/plain": [
       "Epoch 20/100:   0%|          | 0/1225 [00:00<?, ?it/s]"
      ],
      "application/vnd.jupyter.widget-view+json": {
       "version_major": 2,
       "version_minor": 0,
       "model_id": "95418bfadcf044f6b311c79d8e20bebe"
      }
     },
     "metadata": {},
     "output_type": "display_data"
    },
    {
     "data": {
      "text/plain": [
       "Epoch 21/100:   0%|          | 0/1225 [00:00<?, ?it/s]"
      ],
      "application/vnd.jupyter.widget-view+json": {
       "version_major": 2,
       "version_minor": 0,
       "model_id": "560279d022eb4152b93ed4cea19d945e"
      }
     },
     "metadata": {},
     "output_type": "display_data"
    },
    {
     "data": {
      "text/plain": [
       "Epoch 22/100:   0%|          | 0/1225 [00:00<?, ?it/s]"
      ],
      "application/vnd.jupyter.widget-view+json": {
       "version_major": 2,
       "version_minor": 0,
       "model_id": "12b0d58b5ddb4287b2cca32a93c3c9a9"
      }
     },
     "metadata": {},
     "output_type": "display_data"
    },
    {
     "data": {
      "text/plain": [
       "Epoch 23/100:   0%|          | 0/1225 [00:00<?, ?it/s]"
      ],
      "application/vnd.jupyter.widget-view+json": {
       "version_major": 2,
       "version_minor": 0,
       "model_id": "6d3d94d87c11457b9a1a56ff3c2270da"
      }
     },
     "metadata": {},
     "output_type": "display_data"
    },
    {
     "data": {
      "text/plain": [
       "Epoch 24/100:   0%|          | 0/1225 [00:00<?, ?it/s]"
      ],
      "application/vnd.jupyter.widget-view+json": {
       "version_major": 2,
       "version_minor": 0,
       "model_id": "e55533923f734ac793477aa955094fa7"
      }
     },
     "metadata": {},
     "output_type": "display_data"
    },
    {
     "data": {
      "text/plain": [
       "Epoch 25/100:   0%|          | 0/1225 [00:00<?, ?it/s]"
      ],
      "application/vnd.jupyter.widget-view+json": {
       "version_major": 2,
       "version_minor": 0,
       "model_id": "8fc1ba2bf30b4bec832518d1cb32c73b"
      }
     },
     "metadata": {},
     "output_type": "display_data"
    },
    {
     "data": {
      "text/plain": [
       "Epoch 26/100:   0%|          | 0/1225 [00:00<?, ?it/s]"
      ],
      "application/vnd.jupyter.widget-view+json": {
       "version_major": 2,
       "version_minor": 0,
       "model_id": "b8be14141f8b4aec8098a24f7f42454f"
      }
     },
     "metadata": {},
     "output_type": "display_data"
    },
    {
     "data": {
      "text/plain": [
       "Epoch 27/100:   0%|          | 0/1225 [00:00<?, ?it/s]"
      ],
      "application/vnd.jupyter.widget-view+json": {
       "version_major": 2,
       "version_minor": 0,
       "model_id": "eb68a46e10c54197ab2f94403a9a1ab7"
      }
     },
     "metadata": {},
     "output_type": "display_data"
    },
    {
     "data": {
      "text/plain": [
       "Epoch 28/100:   0%|          | 0/1225 [00:00<?, ?it/s]"
      ],
      "application/vnd.jupyter.widget-view+json": {
       "version_major": 2,
       "version_minor": 0,
       "model_id": "9db45ace19574c889b843e7de5881ed9"
      }
     },
     "metadata": {},
     "output_type": "display_data"
    },
    {
     "data": {
      "text/plain": [
       "Epoch 29/100:   0%|          | 0/1225 [00:00<?, ?it/s]"
      ],
      "application/vnd.jupyter.widget-view+json": {
       "version_major": 2,
       "version_minor": 0,
       "model_id": "949dd2feede541f9927ec4e4072b2f9c"
      }
     },
     "metadata": {},
     "output_type": "display_data"
    },
    {
     "data": {
      "text/plain": [
       "Epoch 30/100:   0%|          | 0/1225 [00:00<?, ?it/s]"
      ],
      "application/vnd.jupyter.widget-view+json": {
       "version_major": 2,
       "version_minor": 0,
       "model_id": "c9e904d403a146fe8657fdf84ee19b82"
      }
     },
     "metadata": {},
     "output_type": "display_data"
    },
    {
     "data": {
      "text/plain": [
       "Epoch 31/100:   0%|          | 0/1225 [00:00<?, ?it/s]"
      ],
      "application/vnd.jupyter.widget-view+json": {
       "version_major": 2,
       "version_minor": 0,
       "model_id": "1a534da928064c41af3c2b5a9af0a431"
      }
     },
     "metadata": {},
     "output_type": "display_data"
    },
    {
     "data": {
      "text/plain": [
       "Epoch 32/100:   0%|          | 0/1225 [00:00<?, ?it/s]"
      ],
      "application/vnd.jupyter.widget-view+json": {
       "version_major": 2,
       "version_minor": 0,
       "model_id": "69906132e6874dfcbcdefaa704c8598d"
      }
     },
     "metadata": {},
     "output_type": "display_data"
    },
    {
     "data": {
      "text/plain": [
       "Epoch 33/100:   0%|          | 0/1225 [00:00<?, ?it/s]"
      ],
      "application/vnd.jupyter.widget-view+json": {
       "version_major": 2,
       "version_minor": 0,
       "model_id": "8e1ee081871d47a98ca95e2d6f52b124"
      }
     },
     "metadata": {},
     "output_type": "display_data"
    },
    {
     "data": {
      "text/plain": [
       "Epoch 34/100:   0%|          | 0/1225 [00:00<?, ?it/s]"
      ],
      "application/vnd.jupyter.widget-view+json": {
       "version_major": 2,
       "version_minor": 0,
       "model_id": "41ff32bd85ef41a0977b50a99796b968"
      }
     },
     "metadata": {},
     "output_type": "display_data"
    },
    {
     "data": {
      "text/plain": [
       "Epoch 35/100:   0%|          | 0/1225 [00:00<?, ?it/s]"
      ],
      "application/vnd.jupyter.widget-view+json": {
       "version_major": 2,
       "version_minor": 0,
       "model_id": "52015e9b728949a99e67235ad70c5c83"
      }
     },
     "metadata": {},
     "output_type": "display_data"
    },
    {
     "data": {
      "text/plain": [
       "Epoch 36/100:   0%|          | 0/1225 [00:00<?, ?it/s]"
      ],
      "application/vnd.jupyter.widget-view+json": {
       "version_major": 2,
       "version_minor": 0,
       "model_id": "ab39784df7fa469d85a16f5e898809e0"
      }
     },
     "metadata": {},
     "output_type": "display_data"
    },
    {
     "data": {
      "text/plain": [
       "Epoch 37/100:   0%|          | 0/1225 [00:00<?, ?it/s]"
      ],
      "application/vnd.jupyter.widget-view+json": {
       "version_major": 2,
       "version_minor": 0,
       "model_id": "4ae682961beb405eb6644c8d81da288a"
      }
     },
     "metadata": {},
     "output_type": "display_data"
    },
    {
     "data": {
      "text/plain": [
       "Epoch 38/100:   0%|          | 0/1225 [00:00<?, ?it/s]"
      ],
      "application/vnd.jupyter.widget-view+json": {
       "version_major": 2,
       "version_minor": 0,
       "model_id": "ebae1db4de8249ce800f980aa1d10146"
      }
     },
     "metadata": {},
     "output_type": "display_data"
    },
    {
     "data": {
      "text/plain": [
       "Epoch 39/100:   0%|          | 0/1225 [00:00<?, ?it/s]"
      ],
      "application/vnd.jupyter.widget-view+json": {
       "version_major": 2,
       "version_minor": 0,
       "model_id": "df56042b989944c5a7a38d93315ed6eb"
      }
     },
     "metadata": {},
     "output_type": "display_data"
    },
    {
     "data": {
      "text/plain": [
       "Epoch 40/100:   0%|          | 0/1225 [00:00<?, ?it/s]"
      ],
      "application/vnd.jupyter.widget-view+json": {
       "version_major": 2,
       "version_minor": 0,
       "model_id": "16a3cb9a86384a5293ee182d8684fdec"
      }
     },
     "metadata": {},
     "output_type": "display_data"
    },
    {
     "data": {
      "text/plain": [
       "Epoch 41/100:   0%|          | 0/1225 [00:00<?, ?it/s]"
      ],
      "application/vnd.jupyter.widget-view+json": {
       "version_major": 2,
       "version_minor": 0,
       "model_id": "288e31f00f974d15834b005bbba3907b"
      }
     },
     "metadata": {},
     "output_type": "display_data"
    },
    {
     "data": {
      "text/plain": [
       "Epoch 42/100:   0%|          | 0/1225 [00:00<?, ?it/s]"
      ],
      "application/vnd.jupyter.widget-view+json": {
       "version_major": 2,
       "version_minor": 0,
       "model_id": "0429621f1e1d4076a22d1aae4fb71b74"
      }
     },
     "metadata": {},
     "output_type": "display_data"
    },
    {
     "data": {
      "text/plain": [
       "Epoch 43/100:   0%|          | 0/1225 [00:00<?, ?it/s]"
      ],
      "application/vnd.jupyter.widget-view+json": {
       "version_major": 2,
       "version_minor": 0,
       "model_id": "9f3cf27ffc884aab95a1e4aa02743288"
      }
     },
     "metadata": {},
     "output_type": "display_data"
    },
    {
     "data": {
      "text/plain": [
       "Epoch 44/100:   0%|          | 0/1225 [00:00<?, ?it/s]"
      ],
      "application/vnd.jupyter.widget-view+json": {
       "version_major": 2,
       "version_minor": 0,
       "model_id": "659e62f28d3242028a0bfa365392b4c2"
      }
     },
     "metadata": {},
     "output_type": "display_data"
    },
    {
     "data": {
      "text/plain": [
       "Epoch 45/100:   0%|          | 0/1225 [00:00<?, ?it/s]"
      ],
      "application/vnd.jupyter.widget-view+json": {
       "version_major": 2,
       "version_minor": 0,
       "model_id": "2e0e369b5f4340969b2531159a883654"
      }
     },
     "metadata": {},
     "output_type": "display_data"
    },
    {
     "data": {
      "text/plain": [
       "Epoch 46/100:   0%|          | 0/1225 [00:00<?, ?it/s]"
      ],
      "application/vnd.jupyter.widget-view+json": {
       "version_major": 2,
       "version_minor": 0,
       "model_id": "e4edf3da3de64f6fb64ac6e169c1fea0"
      }
     },
     "metadata": {},
     "output_type": "display_data"
    },
    {
     "data": {
      "text/plain": [
       "Epoch 47/100:   0%|          | 0/1225 [00:00<?, ?it/s]"
      ],
      "application/vnd.jupyter.widget-view+json": {
       "version_major": 2,
       "version_minor": 0,
       "model_id": "7a2f67bb7677434d8cbe4b2c5c935f4f"
      }
     },
     "metadata": {},
     "output_type": "display_data"
    },
    {
     "data": {
      "text/plain": [
       "Epoch 48/100:   0%|          | 0/1225 [00:00<?, ?it/s]"
      ],
      "application/vnd.jupyter.widget-view+json": {
       "version_major": 2,
       "version_minor": 0,
       "model_id": "5b2c875d18264f96b6aed02f835bfd54"
      }
     },
     "metadata": {},
     "output_type": "display_data"
    },
    {
     "data": {
      "text/plain": [
       "Epoch 49/100:   0%|          | 0/1225 [00:00<?, ?it/s]"
      ],
      "application/vnd.jupyter.widget-view+json": {
       "version_major": 2,
       "version_minor": 0,
       "model_id": "abfdef590a2c41b59bc542118c25f512"
      }
     },
     "metadata": {},
     "output_type": "display_data"
    },
    {
     "data": {
      "text/plain": [
       "Epoch 50/100:   0%|          | 0/1225 [00:00<?, ?it/s]"
      ],
      "application/vnd.jupyter.widget-view+json": {
       "version_major": 2,
       "version_minor": 0,
       "model_id": "4a37229bf76a4f31be581abba8b64220"
      }
     },
     "metadata": {},
     "output_type": "display_data"
    },
    {
     "data": {
      "text/plain": [
       "Epoch 51/100:   0%|          | 0/1225 [00:00<?, ?it/s]"
      ],
      "application/vnd.jupyter.widget-view+json": {
       "version_major": 2,
       "version_minor": 0,
       "model_id": "b8f6f0ce05b94d3dbb71f48191e9a310"
      }
     },
     "metadata": {},
     "output_type": "display_data"
    },
    {
     "data": {
      "text/plain": [
       "Epoch 52/100:   0%|          | 0/1225 [00:00<?, ?it/s]"
      ],
      "application/vnd.jupyter.widget-view+json": {
       "version_major": 2,
       "version_minor": 0,
       "model_id": "d468b7c2729b47928771e6218eef2ef3"
      }
     },
     "metadata": {},
     "output_type": "display_data"
    },
    {
     "data": {
      "text/plain": [
       "Epoch 53/100:   0%|          | 0/1225 [00:00<?, ?it/s]"
      ],
      "application/vnd.jupyter.widget-view+json": {
       "version_major": 2,
       "version_minor": 0,
       "model_id": "c342f90fbd6e4b95be281a204b70fc68"
      }
     },
     "metadata": {},
     "output_type": "display_data"
    },
    {
     "data": {
      "text/plain": [
       "Epoch 54/100:   0%|          | 0/1225 [00:00<?, ?it/s]"
      ],
      "application/vnd.jupyter.widget-view+json": {
       "version_major": 2,
       "version_minor": 0,
       "model_id": "33199ea5ac1540faa6cf0cd399b6948d"
      }
     },
     "metadata": {},
     "output_type": "display_data"
    },
    {
     "data": {
      "text/plain": [
       "Epoch 55/100:   0%|          | 0/1225 [00:00<?, ?it/s]"
      ],
      "application/vnd.jupyter.widget-view+json": {
       "version_major": 2,
       "version_minor": 0,
       "model_id": "9a726ebcfbb044dfbe9cbed7adcd252e"
      }
     },
     "metadata": {},
     "output_type": "display_data"
    },
    {
     "data": {
      "text/plain": [
       "Epoch 56/100:   0%|          | 0/1225 [00:00<?, ?it/s]"
      ],
      "application/vnd.jupyter.widget-view+json": {
       "version_major": 2,
       "version_minor": 0,
       "model_id": "d97a1f1b34ff4f30857cd89b75f71c90"
      }
     },
     "metadata": {},
     "output_type": "display_data"
    },
    {
     "data": {
      "text/plain": [
       "Epoch 57/100:   0%|          | 0/1225 [00:00<?, ?it/s]"
      ],
      "application/vnd.jupyter.widget-view+json": {
       "version_major": 2,
       "version_minor": 0,
       "model_id": "c07a9bb3361e4c80a69e336d67cea3f1"
      }
     },
     "metadata": {},
     "output_type": "display_data"
    },
    {
     "data": {
      "text/plain": [
       "Epoch 58/100:   0%|          | 0/1225 [00:00<?, ?it/s]"
      ],
      "application/vnd.jupyter.widget-view+json": {
       "version_major": 2,
       "version_minor": 0,
       "model_id": "a5b3e7bfdded40daae1f39f521301b8e"
      }
     },
     "metadata": {},
     "output_type": "display_data"
    },
    {
     "data": {
      "text/plain": [
       "Epoch 59/100:   0%|          | 0/1225 [00:00<?, ?it/s]"
      ],
      "application/vnd.jupyter.widget-view+json": {
       "version_major": 2,
       "version_minor": 0,
       "model_id": "56c7d8128e6c4d158ef496ff7ee0e570"
      }
     },
     "metadata": {},
     "output_type": "display_data"
    },
    {
     "data": {
      "text/plain": [
       "Epoch 60/100:   0%|          | 0/1225 [00:00<?, ?it/s]"
      ],
      "application/vnd.jupyter.widget-view+json": {
       "version_major": 2,
       "version_minor": 0,
       "model_id": "f3312064ccfc44cfb39fdd6fcf81aca8"
      }
     },
     "metadata": {},
     "output_type": "display_data"
    },
    {
     "data": {
      "text/plain": [
       "Epoch 61/100:   0%|          | 0/1225 [00:00<?, ?it/s]"
      ],
      "application/vnd.jupyter.widget-view+json": {
       "version_major": 2,
       "version_minor": 0,
       "model_id": "944c1e82cea24d66be336cd28de9a289"
      }
     },
     "metadata": {},
     "output_type": "display_data"
    },
    {
     "data": {
      "text/plain": [
       "Epoch 62/100:   0%|          | 0/1225 [00:00<?, ?it/s]"
      ],
      "application/vnd.jupyter.widget-view+json": {
       "version_major": 2,
       "version_minor": 0,
       "model_id": "630d06a79d22429996ee5718946ccd28"
      }
     },
     "metadata": {},
     "output_type": "display_data"
    },
    {
     "data": {
      "text/plain": [
       "Epoch 63/100:   0%|          | 0/1225 [00:00<?, ?it/s]"
      ],
      "application/vnd.jupyter.widget-view+json": {
       "version_major": 2,
       "version_minor": 0,
       "model_id": "c228de84ea5a4699a3330eadd522eef6"
      }
     },
     "metadata": {},
     "output_type": "display_data"
    },
    {
     "data": {
      "text/plain": [
       "Epoch 64/100:   0%|          | 0/1225 [00:00<?, ?it/s]"
      ],
      "application/vnd.jupyter.widget-view+json": {
       "version_major": 2,
       "version_minor": 0,
       "model_id": "17a0f90b30dc4beea90b54018d0d9363"
      }
     },
     "metadata": {},
     "output_type": "display_data"
    },
    {
     "data": {
      "text/plain": [
       "Epoch 65/100:   0%|          | 0/1225 [00:00<?, ?it/s]"
      ],
      "application/vnd.jupyter.widget-view+json": {
       "version_major": 2,
       "version_minor": 0,
       "model_id": "e738a62fa3484d3590e86eba1af7abb2"
      }
     },
     "metadata": {},
     "output_type": "display_data"
    },
    {
     "data": {
      "text/plain": [
       "Epoch 66/100:   0%|          | 0/1225 [00:00<?, ?it/s]"
      ],
      "application/vnd.jupyter.widget-view+json": {
       "version_major": 2,
       "version_minor": 0,
       "model_id": "1885ce641f554e17bedc35fae1e636ef"
      }
     },
     "metadata": {},
     "output_type": "display_data"
    },
    {
     "data": {
      "text/plain": [
       "Epoch 67/100:   0%|          | 0/1225 [00:00<?, ?it/s]"
      ],
      "application/vnd.jupyter.widget-view+json": {
       "version_major": 2,
       "version_minor": 0,
       "model_id": "2ea274a5a3ee4789a505ffc6da0eeb7e"
      }
     },
     "metadata": {},
     "output_type": "display_data"
    },
    {
     "data": {
      "text/plain": [
       "Epoch 68/100:   0%|          | 0/1225 [00:00<?, ?it/s]"
      ],
      "application/vnd.jupyter.widget-view+json": {
       "version_major": 2,
       "version_minor": 0,
       "model_id": "716594786a15465e8010c280df1be127"
      }
     },
     "metadata": {},
     "output_type": "display_data"
    },
    {
     "data": {
      "text/plain": [
       "Epoch 69/100:   0%|          | 0/1225 [00:00<?, ?it/s]"
      ],
      "application/vnd.jupyter.widget-view+json": {
       "version_major": 2,
       "version_minor": 0,
       "model_id": "8646278b4e264c6bb3d41ff2ecb351c2"
      }
     },
     "metadata": {},
     "output_type": "display_data"
    },
    {
     "data": {
      "text/plain": [
       "Epoch 70/100:   0%|          | 0/1225 [00:00<?, ?it/s]"
      ],
      "application/vnd.jupyter.widget-view+json": {
       "version_major": 2,
       "version_minor": 0,
       "model_id": "03eeb9ec3fbc4e1188d821a0c7041d4a"
      }
     },
     "metadata": {},
     "output_type": "display_data"
    },
    {
     "data": {
      "text/plain": [
       "Epoch 71/100:   0%|          | 0/1225 [00:00<?, ?it/s]"
      ],
      "application/vnd.jupyter.widget-view+json": {
       "version_major": 2,
       "version_minor": 0,
       "model_id": "ea20e11c4eb2405688e9e355e426611e"
      }
     },
     "metadata": {},
     "output_type": "display_data"
    },
    {
     "data": {
      "text/plain": [
       "Epoch 72/100:   0%|          | 0/1225 [00:00<?, ?it/s]"
      ],
      "application/vnd.jupyter.widget-view+json": {
       "version_major": 2,
       "version_minor": 0,
       "model_id": "507787f3c6354fe199cc08eae89281c9"
      }
     },
     "metadata": {},
     "output_type": "display_data"
    },
    {
     "data": {
      "text/plain": [
       "Epoch 73/100:   0%|          | 0/1225 [00:00<?, ?it/s]"
      ],
      "application/vnd.jupyter.widget-view+json": {
       "version_major": 2,
       "version_minor": 0,
       "model_id": "16be28ca21e14dda99f65c8869d0771f"
      }
     },
     "metadata": {},
     "output_type": "display_data"
    },
    {
     "data": {
      "text/plain": [
       "Epoch 74/100:   0%|          | 0/1225 [00:00<?, ?it/s]"
      ],
      "application/vnd.jupyter.widget-view+json": {
       "version_major": 2,
       "version_minor": 0,
       "model_id": "5d0dc1d0742743afa9fee602f1b49a33"
      }
     },
     "metadata": {},
     "output_type": "display_data"
    },
    {
     "data": {
      "text/plain": [
       "Epoch 75/100:   0%|          | 0/1225 [00:00<?, ?it/s]"
      ],
      "application/vnd.jupyter.widget-view+json": {
       "version_major": 2,
       "version_minor": 0,
       "model_id": "c61a9e369f054d6e9b1ca352de197494"
      }
     },
     "metadata": {},
     "output_type": "display_data"
    },
    {
     "data": {
      "text/plain": [
       "Epoch 76/100:   0%|          | 0/1225 [00:00<?, ?it/s]"
      ],
      "application/vnd.jupyter.widget-view+json": {
       "version_major": 2,
       "version_minor": 0,
       "model_id": "74612aef5dcc4d3cb0704c9197393afb"
      }
     },
     "metadata": {},
     "output_type": "display_data"
    },
    {
     "data": {
      "text/plain": [
       "Epoch 77/100:   0%|          | 0/1225 [00:00<?, ?it/s]"
      ],
      "application/vnd.jupyter.widget-view+json": {
       "version_major": 2,
       "version_minor": 0,
       "model_id": "dab9048c1096466aa0c11048264525dc"
      }
     },
     "metadata": {},
     "output_type": "display_data"
    },
    {
     "data": {
      "text/plain": [
       "Epoch 78/100:   0%|          | 0/1225 [00:00<?, ?it/s]"
      ],
      "application/vnd.jupyter.widget-view+json": {
       "version_major": 2,
       "version_minor": 0,
       "model_id": "8611ca4b3787468bb49726f18e6255da"
      }
     },
     "metadata": {},
     "output_type": "display_data"
    },
    {
     "data": {
      "text/plain": [
       "Epoch 79/100:   0%|          | 0/1225 [00:00<?, ?it/s]"
      ],
      "application/vnd.jupyter.widget-view+json": {
       "version_major": 2,
       "version_minor": 0,
       "model_id": "d4287d8099b2461ab401c417d7f17b7b"
      }
     },
     "metadata": {},
     "output_type": "display_data"
    },
    {
     "data": {
      "text/plain": [
       "Epoch 80/100:   0%|          | 0/1225 [00:00<?, ?it/s]"
      ],
      "application/vnd.jupyter.widget-view+json": {
       "version_major": 2,
       "version_minor": 0,
       "model_id": "42a7754d4b9a41e7ac369dd9d21bf3ca"
      }
     },
     "metadata": {},
     "output_type": "display_data"
    },
    {
     "data": {
      "text/plain": [
       "Epoch 81/100:   0%|          | 0/1225 [00:00<?, ?it/s]"
      ],
      "application/vnd.jupyter.widget-view+json": {
       "version_major": 2,
       "version_minor": 0,
       "model_id": "2077a355b48c4445a15d40f683f0f5c6"
      }
     },
     "metadata": {},
     "output_type": "display_data"
    },
    {
     "data": {
      "text/plain": [
       "Epoch 82/100:   0%|          | 0/1225 [00:00<?, ?it/s]"
      ],
      "application/vnd.jupyter.widget-view+json": {
       "version_major": 2,
       "version_minor": 0,
       "model_id": "a055fa34230f4d43a8ee981e47a96781"
      }
     },
     "metadata": {},
     "output_type": "display_data"
    },
    {
     "data": {
      "text/plain": [
       "Epoch 83/100:   0%|          | 0/1225 [00:00<?, ?it/s]"
      ],
      "application/vnd.jupyter.widget-view+json": {
       "version_major": 2,
       "version_minor": 0,
       "model_id": "57315d108a5b4eab860268e0ecdf4bce"
      }
     },
     "metadata": {},
     "output_type": "display_data"
    },
    {
     "data": {
      "text/plain": [
       "Epoch 84/100:   0%|          | 0/1225 [00:00<?, ?it/s]"
      ],
      "application/vnd.jupyter.widget-view+json": {
       "version_major": 2,
       "version_minor": 0,
       "model_id": "760d8c57cb2942e78d635ebc9e7fe350"
      }
     },
     "metadata": {},
     "output_type": "display_data"
    },
    {
     "data": {
      "text/plain": [
       "Epoch 85/100:   0%|          | 0/1225 [00:00<?, ?it/s]"
      ],
      "application/vnd.jupyter.widget-view+json": {
       "version_major": 2,
       "version_minor": 0,
       "model_id": "ea84c0bd801b464bb15060e145dc12bc"
      }
     },
     "metadata": {},
     "output_type": "display_data"
    },
    {
     "data": {
      "text/plain": [
       "Epoch 86/100:   0%|          | 0/1225 [00:00<?, ?it/s]"
      ],
      "application/vnd.jupyter.widget-view+json": {
       "version_major": 2,
       "version_minor": 0,
       "model_id": "679ab378657847eda4bac26d7facae51"
      }
     },
     "metadata": {},
     "output_type": "display_data"
    },
    {
     "data": {
      "text/plain": [
       "Epoch 87/100:   0%|          | 0/1225 [00:00<?, ?it/s]"
      ],
      "application/vnd.jupyter.widget-view+json": {
       "version_major": 2,
       "version_minor": 0,
       "model_id": "5b88e288553a4174a5ba41de399fbd6b"
      }
     },
     "metadata": {},
     "output_type": "display_data"
    },
    {
     "data": {
      "text/plain": [
       "Epoch 88/100:   0%|          | 0/1225 [00:00<?, ?it/s]"
      ],
      "application/vnd.jupyter.widget-view+json": {
       "version_major": 2,
       "version_minor": 0,
       "model_id": "5d6e31b558794f38a3f1fdbad3dc8a43"
      }
     },
     "metadata": {},
     "output_type": "display_data"
    },
    {
     "data": {
      "text/plain": [
       "Epoch 89/100:   0%|          | 0/1225 [00:00<?, ?it/s]"
      ],
      "application/vnd.jupyter.widget-view+json": {
       "version_major": 2,
       "version_minor": 0,
       "model_id": "350b589736ab41e89b4029b2af605a6b"
      }
     },
     "metadata": {},
     "output_type": "display_data"
    },
    {
     "data": {
      "text/plain": [
       "Epoch 90/100:   0%|          | 0/1225 [00:00<?, ?it/s]"
      ],
      "application/vnd.jupyter.widget-view+json": {
       "version_major": 2,
       "version_minor": 0,
       "model_id": "a936d12222214966987e029834da4340"
      }
     },
     "metadata": {},
     "output_type": "display_data"
    },
    {
     "data": {
      "text/plain": [
       "Epoch 91/100:   0%|          | 0/1225 [00:00<?, ?it/s]"
      ],
      "application/vnd.jupyter.widget-view+json": {
       "version_major": 2,
       "version_minor": 0,
       "model_id": "9b0c46dfbc39428fafaa2bf395af8e2e"
      }
     },
     "metadata": {},
     "output_type": "display_data"
    },
    {
     "data": {
      "text/plain": [
       "Epoch 92/100:   0%|          | 0/1225 [00:00<?, ?it/s]"
      ],
      "application/vnd.jupyter.widget-view+json": {
       "version_major": 2,
       "version_minor": 0,
       "model_id": "728082a887e84fa0bad5ea2f18beb0b5"
      }
     },
     "metadata": {},
     "output_type": "display_data"
    },
    {
     "data": {
      "text/plain": [
       "Epoch 93/100:   0%|          | 0/1225 [00:00<?, ?it/s]"
      ],
      "application/vnd.jupyter.widget-view+json": {
       "version_major": 2,
       "version_minor": 0,
       "model_id": "5a202337dd31490aa0fcf78359bb62d7"
      }
     },
     "metadata": {},
     "output_type": "display_data"
    },
    {
     "data": {
      "text/plain": [
       "Epoch 94/100:   0%|          | 0/1225 [00:00<?, ?it/s]"
      ],
      "application/vnd.jupyter.widget-view+json": {
       "version_major": 2,
       "version_minor": 0,
       "model_id": "01acc275de58482faf3b417726ef0675"
      }
     },
     "metadata": {},
     "output_type": "display_data"
    },
    {
     "data": {
      "text/plain": [
       "Epoch 95/100:   0%|          | 0/1225 [00:00<?, ?it/s]"
      ],
      "application/vnd.jupyter.widget-view+json": {
       "version_major": 2,
       "version_minor": 0,
       "model_id": "262cee9f7ce34b6b96effc5af73603b3"
      }
     },
     "metadata": {},
     "output_type": "display_data"
    },
    {
     "data": {
      "text/plain": [
       "Epoch 96/100:   0%|          | 0/1225 [00:00<?, ?it/s]"
      ],
      "application/vnd.jupyter.widget-view+json": {
       "version_major": 2,
       "version_minor": 0,
       "model_id": "f6f1ccdb201347dea51eb0a7f17bcde6"
      }
     },
     "metadata": {},
     "output_type": "display_data"
    },
    {
     "data": {
      "text/plain": [
       "Epoch 97/100:   0%|          | 0/1225 [00:00<?, ?it/s]"
      ],
      "application/vnd.jupyter.widget-view+json": {
       "version_major": 2,
       "version_minor": 0,
       "model_id": "0c6c5fc757204c5fa69021f9f34f0bce"
      }
     },
     "metadata": {},
     "output_type": "display_data"
    },
    {
     "data": {
      "text/plain": [
       "Epoch 98/100:   0%|          | 0/1225 [00:00<?, ?it/s]"
      ],
      "application/vnd.jupyter.widget-view+json": {
       "version_major": 2,
       "version_minor": 0,
       "model_id": "f2da5e80c536413ca28f7a6766659521"
      }
     },
     "metadata": {},
     "output_type": "display_data"
    },
    {
     "data": {
      "text/plain": [
       "Epoch 99/100:   0%|          | 0/1225 [00:00<?, ?it/s]"
      ],
      "application/vnd.jupyter.widget-view+json": {
       "version_major": 2,
       "version_minor": 0,
       "model_id": "8da448d13b0a4eac8f1246c1afac4f0c"
      }
     },
     "metadata": {},
     "output_type": "display_data"
    },
    {
     "data": {
      "text/plain": [
       "Epoch 100/100:   0%|          | 0/1225 [00:00<?, ?it/s]"
      ],
      "application/vnd.jupyter.widget-view+json": {
       "version_major": 2,
       "version_minor": 0,
       "model_id": "800b57f24ce74e2591ba29f36a4d6339"
      }
     },
     "metadata": {},
     "output_type": "display_data"
    }
   ],
   "execution_count": 16
  },
  {
   "metadata": {
    "ExecuteTime": {
     "end_time": "2025-05-11T16:31:45.870262Z",
     "start_time": "2025-05-11T16:31:45.822022Z"
    }
   },
   "cell_type": "code",
   "source": [
    "# average\n",
    "print(len(loader.dataset)//BATCH_SIZE)\n",
    "averages_losses = []\n",
    "step = 1224\n",
    "for i in range(len(losses) // step):\n",
    "    averages_losses.append(sum(losses[i*step:(i+1)*step])/step)\n",
    "    \n",
    "\n",
    "plt.plot(range(len(averages_losses)), averages_losses)\n",
    "plt.show()"
   ],
   "id": "3f7ec4f699ea85a1",
   "outputs": [
    {
     "name": "stdout",
     "output_type": "stream",
     "text": [
      "1225\n"
     ]
    },
    {
     "data": {
      "text/plain": [
       "<Figure size 640x480 with 1 Axes>"
      ],
      "image/png": "[encoded data removed]"
     },
     "metadata": {},
     "output_type": "display_data"
    }
   ],
   "execution_count": 18
  },
  {
   "metadata": {
    "ExecuteTime": {
     "end_time": "2025-05-11T16:33:08.756795Z",
     "start_time": "2025-05-11T16:32:50.524457Z"
    }
   },
   "cell_type": "code",
   "source": [
    "model.eval()\n",
    "samples = ddpm.sample(1000)\n",
    "show_images(samples, num=16)"
   ],
   "id": "bc71ce69b16ebab2",
   "outputs": [
    {
     "data": {
      "text/plain": [
       "0it [00:00, ?it/s]"
      ],
      "application/vnd.jupyter.widget-view+json": {
       "version_major": 2,
       "version_minor": 0,
       "model_id": "26ece1a52bff4fb899cbd335e5473cea"
      }
     },
     "metadata": {},
     "output_type": "display_data"
    },
    {
     "data": {
      "text/plain": [
       "<Figure size 1000x1000 with 16 Axes>"
      ],
      "image/png": "[encoded data removed]"
     },
     "metadata": {},
     "output_type": "display_data"
    }
   ],
   "execution_count": 21
  },
  {
   "metadata": {
    "ExecuteTime": {
     "end_time": "2025-05-11T16:34:08.108294Z",
     "start_time": "2025-05-11T16:34:07.843179Z"
    }
   },
   "cell_type": "code",
   "source": [
    "for i in range(samples.size(0)):\n",
    "    img = denorm(samples[i])\n",
    "    save_image(img, f\"model3/images/image_{i:04d}.png\")"
   ],
   "id": "20106c58a1a84a09",
   "outputs": [],
   "execution_count": 23
  },
  {
   "metadata": {
    "ExecuteTime": {
     "end_time": "2025-05-11T16:34:27.114119Z",
     "start_time": "2025-05-11T16:34:27.081677Z"
    }
   },
   "cell_type": "code",
   "source": [
    "state_dict = model.state_dict()\n",
    "torch.save(state_dict, \"traffic_generative_diffusion_v3.tar\")"
   ],
   "id": "b5638852c514a6b9",
   "outputs": [],
   "execution_count": 24
  },
  {
   "metadata": {},
   "cell_type": "markdown",
   "source": "# Evaluation",
   "id": "c9fc643164939126"
  },
  {
   "metadata": {
    "ExecuteTime": {
     "end_time": "2025-05-11T16:39:53.133910Z",
     "start_time": "2025-05-11T16:39:53.117965Z"
    }
   },
   "cell_type": "code",
   "source": [
    "class Evaluator(nn.Module):\n",
    "    def __init__(self, input_dim, hidden_dim):\n",
    "        super(Evaluator, self).__init__()\n",
    "\n",
    "        self.fc_1 = nn.Linear(input_dim, hidden_dim)\n",
    "        self.fc_2 = nn.Linear(hidden_dim, 50)\n",
    "        self.fc_out  = nn.Linear(50, 43)\n",
    "        \n",
    "        self.LeakyReLU = nn.LeakyReLU(0.2)\n",
    "        \n",
    "    def get_features(self, x):\n",
    "        x = torch.flatten(x, 1)\n",
    "        x = self.LeakyReLU(self.fc_1(x))\n",
    "        x = self.LeakyReLU(self.fc_2(x))\n",
    "        return x\n",
    "    \n",
    "\n",
    "    def forward(self, x):\n",
    "        x = self.get_features(x)\n",
    "        x = self.fc_out(x)\n",
    "        return x\n",
    "\n",
    "evaluator = Evaluator(3*32*32, 256).to(device)"
   ],
   "id": "f7f14a2e516074f0",
   "outputs": [],
   "execution_count": 25
  },
  {
   "metadata": {
    "ExecuteTime": {
     "end_time": "2025-05-11T16:39:54.206092Z",
     "start_time": "2025-05-11T16:39:54.203895Z"
    }
   },
   "cell_type": "code",
   "source": [
    "# Optimizers\n",
    "optimizer = torch.optim.Adam(evaluator.parameters(), lr=0.001)\n",
    "scheduler = torch.optim.lr_scheduler.ExponentialLR(optimizer=optimizer, gamma=0.97)\n",
    "\n",
    "# loss\n",
    "criterion = nn.CrossEntropyLoss()"
   ],
   "id": "a8083b0a3f2c60b7",
   "outputs": [],
   "execution_count": 26
  },
  {
   "metadata": {
    "ExecuteTime": {
     "end_time": "2025-05-11T16:40:45.576526Z",
     "start_time": "2025-05-11T16:39:56.579116Z"
    }
   },
   "cell_type": "code",
   "source": [
    "num_epochs = 10\n",
    "for epoch in range(num_epochs):\n",
    "    for data, targets in iter(loader):\n",
    "        data = data.to(device)\n",
    "        targets = targets.to(device)\n",
    "\n",
    "        results = evaluator(data)\n",
    "        loss = criterion(results, targets)\n",
    "\n",
    "        optimizer.zero_grad()\n",
    "        loss.backward()\n",
    "        optimizer.step()\n",
    "    print(loss.item())"
   ],
   "id": "892ac2b29562a753",
   "outputs": [
    {
     "name": "stdout",
     "output_type": "stream",
     "text": [
      "0.9224392771720886\n",
      "1.0828784704208374\n",
      "0.3075757622718811\n",
      "1.3805972337722778\n",
      "0.48788511753082275\n",
      "0.21699951589107513\n",
      "0.1607206016778946\n",
      "0.3006042242050171\n",
      "0.3433392643928528\n",
      "0.2515786290168762\n"
     ]
    }
   ],
   "execution_count": 27
  },
  {
   "metadata": {
    "ExecuteTime": {
     "end_time": "2025-05-11T13:44:11.103202Z",
     "start_time": "2025-05-11T13:44:04.555300Z"
    }
   },
   "cell_type": "code",
   "source": [
    "orig_data = [x[0] for x in list(train_data)[:1000]]\n",
    "orig_data = torch.cat(orig_data).view(1000, 3, 32, 32)"
   ],
   "id": "491c527ea1a37f5f",
   "outputs": [],
   "execution_count": 55
  },
  {
   "metadata": {
    "ExecuteTime": {
     "end_time": "2025-05-11T14:03:32.216830Z",
     "start_time": "2025-05-11T14:03:32.213389Z"
    }
   },
   "cell_type": "code",
   "source": [
    "with torch.no_grad():\n",
    "    dist_orig_data = evaluator.get_features(orig_data.to(device)).cpu()\n",
    "    dist_diff = evaluator.get_features(samples.to(device)).cpu()"
   ],
   "id": "a36f387b68d21ee1",
   "outputs": [],
   "execution_count": 71
  },
  {
   "metadata": {
    "ExecuteTime": {
     "end_time": "2025-05-11T13:44:43.333699Z",
     "start_time": "2025-05-11T13:44:43.330379Z"
    }
   },
   "cell_type": "code",
   "source": [
    "######### Frechet Inception distance based on implementation from https://github.com/mseitzer/pytorch-fid\n",
    "\n",
    "import numpy as np\n",
    "from scipy import linalg\n",
    "\n",
    "\n",
    "def calculate_frechet_distance(distribution_1, distribution_2, eps=1e-6):\n",
    "    mu1 = np.mean(distribution_1, axis=0)\n",
    "    sigma1 = np.cov(distribution_1, rowvar=False)\n",
    "\n",
    "    mu2 = np.mean(distribution_2, axis=0)\n",
    "    sigma2 = np.cov(distribution_2, rowvar=False)\n",
    "\n",
    "    \"\"\"Numpy implementation of the Frechet Distance.\n",
    "    The Frechet distance between two multivariate Gaussians X_1 ~ N(mu_1, C_1)\n",
    "    and X_2 ~ N(mu_2, C_2) is\n",
    "            d^2 = ||mu_1 - mu_2||^2 + Tr(C_1 + C_2 - 2*sqrt(C_1*C_2)).\n",
    "    Stable version by Dougal J. Sutherland.\n",
    "    Params:\n",
    "    -- mu1   : Numpy array containing the activations of a layer of the\n",
    "               inception net (like returned by the function 'get_predictions')\n",
    "               for generated samples.\n",
    "    -- mu2   : The sample mean over activations, precalculated on an\n",
    "               representative data set.\n",
    "    -- sigma1: The covariance matrix over activations for generated samples.\n",
    "    -- sigma2: The covariance matrix over activations, precalculated on an\n",
    "               representative data set.\n",
    "    Returns:\n",
    "    --   : The Frechet Distance.\n",
    "    \"\"\"\n",
    "\n",
    "    mu1 = np.atleast_1d(mu1)\n",
    "    mu2 = np.atleast_1d(mu2)\n",
    "\n",
    "    sigma1 = np.atleast_2d(sigma1)\n",
    "    sigma2 = np.atleast_2d(sigma2)\n",
    "\n",
    "    assert mu1.shape == mu2.shape, \\\n",
    "        'Training and test mean vectors have different lengths'\n",
    "    assert sigma1.shape == sigma2.shape, \\\n",
    "        'Training and test covariances have different dimensions'\n",
    "\n",
    "    diff = mu1 - mu2\n",
    "\n",
    "    # Product might be almost singular\n",
    "    covmean, _ = linalg.sqrtm(sigma1.dot(sigma2), disp=False)\n",
    "    if not np.isfinite(covmean).all():\n",
    "        msg = ('fid calculation produces singular product; '\n",
    "               'adding %s to diagonal of cov estimates') % eps\n",
    "        print(msg)\n",
    "        offset = np.eye(sigma1.shape[0]) * eps\n",
    "        covmean = linalg.sqrtm((sigma1 + offset).dot(sigma2 + offset))\n",
    "\n",
    "    # Numerical error might give slight imaginary component\n",
    "    if np.iscomplexobj(covmean):\n",
    "        if not np.allclose(np.diagonal(covmean).imag, 0, atol=1e-3):\n",
    "            m = np.max(np.abs(covmean.imag))\n",
    "            raise ValueError('Imaginary component {}'.format(m))\n",
    "        covmean = covmean.real\n",
    "\n",
    "    tr_covmean = np.trace(covmean)\n",
    "\n",
    "    return (diff.dot(diff) + np.trace(sigma1) +\n",
    "            np.trace(sigma2) - 2 * tr_covmean)"
   ],
   "id": "8608854a4243bb6e",
   "outputs": [],
   "execution_count": 57
  },
  {
   "metadata": {
    "ExecuteTime": {
     "end_time": "2025-05-11T14:03:36.277726Z",
     "start_time": "2025-05-11T14:03:36.273223Z"
    }
   },
   "cell_type": "code",
   "source": [
    "for name, obj in zip(['orig','diff','gan','cond_gan'],[dist_orig_data.numpy(),dist_diff.numpy()]):\n",
    "    print(f\"FD {name}: {calculate_frechet_distance(dist_orig_data.numpy(),obj)}\")"
   ],
   "id": "14e4c0d520ef61f",
   "outputs": [
    {
     "name": "stdout",
     "output_type": "stream",
     "text": [
      "FD orig: 2.8194335754960775e-11\n",
      "FD diff: 3899.357834478981\n"
     ]
    }
   ],
   "execution_count": 72
  },
  {
   "metadata": {},
   "cell_type": "code",
   "outputs": [],
   "execution_count": null,
   "source": "",
   "id": "5206e099b52eb607"
  }
 ],
 "metadata": {
  "kernelspec": {
   "display_name": "Python 3",
   "language": "python",
   "name": "python3"
  },
  "language_info": {
   "codemirror_mode": {
    "name": "ipython",
    "version": 2
   },
   "file_extension": ".py",
   "mimetype": "text/x-python",
   "name": "python",
   "nbconvert_exporter": "python",
   "pygments_lexer": "ipython2",
   "version": "2.7.6"
  }
 },
 "nbformat": 4,
 "nbformat_minor": 5
}
