{
 "cells": [
  {
   "cell_type": "code",
   "id": "initial_id",
   "metadata": {
    "collapsed": true,
    "ExecuteTime": {
     "end_time": "2025-05-11T14:34:46.854438Z",
     "start_time": "2025-05-11T14:34:46.852264Z"
    }
   },
   "source": [
    "import torch\n",
    "import torch.nn as nn\n",
    "import torch.nn.functional as F\n",
    "import torchvision\n",
    "import torchvision.transforms as T\n",
    "from torch.utils.data import DataLoader\n",
    "from torchvision.datasets import ImageFolder\n",
    "from torchvision.utils import save_image\n",
    "from tqdm import tqdm\n",
    "import os\n",
    "import numpy as np\n",
    "import matplotlib.pyplot as plt\n",
    "from tqdm.notebook import tqdm\n",
    "import sys"
   ],
   "outputs": [],
   "execution_count": 103
  },
  {
   "metadata": {
    "ExecuteTime": {
     "end_time": "2025-05-11T14:34:47.053946Z",
     "start_time": "2025-05-11T14:34:46.898483Z"
    }
   },
   "cell_type": "code",
   "source": [
    "import gc\n",
    "torch.cuda.empty_cache()\n",
    "gc.collect()\n"
   ],
   "id": "f67a59f10a10428",
   "outputs": [
    {
     "data": {
      "text/plain": [
       "151134"
      ]
     },
     "execution_count": 104,
     "metadata": {},
     "output_type": "execute_result"
    }
   ],
   "execution_count": 104
  },
  {
   "metadata": {},
   "cell_type": "markdown",
   "source": "## Setup",
   "id": "dec344bff4b3721d"
  },
  {
   "metadata": {
    "ExecuteTime": {
     "end_time": "2025-05-11T15:09:29.232819Z",
     "start_time": "2025-05-11T15:09:29.230856Z"
    }
   },
   "cell_type": "code",
   "source": [
    "device = torch.device(\"cuda\" if torch.cuda.is_available() else \"cpu\")\n",
    "print(device)\n",
    "\n",
    "IMG_SIZE = 32\n",
    "BATCH_SIZE = 32\n",
    "EPOCHS = 100\n",
    "NUM_SAMPLES = 1000"
   ],
   "id": "4e1675b036642194",
   "outputs": [
    {
     "name": "stdout",
     "output_type": "stream",
     "text": [
      "cuda\n"
     ]
    }
   ],
   "execution_count": 120
  },
  {
   "metadata": {},
   "cell_type": "markdown",
   "source": "## Load data",
   "id": "733e878e089d9b54"
  },
  {
   "metadata": {
    "ExecuteTime": {
     "end_time": "2025-05-11T14:34:47.530974Z",
     "start_time": "2025-05-11T14:34:47.241458Z"
    }
   },
   "cell_type": "code",
   "source": [
    "transform = T.Compose([\n",
    "    T.Resize((IMG_SIZE, IMG_SIZE)),\n",
    "    T.ToTensor(),\n",
    "    T.Normalize([0.5]*3, [0.5]*3),\n",
    "])\n",
    "\n",
    "train_data = ImageFolder('train/', transform=transform)\n",
    "loader = DataLoader(train_data, batch_size=BATCH_SIZE, shuffle=True, drop_last=True, pin_memory=True, num_workers=4)"
   ],
   "id": "eadeb4f897f83c69",
   "outputs": [],
   "execution_count": 106
  },
  {
   "metadata": {},
   "cell_type": "markdown",
   "source": "## Diffusion model",
   "id": "32fbb44c385cec3c"
  },
  {
   "metadata": {
    "ExecuteTime": {
     "end_time": "2025-05-11T15:18:50.468611Z",
     "start_time": "2025-05-11T15:18:50.463613Z"
    }
   },
   "cell_type": "code",
   "source": [
    "class Block(nn.Module):\n",
    "    def __init__(self, in_ch, out_ch):\n",
    "        super().__init__()\n",
    "        self.conv = nn.Sequential(\n",
    "            nn.Conv2d(in_ch, out_ch, 3, padding=1),\n",
    "            nn.LeakyReLU(),\n",
    "            nn.Conv2d(out_ch, out_ch, 3, padding=1),\n",
    "            nn.LeakyReLU()\n",
    "        )\n",
    "\n",
    "    def forward(self, x):\n",
    "        return self.conv(x)\n",
    "\n",
    "class SimpleUNet(nn.Module):\n",
    "    def __init__(self):\n",
    "        super().__init__()\n",
    "        self.down1 = Block(3, 64)\n",
    "        self.pool1 = nn.MaxPool2d(2)\n",
    "        self.down2 = Block(64, 128)\n",
    "        self.pool2 = nn.MaxPool2d(2)\n",
    "\n",
    "        self.middle = Block(128, 128)\n",
    "\n",
    "        self.up1 = nn.ConvTranspose2d(128, 128, 2, stride=2)\n",
    "        self.up_block1 = Block(128 + 128, 64)\n",
    "        self.up2 = nn.ConvTranspose2d(64, 64, 2, stride=2)\n",
    "        self.up_block2 = Block(64 + 64, 32)\n",
    "\n",
    "        self.out = nn.Conv2d(32, 3, 1)\n",
    "\n",
    "    def forward(self, x, t_embed):\n",
    "        d1 = self.down1(x)\n",
    "        d2 = self.down2(self.pool1(d1))\n",
    "        m = self.middle(self.pool2(d2))\n",
    "        u1 = self.up1(m)\n",
    "        u1 = self.up_block1(torch.cat([u1, d2], dim=1))\n",
    "        u2 = self.up2(u1)\n",
    "        u2 = self.up_block2(torch.cat([u2, d1], dim=1))\n",
    "        return self.out(u2)\n",
    "\n",
    "\n",
    "@torch.no_grad()\n",
    "def denorm(x):\n",
    "    return x * 0.5 + 0.5\n",
    "\n",
    "@torch.no_grad()\n",
    "def show_images(images, num=16):\n",
    "    images = denorm(images[:num].cpu()).permute(0, 2, 3, 1).numpy()\n",
    "    fig, axes = plt.subplots(int(num ** 0.5), int(num ** 0.5), figsize=(10, 10))\n",
    "    for i, ax in enumerate(axes.flat):\n",
    "        ax.imshow(np.clip(images[i], 0, 1))\n",
    "        ax.axis('off')\n",
    "    plt.tight_layout()\n",
    "    plt.show()\n",
    "\n",
    "def get_beta_schedule(T, beta_start=1e-4, beta_end=0.02):\n",
    "    return torch.linspace(beta_start, beta_end, T)\n",
    "\n",
    "class DDPM:\n",
    "    def __init__(self, model, T=500):\n",
    "        self.model = model.to(device)\n",
    "        self.T = T\n",
    "        self.betas = get_beta_schedule(T).to(device)\n",
    "        self.alphas = 1. - self.betas\n",
    "        self.alpha_hat = torch.cumprod(self.alphas, dim=0)\n",
    "\n",
    "    def noise_images(self, x0, t):\n",
    "        sqrt_alpha_hat = torch.sqrt(self.alpha_hat[t])[:, None, None, None]\n",
    "        sqrt_one_minus_alpha_hat = torch.sqrt(1 - self.alpha_hat[t])[:, None, None, None]\n",
    "        noise = torch.randn_like(x0)\n",
    "        return sqrt_alpha_hat * x0 + sqrt_one_minus_alpha_hat * noise, noise\n",
    "\n",
    "    def train_step(self, x0):\n",
    "        t = torch.randint(0, self.T, (x0.shape[0],), device=device).long()\n",
    "        xt, noise = self.noise_images(x0, t)\n",
    "        pred = self.model(xt, t.float() / self.T)\n",
    "        return F.mse_loss(pred, noise)\n",
    "    \n",
    "    @torch.no_grad()\n",
    "    def sample(self, n):\n",
    "        x = torch.randn(n, 3, IMG_SIZE, IMG_SIZE).to(device)\n",
    "        for t in tqdm(reversed(range(self.T))):\n",
    "            z = torch.randn_like(x) if t > 0 else 0\n",
    "            alpha = self.alphas[t]\n",
    "            alpha_hat = self.alpha_hat[t]\n",
    "            beta = self.betas[t]\n",
    "\n",
    "            pred_noise = self.model(x, torch.tensor([t / self.T]).to(device).repeat(n))\n",
    "\n",
    "            x = (1 / torch.sqrt(alpha)) * (x - (1 - alpha) / torch.sqrt(1 - alpha_hat) * pred_noise) + torch.sqrt(beta) * z\n",
    "        torch.cuda.empty_cache()\n",
    "        return x"
   ],
   "id": "74bf49d9d7298d3e",
   "outputs": [],
   "execution_count": 126
  },
  {
   "metadata": {},
   "cell_type": "markdown",
   "source": "### Train the model",
   "id": "70737a84caef5bad"
  },
  {
   "metadata": {
    "ExecuteTime": {
     "end_time": "2025-05-11T15:27:15.551080Z",
     "start_time": "2025-05-11T15:18:52.398288Z"
    }
   },
   "cell_type": "code",
   "source": [
    "model = SimpleUNet()\n",
    "ddpm = DDPM(model)\n",
    "optimizer = torch.optim.Adam(model.parameters(), lr=1e-3)\n",
    "scheduler = torch.optim.lr_scheduler.StepLR(optimizer, step_size=15, gamma=0.1)\n",
    "\n",
    "losses = []\n",
    "for epoch in range(EPOCHS):\n",
    "    progress_bar = tqdm(loader, desc=f\"Epoch {epoch+1}/{EPOCHS}\", leave=True)\n",
    "    \n",
    "    for batch in progress_bar:\n",
    "        x, _ = batch\n",
    "        x = x.to(device)\n",
    "        loss = ddpm.train_step(x)\n",
    "        optimizer.zero_grad()\n",
    "        loss.backward()\n",
    "        optimizer.step()\n",
    "        losses.append(loss.item())\n",
    "        progress_bar.set_postfix(loss=f\"{loss.item():.4f}\")\n",
    "    scheduler.step()"
   ],
   "id": "4c9506700ea83130",
   "outputs": [
    {
     "data": {
      "text/plain": [
       "Epoch 1/100:   0%|          | 0/1225 [00:00<?, ?it/s]"
      ],
      "application/vnd.jupyter.widget-view+json": {
       "version_major": 2,
       "version_minor": 0,
       "model_id": "453ef69d3ba643549c894cdff3eed8fb"
      }
     },
     "metadata": {},
     "output_type": "display_data"
    },
    {
     "data": {
      "text/plain": [
       "Epoch 2/100:   0%|          | 0/1225 [00:00<?, ?it/s]"
      ],
      "application/vnd.jupyter.widget-view+json": {
       "version_major": 2,
       "version_minor": 0,
       "model_id": "d8668c7e2edc46e7a7985dc001b9ee59"
      }
     },
     "metadata": {},
     "output_type": "display_data"
    },
    {
     "data": {
      "text/plain": [
       "Epoch 3/100:   0%|          | 0/1225 [00:00<?, ?it/s]"
      ],
      "application/vnd.jupyter.widget-view+json": {
       "version_major": 2,
       "version_minor": 0,
       "model_id": "060d941a9adf41008978b66ed456f08d"
      }
     },
     "metadata": {},
     "output_type": "display_data"
    },
    {
     "data": {
      "text/plain": [
       "Epoch 4/100:   0%|          | 0/1225 [00:00<?, ?it/s]"
      ],
      "application/vnd.jupyter.widget-view+json": {
       "version_major": 2,
       "version_minor": 0,
       "model_id": "88cb0b7f99504f4091a56f8895858bf3"
      }
     },
     "metadata": {},
     "output_type": "display_data"
    },
    {
     "data": {
      "text/plain": [
       "Epoch 5/100:   0%|          | 0/1225 [00:00<?, ?it/s]"
      ],
      "application/vnd.jupyter.widget-view+json": {
       "version_major": 2,
       "version_minor": 0,
       "model_id": "cb488c11e0214d38ba6c1681e9d20652"
      }
     },
     "metadata": {},
     "output_type": "display_data"
    },
    {
     "data": {
      "text/plain": [
       "Epoch 6/100:   0%|          | 0/1225 [00:00<?, ?it/s]"
      ],
      "application/vnd.jupyter.widget-view+json": {
       "version_major": 2,
       "version_minor": 0,
       "model_id": "530525f2d78740c194a515d8f672ebfb"
      }
     },
     "metadata": {},
     "output_type": "display_data"
    },
    {
     "data": {
      "text/plain": [
       "Epoch 7/100:   0%|          | 0/1225 [00:00<?, ?it/s]"
      ],
      "application/vnd.jupyter.widget-view+json": {
       "version_major": 2,
       "version_minor": 0,
       "model_id": "6893b94d368e452fbcebdac70c726a8b"
      }
     },
     "metadata": {},
     "output_type": "display_data"
    },
    {
     "data": {
      "text/plain": [
       "Epoch 8/100:   0%|          | 0/1225 [00:00<?, ?it/s]"
      ],
      "application/vnd.jupyter.widget-view+json": {
       "version_major": 2,
       "version_minor": 0,
       "model_id": "28070945e50b4d28ac7d7ac325b28db6"
      }
     },
     "metadata": {},
     "output_type": "display_data"
    },
    {
     "data": {
      "text/plain": [
       "Epoch 9/100:   0%|          | 0/1225 [00:00<?, ?it/s]"
      ],
      "application/vnd.jupyter.widget-view+json": {
       "version_major": 2,
       "version_minor": 0,
       "model_id": "023696afb9c04ac5b39f5b619afddb08"
      }
     },
     "metadata": {},
     "output_type": "display_data"
    },
    {
     "data": {
      "text/plain": [
       "Epoch 10/100:   0%|          | 0/1225 [00:00<?, ?it/s]"
      ],
      "application/vnd.jupyter.widget-view+json": {
       "version_major": 2,
       "version_minor": 0,
       "model_id": "141cda71eb6449d7a7fad07045f0c0bd"
      }
     },
     "metadata": {},
     "output_type": "display_data"
    },
    {
     "data": {
      "text/plain": [
       "Epoch 11/100:   0%|          | 0/1225 [00:00<?, ?it/s]"
      ],
      "application/vnd.jupyter.widget-view+json": {
       "version_major": 2,
       "version_minor": 0,
       "model_id": "fea8a29eb3234ed1a36afe1cd7f62d6a"
      }
     },
     "metadata": {},
     "output_type": "display_data"
    },
    {
     "data": {
      "text/plain": [
       "Epoch 12/100:   0%|          | 0/1225 [00:00<?, ?it/s]"
      ],
      "application/vnd.jupyter.widget-view+json": {
       "version_major": 2,
       "version_minor": 0,
       "model_id": "286a4836d80849328b340deb87841aa5"
      }
     },
     "metadata": {},
     "output_type": "display_data"
    },
    {
     "data": {
      "text/plain": [
       "Epoch 13/100:   0%|          | 0/1225 [00:00<?, ?it/s]"
      ],
      "application/vnd.jupyter.widget-view+json": {
       "version_major": 2,
       "version_minor": 0,
       "model_id": "3684047e074c424c8df0766f1feecf1c"
      }
     },
     "metadata": {},
     "output_type": "display_data"
    },
    {
     "data": {
      "text/plain": [
       "Epoch 14/100:   0%|          | 0/1225 [00:00<?, ?it/s]"
      ],
      "application/vnd.jupyter.widget-view+json": {
       "version_major": 2,
       "version_minor": 0,
       "model_id": "fd3112818de94b5ba6152a267902407e"
      }
     },
     "metadata": {},
     "output_type": "display_data"
    },
    {
     "data": {
      "text/plain": [
       "Epoch 15/100:   0%|          | 0/1225 [00:00<?, ?it/s]"
      ],
      "application/vnd.jupyter.widget-view+json": {
       "version_major": 2,
       "version_minor": 0,
       "model_id": "1e4d3096328847ca87743478909764b3"
      }
     },
     "metadata": {},
     "output_type": "display_data"
    },
    {
     "data": {
      "text/plain": [
       "Epoch 16/100:   0%|          | 0/1225 [00:00<?, ?it/s]"
      ],
      "application/vnd.jupyter.widget-view+json": {
       "version_major": 2,
       "version_minor": 0,
       "model_id": "79fdee3e6adf4f2089cc70036ac2cfbf"
      }
     },
     "metadata": {},
     "output_type": "display_data"
    },
    {
     "data": {
      "text/plain": [
       "Epoch 17/100:   0%|          | 0/1225 [00:00<?, ?it/s]"
      ],
      "application/vnd.jupyter.widget-view+json": {
       "version_major": 2,
       "version_minor": 0,
       "model_id": "fcc060254bc84338b5d9d1322f183f4e"
      }
     },
     "metadata": {},
     "output_type": "display_data"
    },
    {
     "data": {
      "text/plain": [
       "Epoch 18/100:   0%|          | 0/1225 [00:00<?, ?it/s]"
      ],
      "application/vnd.jupyter.widget-view+json": {
       "version_major": 2,
       "version_minor": 0,
       "model_id": "c07951b6fc1c4f54875e3e5914dd7a91"
      }
     },
     "metadata": {},
     "output_type": "display_data"
    },
    {
     "data": {
      "text/plain": [
       "Epoch 19/100:   0%|          | 0/1225 [00:00<?, ?it/s]"
      ],
      "application/vnd.jupyter.widget-view+json": {
       "version_major": 2,
       "version_minor": 0,
       "model_id": "5220063e58804776a4f8c7d3057a6839"
      }
     },
     "metadata": {},
     "output_type": "display_data"
    },
    {
     "data": {
      "text/plain": [
       "Epoch 20/100:   0%|          | 0/1225 [00:00<?, ?it/s]"
      ],
      "application/vnd.jupyter.widget-view+json": {
       "version_major": 2,
       "version_minor": 0,
       "model_id": "c0fb8aa276904108b873f9a8b808e065"
      }
     },
     "metadata": {},
     "output_type": "display_data"
    },
    {
     "data": {
      "text/plain": [
       "Epoch 21/100:   0%|          | 0/1225 [00:00<?, ?it/s]"
      ],
      "application/vnd.jupyter.widget-view+json": {
       "version_major": 2,
       "version_minor": 0,
       "model_id": "59e85dc8c75e44c298a09b20498df446"
      }
     },
     "metadata": {},
     "output_type": "display_data"
    },
    {
     "data": {
      "text/plain": [
       "Epoch 22/100:   0%|          | 0/1225 [00:00<?, ?it/s]"
      ],
      "application/vnd.jupyter.widget-view+json": {
       "version_major": 2,
       "version_minor": 0,
       "model_id": "128f5e8f23924684988467510f1969b9"
      }
     },
     "metadata": {},
     "output_type": "display_data"
    },
    {
     "data": {
      "text/plain": [
       "Epoch 23/100:   0%|          | 0/1225 [00:00<?, ?it/s]"
      ],
      "application/vnd.jupyter.widget-view+json": {
       "version_major": 2,
       "version_minor": 0,
       "model_id": "aa0c999e61084136822ffbabafcdb02b"
      }
     },
     "metadata": {},
     "output_type": "display_data"
    },
    {
     "data": {
      "text/plain": [
       "Epoch 24/100:   0%|          | 0/1225 [00:00<?, ?it/s]"
      ],
      "application/vnd.jupyter.widget-view+json": {
       "version_major": 2,
       "version_minor": 0,
       "model_id": "327802978e214c8b9cef0e0566ba9ea6"
      }
     },
     "metadata": {},
     "output_type": "display_data"
    },
    {
     "data": {
      "text/plain": [
       "Epoch 25/100:   0%|          | 0/1225 [00:00<?, ?it/s]"
      ],
      "application/vnd.jupyter.widget-view+json": {
       "version_major": 2,
       "version_minor": 0,
       "model_id": "f0cdafb54aaf4a57a8611bcb7fdf1704"
      }
     },
     "metadata": {},
     "output_type": "display_data"
    },
    {
     "data": {
      "text/plain": [
       "Epoch 26/100:   0%|          | 0/1225 [00:00<?, ?it/s]"
      ],
      "application/vnd.jupyter.widget-view+json": {
       "version_major": 2,
       "version_minor": 0,
       "model_id": "b232c18054a74fc591c02d2a1879702d"
      }
     },
     "metadata": {},
     "output_type": "display_data"
    },
    {
     "data": {
      "text/plain": [
       "Epoch 27/100:   0%|          | 0/1225 [00:00<?, ?it/s]"
      ],
      "application/vnd.jupyter.widget-view+json": {
       "version_major": 2,
       "version_minor": 0,
       "model_id": "4955121ae4274ac3b1127048b90a77da"
      }
     },
     "metadata": {},
     "output_type": "display_data"
    },
    {
     "data": {
      "text/plain": [
       "Epoch 28/100:   0%|          | 0/1225 [00:00<?, ?it/s]"
      ],
      "application/vnd.jupyter.widget-view+json": {
       "version_major": 2,
       "version_minor": 0,
       "model_id": "8ef188c770d64f9a9ea12c2b10876f1a"
      }
     },
     "metadata": {},
     "output_type": "display_data"
    },
    {
     "data": {
      "text/plain": [
       "Epoch 29/100:   0%|          | 0/1225 [00:00<?, ?it/s]"
      ],
      "application/vnd.jupyter.widget-view+json": {
       "version_major": 2,
       "version_minor": 0,
       "model_id": "f4c32b2dc3ba4633a57d6e83712b0ad9"
      }
     },
     "metadata": {},
     "output_type": "display_data"
    },
    {
     "data": {
      "text/plain": [
       "Epoch 30/100:   0%|          | 0/1225 [00:00<?, ?it/s]"
      ],
      "application/vnd.jupyter.widget-view+json": {
       "version_major": 2,
       "version_minor": 0,
       "model_id": "bf07231cc46a4bb9977937b175da18fb"
      }
     },
     "metadata": {},
     "output_type": "display_data"
    },
    {
     "data": {
      "text/plain": [
       "Epoch 31/100:   0%|          | 0/1225 [00:00<?, ?it/s]"
      ],
      "application/vnd.jupyter.widget-view+json": {
       "version_major": 2,
       "version_minor": 0,
       "model_id": "4981366651494180a1d154e6c8151f74"
      }
     },
     "metadata": {},
     "output_type": "display_data"
    },
    {
     "data": {
      "text/plain": [
       "Epoch 32/100:   0%|          | 0/1225 [00:00<?, ?it/s]"
      ],
      "application/vnd.jupyter.widget-view+json": {
       "version_major": 2,
       "version_minor": 0,
       "model_id": "94cd5d2e0ab54f4b9b01fb2d6a9aec67"
      }
     },
     "metadata": {},
     "output_type": "display_data"
    },
    {
     "data": {
      "text/plain": [
       "Epoch 33/100:   0%|          | 0/1225 [00:00<?, ?it/s]"
      ],
      "application/vnd.jupyter.widget-view+json": {
       "version_major": 2,
       "version_minor": 0,
       "model_id": "0baa0bbd3eac47c8a2b9863b7fa15718"
      }
     },
     "metadata": {},
     "output_type": "display_data"
    },
    {
     "data": {
      "text/plain": [
       "Epoch 34/100:   0%|          | 0/1225 [00:00<?, ?it/s]"
      ],
      "application/vnd.jupyter.widget-view+json": {
       "version_major": 2,
       "version_minor": 0,
       "model_id": "e1935e6b8c2a44d09d76a14933de817f"
      }
     },
     "metadata": {},
     "output_type": "display_data"
    },
    {
     "data": {
      "text/plain": [
       "Epoch 35/100:   0%|          | 0/1225 [00:00<?, ?it/s]"
      ],
      "application/vnd.jupyter.widget-view+json": {
       "version_major": 2,
       "version_minor": 0,
       "model_id": "c344a243c5964ba0a0311f459c027c29"
      }
     },
     "metadata": {},
     "output_type": "display_data"
    },
    {
     "data": {
      "text/plain": [
       "Epoch 36/100:   0%|          | 0/1225 [00:00<?, ?it/s]"
      ],
      "application/vnd.jupyter.widget-view+json": {
       "version_major": 2,
       "version_minor": 0,
       "model_id": "8d701e05d0fa4f36bd375bf68897c606"
      }
     },
     "metadata": {},
     "output_type": "display_data"
    },
    {
     "data": {
      "text/plain": [
       "Epoch 37/100:   0%|          | 0/1225 [00:00<?, ?it/s]"
      ],
      "application/vnd.jupyter.widget-view+json": {
       "version_major": 2,
       "version_minor": 0,
       "model_id": "31e18952bcaa4c499121c95c09e072b5"
      }
     },
     "metadata": {},
     "output_type": "display_data"
    },
    {
     "data": {
      "text/plain": [
       "Epoch 38/100:   0%|          | 0/1225 [00:00<?, ?it/s]"
      ],
      "application/vnd.jupyter.widget-view+json": {
       "version_major": 2,
       "version_minor": 0,
       "model_id": "933645660693419aa585b0173228f4f1"
      }
     },
     "metadata": {},
     "output_type": "display_data"
    },
    {
     "data": {
      "text/plain": [
       "Epoch 39/100:   0%|          | 0/1225 [00:00<?, ?it/s]"
      ],
      "application/vnd.jupyter.widget-view+json": {
       "version_major": 2,
       "version_minor": 0,
       "model_id": "04b1fe02e2724226aeec43bc4bcc66bc"
      }
     },
     "metadata": {},
     "output_type": "display_data"
    },
    {
     "data": {
      "text/plain": [
       "Epoch 40/100:   0%|          | 0/1225 [00:00<?, ?it/s]"
      ],
      "application/vnd.jupyter.widget-view+json": {
       "version_major": 2,
       "version_minor": 0,
       "model_id": "6e9ca0863f004cac909e31e0096f8ae5"
      }
     },
     "metadata": {},
     "output_type": "display_data"
    },
    {
     "data": {
      "text/plain": [
       "Epoch 41/100:   0%|          | 0/1225 [00:00<?, ?it/s]"
      ],
      "application/vnd.jupyter.widget-view+json": {
       "version_major": 2,
       "version_minor": 0,
       "model_id": "34661ff6b5bc445fbfd93c571ad16769"
      }
     },
     "metadata": {},
     "output_type": "display_data"
    },
    {
     "data": {
      "text/plain": [
       "Epoch 42/100:   0%|          | 0/1225 [00:00<?, ?it/s]"
      ],
      "application/vnd.jupyter.widget-view+json": {
       "version_major": 2,
       "version_minor": 0,
       "model_id": "bdf060bc55914df2a32c14663150e94a"
      }
     },
     "metadata": {},
     "output_type": "display_data"
    },
    {
     "data": {
      "text/plain": [
       "Epoch 43/100:   0%|          | 0/1225 [00:00<?, ?it/s]"
      ],
      "application/vnd.jupyter.widget-view+json": {
       "version_major": 2,
       "version_minor": 0,
       "model_id": "60cba4572dec42cb8516b7eee2ba9bb9"
      }
     },
     "metadata": {},
     "output_type": "display_data"
    },
    {
     "data": {
      "text/plain": [
       "Epoch 44/100:   0%|          | 0/1225 [00:00<?, ?it/s]"
      ],
      "application/vnd.jupyter.widget-view+json": {
       "version_major": 2,
       "version_minor": 0,
       "model_id": "434f5722da594f74a50761bdfe9413f1"
      }
     },
     "metadata": {},
     "output_type": "display_data"
    },
    {
     "data": {
      "text/plain": [
       "Epoch 45/100:   0%|          | 0/1225 [00:00<?, ?it/s]"
      ],
      "application/vnd.jupyter.widget-view+json": {
       "version_major": 2,
       "version_minor": 0,
       "model_id": "9fcfe766fb394b4799b9eca4a90d6674"
      }
     },
     "metadata": {},
     "output_type": "display_data"
    },
    {
     "data": {
      "text/plain": [
       "Epoch 46/100:   0%|          | 0/1225 [00:00<?, ?it/s]"
      ],
      "application/vnd.jupyter.widget-view+json": {
       "version_major": 2,
       "version_minor": 0,
       "model_id": "22021ba20ddd4b888c46f77be7ffe1b8"
      }
     },
     "metadata": {},
     "output_type": "display_data"
    },
    {
     "data": {
      "text/plain": [
       "Epoch 47/100:   0%|          | 0/1225 [00:00<?, ?it/s]"
      ],
      "application/vnd.jupyter.widget-view+json": {
       "version_major": 2,
       "version_minor": 0,
       "model_id": "73a3bdcc3a9547038f5f451f29dd144d"
      }
     },
     "metadata": {},
     "output_type": "display_data"
    },
    {
     "data": {
      "text/plain": [
       "Epoch 48/100:   0%|          | 0/1225 [00:00<?, ?it/s]"
      ],
      "application/vnd.jupyter.widget-view+json": {
       "version_major": 2,
       "version_minor": 0,
       "model_id": "c0754daee162406c9e57ad93d50c753f"
      }
     },
     "metadata": {},
     "output_type": "display_data"
    },
    {
     "data": {
      "text/plain": [
       "Epoch 49/100:   0%|          | 0/1225 [00:00<?, ?it/s]"
      ],
      "application/vnd.jupyter.widget-view+json": {
       "version_major": 2,
       "version_minor": 0,
       "model_id": "519b479fbbf34dfd8fe95497b73a9882"
      }
     },
     "metadata": {},
     "output_type": "display_data"
    },
    {
     "data": {
      "text/plain": [
       "Epoch 50/100:   0%|          | 0/1225 [00:00<?, ?it/s]"
      ],
      "application/vnd.jupyter.widget-view+json": {
       "version_major": 2,
       "version_minor": 0,
       "model_id": "562ca9078c1646e0a9a75feae6c058d0"
      }
     },
     "metadata": {},
     "output_type": "display_data"
    },
    {
     "data": {
      "text/plain": [
       "Epoch 51/100:   0%|          | 0/1225 [00:00<?, ?it/s]"
      ],
      "application/vnd.jupyter.widget-view+json": {
       "version_major": 2,
       "version_minor": 0,
       "model_id": "152679a27612426da865bcb6c16c63cb"
      }
     },
     "metadata": {},
     "output_type": "display_data"
    },
    {
     "data": {
      "text/plain": [
       "Epoch 52/100:   0%|          | 0/1225 [00:00<?, ?it/s]"
      ],
      "application/vnd.jupyter.widget-view+json": {
       "version_major": 2,
       "version_minor": 0,
       "model_id": "b96791aab83b46ce804d811207a0c682"
      }
     },
     "metadata": {},
     "output_type": "display_data"
    },
    {
     "data": {
      "text/plain": [
       "Epoch 53/100:   0%|          | 0/1225 [00:00<?, ?it/s]"
      ],
      "application/vnd.jupyter.widget-view+json": {
       "version_major": 2,
       "version_minor": 0,
       "model_id": "6bf64b6a6b594c71ba2c3e2e1cbad62d"
      }
     },
     "metadata": {},
     "output_type": "display_data"
    },
    {
     "data": {
      "text/plain": [
       "Epoch 54/100:   0%|          | 0/1225 [00:00<?, ?it/s]"
      ],
      "application/vnd.jupyter.widget-view+json": {
       "version_major": 2,
       "version_minor": 0,
       "model_id": "1ebc122a437e44299d4d4fed3537a5ac"
      }
     },
     "metadata": {},
     "output_type": "display_data"
    },
    {
     "data": {
      "text/plain": [
       "Epoch 55/100:   0%|          | 0/1225 [00:00<?, ?it/s]"
      ],
      "application/vnd.jupyter.widget-view+json": {
       "version_major": 2,
       "version_minor": 0,
       "model_id": "8a7fad15ceb44935946a613786e5c8b8"
      }
     },
     "metadata": {},
     "output_type": "display_data"
    },
    {
     "data": {
      "text/plain": [
       "Epoch 56/100:   0%|          | 0/1225 [00:00<?, ?it/s]"
      ],
      "application/vnd.jupyter.widget-view+json": {
       "version_major": 2,
       "version_minor": 0,
       "model_id": "9dbacbfeb2ea488995f864102e7075be"
      }
     },
     "metadata": {},
     "output_type": "display_data"
    },
    {
     "data": {
      "text/plain": [
       "Epoch 57/100:   0%|          | 0/1225 [00:00<?, ?it/s]"
      ],
      "application/vnd.jupyter.widget-view+json": {
       "version_major": 2,
       "version_minor": 0,
       "model_id": "32a4b4f59a7b4a979221a297e6729fad"
      }
     },
     "metadata": {},
     "output_type": "display_data"
    },
    {
     "data": {
      "text/plain": [
       "Epoch 58/100:   0%|          | 0/1225 [00:00<?, ?it/s]"
      ],
      "application/vnd.jupyter.widget-view+json": {
       "version_major": 2,
       "version_minor": 0,
       "model_id": "065c3a202b7344db965d2fd62fbeab41"
      }
     },
     "metadata": {},
     "output_type": "display_data"
    },
    {
     "data": {
      "text/plain": [
       "Epoch 59/100:   0%|          | 0/1225 [00:00<?, ?it/s]"
      ],
      "application/vnd.jupyter.widget-view+json": {
       "version_major": 2,
       "version_minor": 0,
       "model_id": "1dcf2dc0c4dc4be5a1c07fe2bdffa247"
      }
     },
     "metadata": {},
     "output_type": "display_data"
    },
    {
     "data": {
      "text/plain": [
       "Epoch 60/100:   0%|          | 0/1225 [00:00<?, ?it/s]"
      ],
      "application/vnd.jupyter.widget-view+json": {
       "version_major": 2,
       "version_minor": 0,
       "model_id": "f2069035373444ff8ef2850f45c32b23"
      }
     },
     "metadata": {},
     "output_type": "display_data"
    },
    {
     "data": {
      "text/plain": [
       "Epoch 61/100:   0%|          | 0/1225 [00:00<?, ?it/s]"
      ],
      "application/vnd.jupyter.widget-view+json": {
       "version_major": 2,
       "version_minor": 0,
       "model_id": "608c2d3624d24ed68be9ee5cf9711495"
      }
     },
     "metadata": {},
     "output_type": "display_data"
    },
    {
     "data": {
      "text/plain": [
       "Epoch 62/100:   0%|          | 0/1225 [00:00<?, ?it/s]"
      ],
      "application/vnd.jupyter.widget-view+json": {
       "version_major": 2,
       "version_minor": 0,
       "model_id": "a02de51cece34061a33c891a91620e31"
      }
     },
     "metadata": {},
     "output_type": "display_data"
    },
    {
     "data": {
      "text/plain": [
       "Epoch 63/100:   0%|          | 0/1225 [00:00<?, ?it/s]"
      ],
      "application/vnd.jupyter.widget-view+json": {
       "version_major": 2,
       "version_minor": 0,
       "model_id": "82c0fb808a5a4b8f818d73f250dfa1c9"
      }
     },
     "metadata": {},
     "output_type": "display_data"
    },
    {
     "data": {
      "text/plain": [
       "Epoch 64/100:   0%|          | 0/1225 [00:00<?, ?it/s]"
      ],
      "application/vnd.jupyter.widget-view+json": {
       "version_major": 2,
       "version_minor": 0,
       "model_id": "b7b399cf3c00460c8ba525eb34ffd6c4"
      }
     },
     "metadata": {},
     "output_type": "display_data"
    },
    {
     "data": {
      "text/plain": [
       "Epoch 65/100:   0%|          | 0/1225 [00:00<?, ?it/s]"
      ],
      "application/vnd.jupyter.widget-view+json": {
       "version_major": 2,
       "version_minor": 0,
       "model_id": "2e997cbb0c7e4329abc6ffce40d6e267"
      }
     },
     "metadata": {},
     "output_type": "display_data"
    },
    {
     "data": {
      "text/plain": [
       "Epoch 66/100:   0%|          | 0/1225 [00:00<?, ?it/s]"
      ],
      "application/vnd.jupyter.widget-view+json": {
       "version_major": 2,
       "version_minor": 0,
       "model_id": "9fc13edce85240e5bd40082a3d426fba"
      }
     },
     "metadata": {},
     "output_type": "display_data"
    },
    {
     "data": {
      "text/plain": [
       "Epoch 67/100:   0%|          | 0/1225 [00:00<?, ?it/s]"
      ],
      "application/vnd.jupyter.widget-view+json": {
       "version_major": 2,
       "version_minor": 0,
       "model_id": "02c4c3a5fc34497d834300a0ac37f163"
      }
     },
     "metadata": {},
     "output_type": "display_data"
    },
    {
     "data": {
      "text/plain": [
       "Epoch 68/100:   0%|          | 0/1225 [00:00<?, ?it/s]"
      ],
      "application/vnd.jupyter.widget-view+json": {
       "version_major": 2,
       "version_minor": 0,
       "model_id": "78d5540841c2401f81adb7b03d9e7bdb"
      }
     },
     "metadata": {},
     "output_type": "display_data"
    },
    {
     "data": {
      "text/plain": [
       "Epoch 69/100:   0%|          | 0/1225 [00:00<?, ?it/s]"
      ],
      "application/vnd.jupyter.widget-view+json": {
       "version_major": 2,
       "version_minor": 0,
       "model_id": "d96a3487881f4825ab08f7f9605ee286"
      }
     },
     "metadata": {},
     "output_type": "display_data"
    },
    {
     "data": {
      "text/plain": [
       "Epoch 70/100:   0%|          | 0/1225 [00:00<?, ?it/s]"
      ],
      "application/vnd.jupyter.widget-view+json": {
       "version_major": 2,
       "version_minor": 0,
       "model_id": "20b139dd7ba14bb4a993d056abbeb0a6"
      }
     },
     "metadata": {},
     "output_type": "display_data"
    },
    {
     "data": {
      "text/plain": [
       "Epoch 71/100:   0%|          | 0/1225 [00:00<?, ?it/s]"
      ],
      "application/vnd.jupyter.widget-view+json": {
       "version_major": 2,
       "version_minor": 0,
       "model_id": "56828524e6f5474092f6f0fef4e54145"
      }
     },
     "metadata": {},
     "output_type": "display_data"
    },
    {
     "data": {
      "text/plain": [
       "Epoch 72/100:   0%|          | 0/1225 [00:00<?, ?it/s]"
      ],
      "application/vnd.jupyter.widget-view+json": {
       "version_major": 2,
       "version_minor": 0,
       "model_id": "a59d917ce3ba4f94ae16288fc7a5667a"
      }
     },
     "metadata": {},
     "output_type": "display_data"
    },
    {
     "data": {
      "text/plain": [
       "Epoch 73/100:   0%|          | 0/1225 [00:00<?, ?it/s]"
      ],
      "application/vnd.jupyter.widget-view+json": {
       "version_major": 2,
       "version_minor": 0,
       "model_id": "9c89d3ab53af404abac5b39104647106"
      }
     },
     "metadata": {},
     "output_type": "display_data"
    },
    {
     "data": {
      "text/plain": [
       "Epoch 74/100:   0%|          | 0/1225 [00:00<?, ?it/s]"
      ],
      "application/vnd.jupyter.widget-view+json": {
       "version_major": 2,
       "version_minor": 0,
       "model_id": "dee86cc1e9d84ddf891d655df83c30d9"
      }
     },
     "metadata": {},
     "output_type": "display_data"
    },
    {
     "data": {
      "text/plain": [
       "Epoch 75/100:   0%|          | 0/1225 [00:00<?, ?it/s]"
      ],
      "application/vnd.jupyter.widget-view+json": {
       "version_major": 2,
       "version_minor": 0,
       "model_id": "882ed61b9f0747dd8ca4d84b36f45adc"
      }
     },
     "metadata": {},
     "output_type": "display_data"
    },
    {
     "data": {
      "text/plain": [
       "Epoch 76/100:   0%|          | 0/1225 [00:00<?, ?it/s]"
      ],
      "application/vnd.jupyter.widget-view+json": {
       "version_major": 2,
       "version_minor": 0,
       "model_id": "b793cbe0dd0c46dbb57cfbd7d30addad"
      }
     },
     "metadata": {},
     "output_type": "display_data"
    },
    {
     "data": {
      "text/plain": [
       "Epoch 77/100:   0%|          | 0/1225 [00:00<?, ?it/s]"
      ],
      "application/vnd.jupyter.widget-view+json": {
       "version_major": 2,
       "version_minor": 0,
       "model_id": "a784157129bd42d1baffe6acfd5bbf87"
      }
     },
     "metadata": {},
     "output_type": "display_data"
    },
    {
     "data": {
      "text/plain": [
       "Epoch 78/100:   0%|          | 0/1225 [00:00<?, ?it/s]"
      ],
      "application/vnd.jupyter.widget-view+json": {
       "version_major": 2,
       "version_minor": 0,
       "model_id": "5db9202477804046bd286026070b7674"
      }
     },
     "metadata": {},
     "output_type": "display_data"
    },
    {
     "data": {
      "text/plain": [
       "Epoch 79/100:   0%|          | 0/1225 [00:00<?, ?it/s]"
      ],
      "application/vnd.jupyter.widget-view+json": {
       "version_major": 2,
       "version_minor": 0,
       "model_id": "323eaee0e8204cb18890714a7c67feaf"
      }
     },
     "metadata": {},
     "output_type": "display_data"
    },
    {
     "data": {
      "text/plain": [
       "Epoch 80/100:   0%|          | 0/1225 [00:00<?, ?it/s]"
      ],
      "application/vnd.jupyter.widget-view+json": {
       "version_major": 2,
       "version_minor": 0,
       "model_id": "2d079a74b28046808e0a13936858b1f7"
      }
     },
     "metadata": {},
     "output_type": "display_data"
    },
    {
     "data": {
      "text/plain": [
       "Epoch 81/100:   0%|          | 0/1225 [00:00<?, ?it/s]"
      ],
      "application/vnd.jupyter.widget-view+json": {
       "version_major": 2,
       "version_minor": 0,
       "model_id": "71999b9fd46346869863112ca6ee658a"
      }
     },
     "metadata": {},
     "output_type": "display_data"
    },
    {
     "data": {
      "text/plain": [
       "Epoch 82/100:   0%|          | 0/1225 [00:00<?, ?it/s]"
      ],
      "application/vnd.jupyter.widget-view+json": {
       "version_major": 2,
       "version_minor": 0,
       "model_id": "614f204b6172408cb055c551a293aa11"
      }
     },
     "metadata": {},
     "output_type": "display_data"
    },
    {
     "data": {
      "text/plain": [
       "Epoch 83/100:   0%|          | 0/1225 [00:00<?, ?it/s]"
      ],
      "application/vnd.jupyter.widget-view+json": {
       "version_major": 2,
       "version_minor": 0,
       "model_id": "8d404d2475b14354a567ea6767926f33"
      }
     },
     "metadata": {},
     "output_type": "display_data"
    },
    {
     "data": {
      "text/plain": [
       "Epoch 84/100:   0%|          | 0/1225 [00:00<?, ?it/s]"
      ],
      "application/vnd.jupyter.widget-view+json": {
       "version_major": 2,
       "version_minor": 0,
       "model_id": "c1918f82079c40c09a4995038bc80143"
      }
     },
     "metadata": {},
     "output_type": "display_data"
    },
    {
     "data": {
      "text/plain": [
       "Epoch 85/100:   0%|          | 0/1225 [00:00<?, ?it/s]"
      ],
      "application/vnd.jupyter.widget-view+json": {
       "version_major": 2,
       "version_minor": 0,
       "model_id": "c44890d8c77e444ab990f45b0607f8e4"
      }
     },
     "metadata": {},
     "output_type": "display_data"
    },
    {
     "data": {
      "text/plain": [
       "Epoch 86/100:   0%|          | 0/1225 [00:00<?, ?it/s]"
      ],
      "application/vnd.jupyter.widget-view+json": {
       "version_major": 2,
       "version_minor": 0,
       "model_id": "a5558439607f4143aeab86255f09ae14"
      }
     },
     "metadata": {},
     "output_type": "display_data"
    },
    {
     "data": {
      "text/plain": [
       "Epoch 87/100:   0%|          | 0/1225 [00:00<?, ?it/s]"
      ],
      "application/vnd.jupyter.widget-view+json": {
       "version_major": 2,
       "version_minor": 0,
       "model_id": "6122f437cee94a4ab24d0bc064ab573e"
      }
     },
     "metadata": {},
     "output_type": "display_data"
    },
    {
     "data": {
      "text/plain": [
       "Epoch 88/100:   0%|          | 0/1225 [00:00<?, ?it/s]"
      ],
      "application/vnd.jupyter.widget-view+json": {
       "version_major": 2,
       "version_minor": 0,
       "model_id": "7835e260550a4878bf3c64765576a047"
      }
     },
     "metadata": {},
     "output_type": "display_data"
    },
    {
     "data": {
      "text/plain": [
       "Epoch 89/100:   0%|          | 0/1225 [00:00<?, ?it/s]"
      ],
      "application/vnd.jupyter.widget-view+json": {
       "version_major": 2,
       "version_minor": 0,
       "model_id": "dcd5ed4c6e45427eac1b3a86b0153743"
      }
     },
     "metadata": {},
     "output_type": "display_data"
    },
    {
     "data": {
      "text/plain": [
       "Epoch 90/100:   0%|          | 0/1225 [00:00<?, ?it/s]"
      ],
      "application/vnd.jupyter.widget-view+json": {
       "version_major": 2,
       "version_minor": 0,
       "model_id": "21b160a158294285a3d60f838985a8dc"
      }
     },
     "metadata": {},
     "output_type": "display_data"
    },
    {
     "data": {
      "text/plain": [
       "Epoch 91/100:   0%|          | 0/1225 [00:00<?, ?it/s]"
      ],
      "application/vnd.jupyter.widget-view+json": {
       "version_major": 2,
       "version_minor": 0,
       "model_id": "ec683166f2cc4cb9aa315518670bf1f0"
      }
     },
     "metadata": {},
     "output_type": "display_data"
    },
    {
     "data": {
      "text/plain": [
       "Epoch 92/100:   0%|          | 0/1225 [00:00<?, ?it/s]"
      ],
      "application/vnd.jupyter.widget-view+json": {
       "version_major": 2,
       "version_minor": 0,
       "model_id": "dd07eed2c1e844c4b3c05adbe33a3aae"
      }
     },
     "metadata": {},
     "output_type": "display_data"
    },
    {
     "data": {
      "text/plain": [
       "Epoch 93/100:   0%|          | 0/1225 [00:00<?, ?it/s]"
      ],
      "application/vnd.jupyter.widget-view+json": {
       "version_major": 2,
       "version_minor": 0,
       "model_id": "fb573c0153d949149cc0057594918688"
      }
     },
     "metadata": {},
     "output_type": "display_data"
    },
    {
     "data": {
      "text/plain": [
       "Epoch 94/100:   0%|          | 0/1225 [00:00<?, ?it/s]"
      ],
      "application/vnd.jupyter.widget-view+json": {
       "version_major": 2,
       "version_minor": 0,
       "model_id": "24ec2bce2285448ca8cafeb14207a25e"
      }
     },
     "metadata": {},
     "output_type": "display_data"
    },
    {
     "data": {
      "text/plain": [
       "Epoch 95/100:   0%|          | 0/1225 [00:00<?, ?it/s]"
      ],
      "application/vnd.jupyter.widget-view+json": {
       "version_major": 2,
       "version_minor": 0,
       "model_id": "9d3ee6b8dd184250a00149683182446e"
      }
     },
     "metadata": {},
     "output_type": "display_data"
    },
    {
     "data": {
      "text/plain": [
       "Epoch 96/100:   0%|          | 0/1225 [00:00<?, ?it/s]"
      ],
      "application/vnd.jupyter.widget-view+json": {
       "version_major": 2,
       "version_minor": 0,
       "model_id": "4f294c34397e4eb786bd9b410e26389f"
      }
     },
     "metadata": {},
     "output_type": "display_data"
    },
    {
     "data": {
      "text/plain": [
       "Epoch 97/100:   0%|          | 0/1225 [00:00<?, ?it/s]"
      ],
      "application/vnd.jupyter.widget-view+json": {
       "version_major": 2,
       "version_minor": 0,
       "model_id": "10f80466f85e4218a2c77459819dcbf6"
      }
     },
     "metadata": {},
     "output_type": "display_data"
    },
    {
     "data": {
      "text/plain": [
       "Epoch 98/100:   0%|          | 0/1225 [00:00<?, ?it/s]"
      ],
      "application/vnd.jupyter.widget-view+json": {
       "version_major": 2,
       "version_minor": 0,
       "model_id": "9307797869a940e2a530e687e8281a2c"
      }
     },
     "metadata": {},
     "output_type": "display_data"
    },
    {
     "data": {
      "text/plain": [
       "Epoch 99/100:   0%|          | 0/1225 [00:00<?, ?it/s]"
      ],
      "application/vnd.jupyter.widget-view+json": {
       "version_major": 2,
       "version_minor": 0,
       "model_id": "3658fafc65794c4fbb40fd2d2dce370d"
      }
     },
     "metadata": {},
     "output_type": "display_data"
    },
    {
     "data": {
      "text/plain": [
       "Epoch 100/100:   0%|          | 0/1225 [00:00<?, ?it/s]"
      ],
      "application/vnd.jupyter.widget-view+json": {
       "version_major": 2,
       "version_minor": 0,
       "model_id": "0e5608c6003f46b5938027265fd49782"
      }
     },
     "metadata": {},
     "output_type": "display_data"
    }
   ],
   "execution_count": 127
  },
  {
   "metadata": {
    "ExecuteTime": {
     "end_time": "2025-05-11T15:27:40.777691Z",
     "start_time": "2025-05-11T15:27:40.711249Z"
    }
   },
   "cell_type": "code",
   "source": [
    "# average\n",
    "print(len(loader.dataset)//BATCH_SIZE)\n",
    "averages_losses = []\n",
    "step = 100\n",
    "for i in range(len(losses) // step):\n",
    "    averages_losses.append(sum(losses[i:i+step])/step)\n",
    "    \n",
    "\n",
    "plt.plot(range(len(averages_losses)), averages_losses)\n",
    "plt.show()"
   ],
   "id": "3f7ec4f699ea85a1",
   "outputs": [
    {
     "name": "stdout",
     "output_type": "stream",
     "text": [
      "1225\n"
     ]
    },
    {
     "data": {
      "text/plain": [
       "<Figure size 640x480 with 1 Axes>"
      ],
      "image/png": "[encoded data removed]"
     },
     "metadata": {},
     "output_type": "display_data"
    }
   ],
   "execution_count": 128
  },
  {
   "metadata": {
    "ExecuteTime": {
     "end_time": "2025-05-11T15:32:12.184858Z",
     "start_time": "2025-05-11T15:31:55.117687Z"
    }
   },
   "cell_type": "code",
   "source": [
    "model.eval()\n",
    "samples = ddpm.sample(1000)\n",
    "show_images(samples, num=40)"
   ],
   "id": "bc71ce69b16ebab2",
   "outputs": [
    {
     "data": {
      "text/plain": [
       "0it [00:00, ?it/s]"
      ],
      "application/vnd.jupyter.widget-view+json": {
       "version_major": 2,
       "version_minor": 0,
       "model_id": "b865607ddb874836be1993bf3c286d90"
      }
     },
     "metadata": {},
     "output_type": "display_data"
    },
    {
     "data": {
      "text/plain": [
       "<Figure size 1000x1000 with 36 Axes>"
      ],
      "image/png": "[encoded data removed]"
     },
     "metadata": {},
     "output_type": "display_data"
    }
   ],
   "execution_count": 139
  },
  {
   "metadata": {
    "ExecuteTime": {
     "end_time": "2025-05-11T15:29:03.247152Z",
     "start_time": "2025-05-11T15:29:02.887160Z"
    }
   },
   "cell_type": "code",
   "source": [
    "for i in range(samples.size(0)):\n",
    "    img = denorm(samples[i])\n",
    "    save_image(img, f\"model2/images/image_{i:04d}.png\")"
   ],
   "id": "9ef7d8f871cce15d",
   "outputs": [],
   "execution_count": 135
  },
  {
   "metadata": {
    "ExecuteTime": {
     "end_time": "2025-05-11T15:29:06.037585Z",
     "start_time": "2025-05-11T15:29:06.029432Z"
    }
   },
   "cell_type": "code",
   "source": [
    "state_dict = model.state_dict()\n",
    "torch.save(state_dict, \"traffic_generative_diffusion_v2.tar\")"
   ],
   "id": "83ab51cabe066406",
   "outputs": [],
   "execution_count": 136
  },
  {
   "metadata": {},
   "cell_type": "markdown",
   "source": "# Evaluation",
   "id": "c9fc643164939126"
  },
  {
   "metadata": {
    "ExecuteTime": {
     "end_time": "2025-05-11T14:51:46.017635Z",
     "start_time": "2025-05-11T14:51:46.013389Z"
    }
   },
   "cell_type": "code",
   "source": [
    "class Evaluator(nn.Module):\n",
    "    def __init__(self, input_dim, hidden_dim):\n",
    "        super(Evaluator, self).__init__()\n",
    "\n",
    "        self.fc_1 = nn.Linear(input_dim, hidden_dim)\n",
    "        self.fc_2 = nn.Linear(hidden_dim, 50)\n",
    "        self.fc_out  = nn.Linear(50, 43)\n",
    "        \n",
    "        self.LeakyReLU = nn.LeakyReLU(0.2)\n",
    "        \n",
    "    def get_features(self, x):\n",
    "        x = torch.flatten(x, 1)\n",
    "        x = self.LeakyReLU(self.fc_1(x))\n",
    "        x = self.LeakyReLU(self.fc_2(x))\n",
    "        return x\n",
    "    \n",
    "\n",
    "    def forward(self, x):\n",
    "        x = self.get_features(x)\n",
    "        x = self.fc_out(x)\n",
    "        return x\n",
    "\n",
    "evaluator = Evaluator(3*32*32, 256).to(device)"
   ],
   "id": "f7f14a2e516074f0",
   "outputs": [],
   "execution_count": 113
  },
  {
   "metadata": {
    "ExecuteTime": {
     "end_time": "2025-05-11T14:51:46.101157Z",
     "start_time": "2025-05-11T14:51:46.099433Z"
    }
   },
   "cell_type": "code",
   "source": [
    "# Optimizers\n",
    "optimizer = torch.optim.Adam(evaluator.parameters(), lr=0.001)\n",
    "scheduler = torch.optim.lr_scheduler.ExponentialLR(optimizer=optimizer, gamma=0.97)\n",
    "\n",
    "# loss\n",
    "criterion = nn.CrossEntropyLoss()"
   ],
   "id": "a8083b0a3f2c60b7",
   "outputs": [],
   "execution_count": 114
  },
  {
   "metadata": {
    "ExecuteTime": {
     "end_time": "2025-05-11T14:53:25.466544Z",
     "start_time": "2025-05-11T14:51:46.189828Z"
    }
   },
   "cell_type": "code",
   "source": [
    "num_epochs = 20\n",
    "for epoch in range(num_epochs):\n",
    "    for data, targets in iter(loader):\n",
    "        data = data.to(device)\n",
    "        targets = targets.to(device)\n",
    "\n",
    "        results = evaluator(data)\n",
    "        loss = criterion(results, targets)\n",
    "\n",
    "        optimizer.zero_grad()\n",
    "        loss.backward()\n",
    "        optimizer.step()\n",
    "    print(loss.item())"
   ],
   "id": "892ac2b29562a753",
   "outputs": [
    {
     "name": "stdout",
     "output_type": "stream",
     "text": [
      "0.8124905824661255\n",
      "0.5866029858589172\n",
      "0.5362399220466614\n",
      "0.32718297839164734\n",
      "0.2719283699989319\n",
      "0.48335570096969604\n",
      "0.39526277780532837\n",
      "0.3206118941307068\n",
      "0.2709323465824127\n",
      "0.05216413736343384\n",
      "0.2626330852508545\n",
      "0.09787007421255112\n",
      "0.2340286523103714\n",
      "0.02792864292860031\n",
      "0.2590925395488739\n",
      "0.11289690434932709\n",
      "0.32521775364875793\n",
      "0.4011087417602539\n",
      "0.02165449596941471\n",
      "0.29873812198638916\n"
     ]
    }
   ],
   "execution_count": 115
  },
  {
   "metadata": {
    "ExecuteTime": {
     "end_time": "2025-05-11T14:53:31.184374Z",
     "start_time": "2025-05-11T14:53:25.588999Z"
    }
   },
   "cell_type": "code",
   "source": [
    "orig_data = [x[0] for x in list(train_data)[:1000]]\n",
    "orig_data = torch.cat(orig_data).view(1000, 3, 32, 32)"
   ],
   "id": "491c527ea1a37f5f",
   "outputs": [],
   "execution_count": 116
  },
  {
   "metadata": {
    "ExecuteTime": {
     "end_time": "2025-05-11T15:39:54.212206Z",
     "start_time": "2025-05-11T15:39:54.194337Z"
    }
   },
   "cell_type": "code",
   "source": [
    "with torch.no_grad():\n",
    "    dist_orig_data = evaluator.get_features(orig_data.to(device)).cpu()\n",
    "    dist_diff = evaluator.get_features(samples.to(device)).cpu()"
   ],
   "id": "a36f387b68d21ee1",
   "outputs": [],
   "execution_count": 140
  },
  {
   "metadata": {
    "ExecuteTime": {
     "end_time": "2025-05-11T14:53:31.359731Z",
     "start_time": "2025-05-11T14:53:31.356837Z"
    }
   },
   "cell_type": "code",
   "source": [
    "######### Frechet Inception distance based on implementation from https://github.com/mseitzer/pytorch-fid\n",
    "\n",
    "import numpy as np\n",
    "from scipy import linalg\n",
    "\n",
    "\n",
    "def calculate_frechet_distance(distribution_1, distribution_2, eps=1e-6):\n",
    "    mu1 = np.mean(distribution_1, axis=0)\n",
    "    sigma1 = np.cov(distribution_1, rowvar=False)\n",
    "\n",
    "    mu2 = np.mean(distribution_2, axis=0)\n",
    "    sigma2 = np.cov(distribution_2, rowvar=False)\n",
    "\n",
    "    \"\"\"Numpy implementation of the Frechet Distance.\n",
    "    The Frechet distance between two multivariate Gaussians X_1 ~ N(mu_1, C_1)\n",
    "    and X_2 ~ N(mu_2, C_2) is\n",
    "            d^2 = ||mu_1 - mu_2||^2 + Tr(C_1 + C_2 - 2*sqrt(C_1*C_2)).\n",
    "    Stable version by Dougal J. Sutherland.\n",
    "    Params:\n",
    "    -- mu1   : Numpy array containing the activations of a layer of the\n",
    "               inception net (like returned by the function 'get_predictions')\n",
    "               for generated samples.\n",
    "    -- mu2   : The sample mean over activations, precalculated on an\n",
    "               representative data set.\n",
    "    -- sigma1: The covariance matrix over activations for generated samples.\n",
    "    -- sigma2: The covariance matrix over activations, precalculated on an\n",
    "               representative data set.\n",
    "    Returns:\n",
    "    --   : The Frechet Distance.\n",
    "    \"\"\"\n",
    "\n",
    "    mu1 = np.atleast_1d(mu1)\n",
    "    mu2 = np.atleast_1d(mu2)\n",
    "\n",
    "    sigma1 = np.atleast_2d(sigma1)\n",
    "    sigma2 = np.atleast_2d(sigma2)\n",
    "\n",
    "    assert mu1.shape == mu2.shape, \\\n",
    "        'Training and test mean vectors have different lengths'\n",
    "    assert sigma1.shape == sigma2.shape, \\\n",
    "        'Training and test covariances have different dimensions'\n",
    "\n",
    "    diff = mu1 - mu2\n",
    "\n",
    "    # Product might be almost singular\n",
    "    covmean, _ = linalg.sqrtm(sigma1.dot(sigma2), disp=False)\n",
    "    if not np.isfinite(covmean).all():\n",
    "        msg = ('fid calculation produces singular product; '\n",
    "               'adding %s to diagonal of cov estimates') % eps\n",
    "        print(msg)\n",
    "        offset = np.eye(sigma1.shape[0]) * eps\n",
    "        covmean = linalg.sqrtm((sigma1 + offset).dot(sigma2 + offset))\n",
    "\n",
    "    # Numerical error might give slight imaginary component\n",
    "    if np.iscomplexobj(covmean):\n",
    "        if not np.allclose(np.diagonal(covmean).imag, 0, atol=1e-3):\n",
    "            m = np.max(np.abs(covmean.imag))\n",
    "            raise ValueError('Imaginary component {}'.format(m))\n",
    "        covmean = covmean.real\n",
    "\n",
    "    tr_covmean = np.trace(covmean)\n",
    "\n",
    "    return (diff.dot(diff) + np.trace(sigma1) +\n",
    "            np.trace(sigma2) - 2 * tr_covmean)"
   ],
   "id": "8608854a4243bb6e",
   "outputs": [],
   "execution_count": 118
  },
  {
   "metadata": {
    "ExecuteTime": {
     "end_time": "2025-05-11T15:39:58.396829Z",
     "start_time": "2025-05-11T15:39:58.392434Z"
    }
   },
   "cell_type": "code",
   "source": [
    "for name, obj in zip(['orig','diff','gan','cond_gan'],[dist_orig_data.numpy(),dist_diff.numpy()]):\n",
    "    print(f\"FD {name}: {calculate_frechet_distance(dist_orig_data.numpy(),obj)}\")"
   ],
   "id": "14e4c0d520ef61f",
   "outputs": [
    {
     "name": "stdout",
     "output_type": "stream",
     "text": [
      "FD orig: -5.093170329928398e-11\n",
      "FD diff: 15261.122575736797\n"
     ]
    }
   ],
   "execution_count": 141
  },
  {
   "metadata": {
    "ExecuteTime": {
     "end_time": "2025-05-11T14:53:31.547191Z",
     "start_time": "2025-05-11T14:53:31.546083Z"
    }
   },
   "cell_type": "code",
   "source": "",
   "id": "5206e099b52eb607",
   "outputs": [],
   "execution_count": null
  }
 ],
 "metadata": {
  "kernelspec": {
   "display_name": "Python 3",
   "language": "python",
   "name": "python3"
  },
  "language_info": {
   "codemirror_mode": {
    "name": "ipython",
    "version": 2
   },
   "file_extension": ".py",
   "mimetype": "text/x-python",
   "name": "python",
   "nbconvert_exporter": "python",
   "pygments_lexer": "ipython2",
   "version": "2.7.6"
  }
 },
 "nbformat": 4,
 "nbformat_minor": 5
}
