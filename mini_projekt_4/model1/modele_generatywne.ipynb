{
 "cells": [
  {
   "cell_type": "code",
   "id": "initial_id",
   "metadata": {
    "collapsed": true,
    "ExecuteTime": {
     "end_time": "2025-05-11T14:32:06.319486Z",
     "start_time": "2025-05-11T14:32:06.317239Z"
    }
   },
   "source": [
    "import torch\n",
    "import torch.nn as nn\n",
    "import torch.nn.functional as F\n",
    "import torchvision\n",
    "import torchvision.transforms as T\n",
    "from torch.utils.data import DataLoader\n",
    "from torchvision.datasets import ImageFolder\n",
    "from torchvision.utils import save_image\n",
    "from tqdm import tqdm\n",
    "import os\n",
    "import numpy as np\n",
    "import matplotlib.pyplot as plt\n",
    "from tqdm.notebook import tqdm\n",
    "import sys"
   ],
   "outputs": [],
   "execution_count": 101
  },
  {
   "metadata": {
    "ExecuteTime": {
     "end_time": "2025-05-11T13:20:01.341563Z",
     "start_time": "2025-05-11T13:20:01.149745Z"
    }
   },
   "cell_type": "code",
   "source": [
    "import gc\n",
    "torch.cuda.empty_cache()\n",
    "gc.collect()\n"
   ],
   "id": "f67a59f10a10428",
   "outputs": [
    {
     "data": {
      "text/plain": [
       "184399"
      ]
     },
     "execution_count": 20,
     "metadata": {},
     "output_type": "execute_result"
    }
   ],
   "execution_count": 20
  },
  {
   "metadata": {},
   "cell_type": "markdown",
   "source": "## Setup",
   "id": "dec344bff4b3721d"
  },
  {
   "metadata": {
    "ExecuteTime": {
     "end_time": "2025-05-11T14:21:58.156471Z",
     "start_time": "2025-05-11T14:21:58.154708Z"
    }
   },
   "cell_type": "code",
   "source": [
    "device = torch.device(\"cuda\" if torch.cuda.is_available() else \"cpu\")\n",
    "print(device)\n",
    "\n",
    "IMG_SIZE = 32\n",
    "BATCH_SIZE = 32\n",
    "EPOCHS = 100\n",
    "NUM_SAMPLES = 1000"
   ],
   "id": "4e1675b036642194",
   "outputs": [
    {
     "name": "stdout",
     "output_type": "stream",
     "text": [
      "cuda\n"
     ]
    }
   ],
   "execution_count": 85
  },
  {
   "metadata": {},
   "cell_type": "markdown",
   "source": "## Load data",
   "id": "733e878e089d9b54"
  },
  {
   "metadata": {
    "ExecuteTime": {
     "end_time": "2025-05-11T13:20:01.791700Z",
     "start_time": "2025-05-11T13:20:01.513284Z"
    }
   },
   "cell_type": "code",
   "source": [
    "transform = T.Compose([\n",
    "    T.Resize((IMG_SIZE, IMG_SIZE)),\n",
    "    T.ToTensor(),\n",
    "    T.Normalize([0.5]*3, [0.5]*3),\n",
    "])\n",
    "\n",
    "train_data = ImageFolder('train/', transform=transform)\n",
    "loader = DataLoader(train_data, batch_size=BATCH_SIZE, shuffle=True, drop_last=True, pin_memory=True, num_workers=4)"
   ],
   "id": "eadeb4f897f83c69",
   "outputs": [],
   "execution_count": 22
  },
  {
   "metadata": {},
   "cell_type": "markdown",
   "source": "## Diffusion model",
   "id": "32fbb44c385cec3c"
  },
  {
   "metadata": {
    "ExecuteTime": {
     "end_time": "2025-05-11T14:21:55.300876Z",
     "start_time": "2025-05-11T14:21:55.294311Z"
    }
   },
   "cell_type": "code",
   "source": [
    "class Block(nn.Module):\n",
    "    def __init__(self, in_ch, out_ch):\n",
    "        super().__init__()\n",
    "        self.conv = nn.Sequential(\n",
    "            nn.Conv2d(in_ch, out_ch, 3, padding=1),\n",
    "            nn.SiLU(),\n",
    "            nn.Conv2d(out_ch, out_ch, 3, padding=1),\n",
    "            nn.SiLU()\n",
    "        )\n",
    "\n",
    "    def forward(self, x):\n",
    "        return self.conv(x)\n",
    "\n",
    "class SimpleUNet(nn.Module):\n",
    "    def __init__(self):\n",
    "        super().__init__()\n",
    "        self.down1 = Block(3, 64)\n",
    "        self.pool1 = nn.MaxPool2d(2)\n",
    "        self.down2 = Block(64, 128)\n",
    "        self.pool2 = nn.MaxPool2d(2)\n",
    "\n",
    "        self.middle = Block(128, 128)\n",
    "\n",
    "        self.up1 = nn.ConvTranspose2d(128, 128, 2, stride=2)\n",
    "        self.up_block1 = Block(128 + 128, 64)\n",
    "        self.up2 = nn.ConvTranspose2d(64, 64, 2, stride=2)\n",
    "        self.up_block2 = Block(64 + 64, 32)\n",
    "\n",
    "        self.out = nn.Conv2d(32, 3, 1)\n",
    "\n",
    "    def forward(self, x, t_embed):\n",
    "        d1 = self.down1(x)\n",
    "        d2 = self.down2(self.pool1(d1))\n",
    "        m = self.middle(self.pool2(d2))\n",
    "        u1 = self.up1(m)\n",
    "        u1 = self.up_block1(torch.cat([u1, d2], dim=1))\n",
    "        u2 = self.up2(u1)\n",
    "        u2 = self.up_block2(torch.cat([u2, d1], dim=1))\n",
    "        return self.out(u2)\n",
    "\n",
    "\n",
    "@torch.no_grad()\n",
    "def denorm(x):\n",
    "    return x * 0.5 + 0.5\n",
    "\n",
    "@torch.no_grad()\n",
    "def show_images(images, num=16):\n",
    "    images = denorm(images[:num].cpu()).permute(0, 2, 3, 1).numpy()\n",
    "    fig, axes = plt.subplots(int(num ** 0.5), int(num ** 0.5), figsize=(10, 10))\n",
    "    for i, ax in enumerate(axes.flat):\n",
    "        ax.imshow(np.clip(images[i], 0, 1))\n",
    "        ax.axis('off')\n",
    "    plt.tight_layout()\n",
    "    plt.show()\n",
    "\n",
    "def get_beta_schedule(T, beta_start=1e-4, beta_end=0.02):\n",
    "    return torch.linspace(beta_start, beta_end, T)\n",
    "\n",
    "class DDPM:\n",
    "    def __init__(self, model, T=250):\n",
    "        self.model = model.to(device)\n",
    "        self.T = T\n",
    "        self.betas = get_beta_schedule(T).to(device)\n",
    "        self.alphas = 1. - self.betas\n",
    "        self.alpha_hat = torch.cumprod(self.alphas, dim=0)\n",
    "\n",
    "    def noise_images(self, x0, t):\n",
    "        sqrt_alpha_hat = torch.sqrt(self.alpha_hat[t])[:, None, None, None]\n",
    "        sqrt_one_minus_alpha_hat = torch.sqrt(1 - self.alpha_hat[t])[:, None, None, None]\n",
    "        noise = torch.randn_like(x0)\n",
    "        return sqrt_alpha_hat * x0 + sqrt_one_minus_alpha_hat * noise, noise\n",
    "\n",
    "    def train_step(self, x0):\n",
    "        t = torch.randint(0, self.T, (x0.shape[0],), device=device).long()\n",
    "        xt, noise = self.noise_images(x0, t)\n",
    "        pred = self.model(xt, t.float() / self.T)\n",
    "        return F.mse_loss(pred, noise)\n",
    "    \n",
    "    @torch.no_grad()\n",
    "    def sample(self, n):\n",
    "        x = torch.randn(n, 3, IMG_SIZE, IMG_SIZE).to(device)\n",
    "        for t in tqdm(reversed(range(self.T))):\n",
    "            z = torch.randn_like(x) if t > 0 else 0\n",
    "            alpha = self.alphas[t]\n",
    "            alpha_hat = self.alpha_hat[t]\n",
    "            beta = self.betas[t]\n",
    "\n",
    "            pred_noise = self.model(x, torch.tensor([t / self.T]).to(device).repeat(n))\n",
    "\n",
    "            x = (1 / torch.sqrt(alpha)) * (x - (1 - alpha) / torch.sqrt(1 - alpha_hat) * pred_noise) + torch.sqrt(beta) * z\n",
    "        torch.cuda.empty_cache()\n",
    "        return x"
   ],
   "id": "74bf49d9d7298d3e",
   "outputs": [],
   "execution_count": 84
  },
  {
   "metadata": {},
   "cell_type": "markdown",
   "source": "### Train the model",
   "id": "70737a84caef5bad"
  },
  {
   "metadata": {
    "ExecuteTime": {
     "end_time": "2025-05-11T14:25:59.145909Z",
     "start_time": "2025-05-11T14:22:03.246931Z"
    }
   },
   "cell_type": "code",
   "source": [
    "model = SimpleUNet()\n",
    "ddpm = DDPM(model)\n",
    "optimizer = torch.optim.Adam(model.parameters(), lr=1e-3)\n",
    "scheduler = torch.optim.lr_scheduler.StepLR(optimizer, step_size=15, gamma=0.1)\n",
    "\n",
    "losses = []\n",
    "for epoch in range(EPOCHS):\n",
    "    progress_bar = tqdm(loader, desc=f\"Epoch {epoch+1}/{EPOCHS}\", leave=True)\n",
    "    \n",
    "    for batch in progress_bar:\n",
    "        x, _ = batch\n",
    "        x = x.to(device)\n",
    "        loss = ddpm.train_step(x)\n",
    "        optimizer.zero_grad()\n",
    "        loss.backward()\n",
    "        optimizer.step()\n",
    "        losses.append(loss.item())\n",
    "        progress_bar.set_postfix(loss=f\"{loss.item():.4f}\")\n",
    "    scheduler.step()"
   ],
   "id": "4c9506700ea83130",
   "outputs": [
    {
     "data": {
      "text/plain": [
       "Epoch 1/50:   0%|          | 0/306 [00:00<?, ?it/s]"
      ],
      "application/vnd.jupyter.widget-view+json": {
       "version_major": 2,
       "version_minor": 0,
       "model_id": "073339722c844e4190288704fd3b5c9e"
      }
     },
     "metadata": {},
     "output_type": "display_data"
    },
    {
     "data": {
      "text/plain": [
       "Epoch 2/50:   0%|          | 0/306 [00:00<?, ?it/s]"
      ],
      "application/vnd.jupyter.widget-view+json": {
       "version_major": 2,
       "version_minor": 0,
       "model_id": "edff3fc64ddc4ef4b2d7c3ad8ac973bc"
      }
     },
     "metadata": {},
     "output_type": "display_data"
    },
    {
     "data": {
      "text/plain": [
       "Epoch 3/50:   0%|          | 0/306 [00:00<?, ?it/s]"
      ],
      "application/vnd.jupyter.widget-view+json": {
       "version_major": 2,
       "version_minor": 0,
       "model_id": "038eb6682858407cbf2a614beed2218f"
      }
     },
     "metadata": {},
     "output_type": "display_data"
    },
    {
     "data": {
      "text/plain": [
       "Epoch 4/50:   0%|          | 0/306 [00:00<?, ?it/s]"
      ],
      "application/vnd.jupyter.widget-view+json": {
       "version_major": 2,
       "version_minor": 0,
       "model_id": "ae3fcb7815ad4fb9a9d29e25f807ced6"
      }
     },
     "metadata": {},
     "output_type": "display_data"
    },
    {
     "data": {
      "text/plain": [
       "Epoch 5/50:   0%|          | 0/306 [00:00<?, ?it/s]"
      ],
      "application/vnd.jupyter.widget-view+json": {
       "version_major": 2,
       "version_minor": 0,
       "model_id": "3c94823e083d478ab795050809ca0c76"
      }
     },
     "metadata": {},
     "output_type": "display_data"
    },
    {
     "data": {
      "text/plain": [
       "Epoch 6/50:   0%|          | 0/306 [00:00<?, ?it/s]"
      ],
      "application/vnd.jupyter.widget-view+json": {
       "version_major": 2,
       "version_minor": 0,
       "model_id": "61a1ee595bc941779fbcc61ffca7d1a9"
      }
     },
     "metadata": {},
     "output_type": "display_data"
    },
    {
     "data": {
      "text/plain": [
       "Epoch 7/50:   0%|          | 0/306 [00:00<?, ?it/s]"
      ],
      "application/vnd.jupyter.widget-view+json": {
       "version_major": 2,
       "version_minor": 0,
       "model_id": "cb4e222147b741c4aa96d1cc3c840679"
      }
     },
     "metadata": {},
     "output_type": "display_data"
    },
    {
     "data": {
      "text/plain": [
       "Epoch 8/50:   0%|          | 0/306 [00:00<?, ?it/s]"
      ],
      "application/vnd.jupyter.widget-view+json": {
       "version_major": 2,
       "version_minor": 0,
       "model_id": "c0e4beffbc344a27b76349e026d1a2f1"
      }
     },
     "metadata": {},
     "output_type": "display_data"
    },
    {
     "data": {
      "text/plain": [
       "Epoch 9/50:   0%|          | 0/306 [00:00<?, ?it/s]"
      ],
      "application/vnd.jupyter.widget-view+json": {
       "version_major": 2,
       "version_minor": 0,
       "model_id": "d96f069dd2344b70b2350971e43c74e7"
      }
     },
     "metadata": {},
     "output_type": "display_data"
    },
    {
     "data": {
      "text/plain": [
       "Epoch 10/50:   0%|          | 0/306 [00:00<?, ?it/s]"
      ],
      "application/vnd.jupyter.widget-view+json": {
       "version_major": 2,
       "version_minor": 0,
       "model_id": "9c8d45667094486ca7011c9f1c1a433d"
      }
     },
     "metadata": {},
     "output_type": "display_data"
    },
    {
     "data": {
      "text/plain": [
       "Epoch 11/50:   0%|          | 0/306 [00:00<?, ?it/s]"
      ],
      "application/vnd.jupyter.widget-view+json": {
       "version_major": 2,
       "version_minor": 0,
       "model_id": "30dba0682cad4534aed60048ad5d8eba"
      }
     },
     "metadata": {},
     "output_type": "display_data"
    },
    {
     "data": {
      "text/plain": [
       "Epoch 12/50:   0%|          | 0/306 [00:00<?, ?it/s]"
      ],
      "application/vnd.jupyter.widget-view+json": {
       "version_major": 2,
       "version_minor": 0,
       "model_id": "fbe7b0a967284ca5a25d5d4ff668c041"
      }
     },
     "metadata": {},
     "output_type": "display_data"
    },
    {
     "data": {
      "text/plain": [
       "Epoch 13/50:   0%|          | 0/306 [00:00<?, ?it/s]"
      ],
      "application/vnd.jupyter.widget-view+json": {
       "version_major": 2,
       "version_minor": 0,
       "model_id": "bbcfe3fa6f434c31a3056c7c141f4e5e"
      }
     },
     "metadata": {},
     "output_type": "display_data"
    },
    {
     "data": {
      "text/plain": [
       "Epoch 14/50:   0%|          | 0/306 [00:00<?, ?it/s]"
      ],
      "application/vnd.jupyter.widget-view+json": {
       "version_major": 2,
       "version_minor": 0,
       "model_id": "6f9e1da2b4a243309067d0754b237313"
      }
     },
     "metadata": {},
     "output_type": "display_data"
    },
    {
     "data": {
      "text/plain": [
       "Epoch 15/50:   0%|          | 0/306 [00:00<?, ?it/s]"
      ],
      "application/vnd.jupyter.widget-view+json": {
       "version_major": 2,
       "version_minor": 0,
       "model_id": "172cb126cddc46baa92aaeacc8bcf34c"
      }
     },
     "metadata": {},
     "output_type": "display_data"
    },
    {
     "data": {
      "text/plain": [
       "Epoch 16/50:   0%|          | 0/306 [00:00<?, ?it/s]"
      ],
      "application/vnd.jupyter.widget-view+json": {
       "version_major": 2,
       "version_minor": 0,
       "model_id": "7e0f141cc04348fd98df8b748da49123"
      }
     },
     "metadata": {},
     "output_type": "display_data"
    },
    {
     "data": {
      "text/plain": [
       "Epoch 17/50:   0%|          | 0/306 [00:00<?, ?it/s]"
      ],
      "application/vnd.jupyter.widget-view+json": {
       "version_major": 2,
       "version_minor": 0,
       "model_id": "a5c5266241404f8db32ea6eb49880ced"
      }
     },
     "metadata": {},
     "output_type": "display_data"
    },
    {
     "data": {
      "text/plain": [
       "Epoch 18/50:   0%|          | 0/306 [00:00<?, ?it/s]"
      ],
      "application/vnd.jupyter.widget-view+json": {
       "version_major": 2,
       "version_minor": 0,
       "model_id": "3572d6da3efc4dc4a5ffd643b82519ab"
      }
     },
     "metadata": {},
     "output_type": "display_data"
    },
    {
     "data": {
      "text/plain": [
       "Epoch 19/50:   0%|          | 0/306 [00:00<?, ?it/s]"
      ],
      "application/vnd.jupyter.widget-view+json": {
       "version_major": 2,
       "version_minor": 0,
       "model_id": "c7a28583f8b74a1bb2e823a5ed4d4c53"
      }
     },
     "metadata": {},
     "output_type": "display_data"
    },
    {
     "data": {
      "text/plain": [
       "Epoch 20/50:   0%|          | 0/306 [00:00<?, ?it/s]"
      ],
      "application/vnd.jupyter.widget-view+json": {
       "version_major": 2,
       "version_minor": 0,
       "model_id": "5875a00944bd431788585ca6f7488ab6"
      }
     },
     "metadata": {},
     "output_type": "display_data"
    },
    {
     "data": {
      "text/plain": [
       "Epoch 21/50:   0%|          | 0/306 [00:00<?, ?it/s]"
      ],
      "application/vnd.jupyter.widget-view+json": {
       "version_major": 2,
       "version_minor": 0,
       "model_id": "c20102ae44c642a0ba560cf556796208"
      }
     },
     "metadata": {},
     "output_type": "display_data"
    },
    {
     "data": {
      "text/plain": [
       "Epoch 22/50:   0%|          | 0/306 [00:00<?, ?it/s]"
      ],
      "application/vnd.jupyter.widget-view+json": {
       "version_major": 2,
       "version_minor": 0,
       "model_id": "2db72caacdea49ca9f59cc739f70230f"
      }
     },
     "metadata": {},
     "output_type": "display_data"
    },
    {
     "data": {
      "text/plain": [
       "Epoch 23/50:   0%|          | 0/306 [00:00<?, ?it/s]"
      ],
      "application/vnd.jupyter.widget-view+json": {
       "version_major": 2,
       "version_minor": 0,
       "model_id": "4ea41ee36c0c4b438d0238b8c73f3f5d"
      }
     },
     "metadata": {},
     "output_type": "display_data"
    },
    {
     "data": {
      "text/plain": [
       "Epoch 24/50:   0%|          | 0/306 [00:00<?, ?it/s]"
      ],
      "application/vnd.jupyter.widget-view+json": {
       "version_major": 2,
       "version_minor": 0,
       "model_id": "7944eccbc7854ead92707dff7947bb4a"
      }
     },
     "metadata": {},
     "output_type": "display_data"
    },
    {
     "data": {
      "text/plain": [
       "Epoch 25/50:   0%|          | 0/306 [00:00<?, ?it/s]"
      ],
      "application/vnd.jupyter.widget-view+json": {
       "version_major": 2,
       "version_minor": 0,
       "model_id": "ca3e1ee0ce0d46acb61f4079460cbd89"
      }
     },
     "metadata": {},
     "output_type": "display_data"
    },
    {
     "data": {
      "text/plain": [
       "Epoch 26/50:   0%|          | 0/306 [00:00<?, ?it/s]"
      ],
      "application/vnd.jupyter.widget-view+json": {
       "version_major": 2,
       "version_minor": 0,
       "model_id": "0c361e4c5c9044b095862b9e59771889"
      }
     },
     "metadata": {},
     "output_type": "display_data"
    },
    {
     "data": {
      "text/plain": [
       "Epoch 27/50:   0%|          | 0/306 [00:00<?, ?it/s]"
      ],
      "application/vnd.jupyter.widget-view+json": {
       "version_major": 2,
       "version_minor": 0,
       "model_id": "77e5fea0b73443ef98b237c5fa95bea6"
      }
     },
     "metadata": {},
     "output_type": "display_data"
    },
    {
     "data": {
      "text/plain": [
       "Epoch 28/50:   0%|          | 0/306 [00:00<?, ?it/s]"
      ],
      "application/vnd.jupyter.widget-view+json": {
       "version_major": 2,
       "version_minor": 0,
       "model_id": "f69c818084004ab7adc8fb270a8c99fa"
      }
     },
     "metadata": {},
     "output_type": "display_data"
    },
    {
     "data": {
      "text/plain": [
       "Epoch 29/50:   0%|          | 0/306 [00:00<?, ?it/s]"
      ],
      "application/vnd.jupyter.widget-view+json": {
       "version_major": 2,
       "version_minor": 0,
       "model_id": "393405eae26244f6873ad58ac00705e5"
      }
     },
     "metadata": {},
     "output_type": "display_data"
    },
    {
     "data": {
      "text/plain": [
       "Epoch 30/50:   0%|          | 0/306 [00:00<?, ?it/s]"
      ],
      "application/vnd.jupyter.widget-view+json": {
       "version_major": 2,
       "version_minor": 0,
       "model_id": "e79807c715674a4c82c30e91fcadba06"
      }
     },
     "metadata": {},
     "output_type": "display_data"
    },
    {
     "data": {
      "text/plain": [
       "Epoch 31/50:   0%|          | 0/306 [00:00<?, ?it/s]"
      ],
      "application/vnd.jupyter.widget-view+json": {
       "version_major": 2,
       "version_minor": 0,
       "model_id": "6d8369cfe43b444581b206bdf4b051e4"
      }
     },
     "metadata": {},
     "output_type": "display_data"
    },
    {
     "data": {
      "text/plain": [
       "Epoch 32/50:   0%|          | 0/306 [00:00<?, ?it/s]"
      ],
      "application/vnd.jupyter.widget-view+json": {
       "version_major": 2,
       "version_minor": 0,
       "model_id": "074da40487fd43aa81907a60864b3c2e"
      }
     },
     "metadata": {},
     "output_type": "display_data"
    },
    {
     "data": {
      "text/plain": [
       "Epoch 33/50:   0%|          | 0/306 [00:00<?, ?it/s]"
      ],
      "application/vnd.jupyter.widget-view+json": {
       "version_major": 2,
       "version_minor": 0,
       "model_id": "4a8ab628df8c4e459d24e8bb319f0265"
      }
     },
     "metadata": {},
     "output_type": "display_data"
    },
    {
     "data": {
      "text/plain": [
       "Epoch 34/50:   0%|          | 0/306 [00:00<?, ?it/s]"
      ],
      "application/vnd.jupyter.widget-view+json": {
       "version_major": 2,
       "version_minor": 0,
       "model_id": "bce4e71d314d4c4b9016396319124508"
      }
     },
     "metadata": {},
     "output_type": "display_data"
    },
    {
     "data": {
      "text/plain": [
       "Epoch 35/50:   0%|          | 0/306 [00:00<?, ?it/s]"
      ],
      "application/vnd.jupyter.widget-view+json": {
       "version_major": 2,
       "version_minor": 0,
       "model_id": "37d1f98e11c44b419f290f98fb3b09f6"
      }
     },
     "metadata": {},
     "output_type": "display_data"
    },
    {
     "data": {
      "text/plain": [
       "Epoch 36/50:   0%|          | 0/306 [00:00<?, ?it/s]"
      ],
      "application/vnd.jupyter.widget-view+json": {
       "version_major": 2,
       "version_minor": 0,
       "model_id": "87a0071228df4954a1505c99eb80e00f"
      }
     },
     "metadata": {},
     "output_type": "display_data"
    },
    {
     "data": {
      "text/plain": [
       "Epoch 37/50:   0%|          | 0/306 [00:00<?, ?it/s]"
      ],
      "application/vnd.jupyter.widget-view+json": {
       "version_major": 2,
       "version_minor": 0,
       "model_id": "f2739f4968ae49e9823e7c08d54772f5"
      }
     },
     "metadata": {},
     "output_type": "display_data"
    },
    {
     "data": {
      "text/plain": [
       "Epoch 38/50:   0%|          | 0/306 [00:00<?, ?it/s]"
      ],
      "application/vnd.jupyter.widget-view+json": {
       "version_major": 2,
       "version_minor": 0,
       "model_id": "3f74b16274d741b9a0838e8ccc28a649"
      }
     },
     "metadata": {},
     "output_type": "display_data"
    },
    {
     "data": {
      "text/plain": [
       "Epoch 39/50:   0%|          | 0/306 [00:00<?, ?it/s]"
      ],
      "application/vnd.jupyter.widget-view+json": {
       "version_major": 2,
       "version_minor": 0,
       "model_id": "e07b6feddd0547f9890fd9cd57076cc4"
      }
     },
     "metadata": {},
     "output_type": "display_data"
    },
    {
     "data": {
      "text/plain": [
       "Epoch 40/50:   0%|          | 0/306 [00:00<?, ?it/s]"
      ],
      "application/vnd.jupyter.widget-view+json": {
       "version_major": 2,
       "version_minor": 0,
       "model_id": "b6f238eb03db488aa0713782b22632ea"
      }
     },
     "metadata": {},
     "output_type": "display_data"
    },
    {
     "data": {
      "text/plain": [
       "Epoch 41/50:   0%|          | 0/306 [00:00<?, ?it/s]"
      ],
      "application/vnd.jupyter.widget-view+json": {
       "version_major": 2,
       "version_minor": 0,
       "model_id": "6b622dacc39043bb8352e5805fc0674b"
      }
     },
     "metadata": {},
     "output_type": "display_data"
    },
    {
     "data": {
      "text/plain": [
       "Epoch 42/50:   0%|          | 0/306 [00:00<?, ?it/s]"
      ],
      "application/vnd.jupyter.widget-view+json": {
       "version_major": 2,
       "version_minor": 0,
       "model_id": "721b45a5bef84a408e64b62317644b43"
      }
     },
     "metadata": {},
     "output_type": "display_data"
    },
    {
     "data": {
      "text/plain": [
       "Epoch 43/50:   0%|          | 0/306 [00:00<?, ?it/s]"
      ],
      "application/vnd.jupyter.widget-view+json": {
       "version_major": 2,
       "version_minor": 0,
       "model_id": "5134aa1393424a7aa703a1f3b241a4a2"
      }
     },
     "metadata": {},
     "output_type": "display_data"
    },
    {
     "data": {
      "text/plain": [
       "Epoch 44/50:   0%|          | 0/306 [00:00<?, ?it/s]"
      ],
      "application/vnd.jupyter.widget-view+json": {
       "version_major": 2,
       "version_minor": 0,
       "model_id": "156cea34ffcd43e6831de46e167a5114"
      }
     },
     "metadata": {},
     "output_type": "display_data"
    },
    {
     "data": {
      "text/plain": [
       "Epoch 45/50:   0%|          | 0/306 [00:00<?, ?it/s]"
      ],
      "application/vnd.jupyter.widget-view+json": {
       "version_major": 2,
       "version_minor": 0,
       "model_id": "bc0f30c8139d4f92aab96e4f346c6510"
      }
     },
     "metadata": {},
     "output_type": "display_data"
    },
    {
     "data": {
      "text/plain": [
       "Epoch 46/50:   0%|          | 0/306 [00:00<?, ?it/s]"
      ],
      "application/vnd.jupyter.widget-view+json": {
       "version_major": 2,
       "version_minor": 0,
       "model_id": "0365f3d59c4b45cd9f00f09f311aa12b"
      }
     },
     "metadata": {},
     "output_type": "display_data"
    },
    {
     "data": {
      "text/plain": [
       "Epoch 47/50:   0%|          | 0/306 [00:00<?, ?it/s]"
      ],
      "application/vnd.jupyter.widget-view+json": {
       "version_major": 2,
       "version_minor": 0,
       "model_id": "c8a045f68a534565a22609e2351b1819"
      }
     },
     "metadata": {},
     "output_type": "display_data"
    },
    {
     "data": {
      "text/plain": [
       "Epoch 48/50:   0%|          | 0/306 [00:00<?, ?it/s]"
      ],
      "application/vnd.jupyter.widget-view+json": {
       "version_major": 2,
       "version_minor": 0,
       "model_id": "e02404c0eab5489cb346d996a4472d6a"
      }
     },
     "metadata": {},
     "output_type": "display_data"
    },
    {
     "data": {
      "text/plain": [
       "Epoch 49/50:   0%|          | 0/306 [00:00<?, ?it/s]"
      ],
      "application/vnd.jupyter.widget-view+json": {
       "version_major": 2,
       "version_minor": 0,
       "model_id": "a40b6992b9a643ef9f59bf134793497c"
      }
     },
     "metadata": {},
     "output_type": "display_data"
    },
    {
     "data": {
      "text/plain": [
       "Epoch 50/50:   0%|          | 0/306 [00:00<?, ?it/s]"
      ],
      "application/vnd.jupyter.widget-view+json": {
       "version_major": 2,
       "version_minor": 0,
       "model_id": "865fe667acfb496e8f9603f1555197af"
      }
     },
     "metadata": {},
     "output_type": "display_data"
    }
   ],
   "execution_count": 86
  },
  {
   "metadata": {
    "ExecuteTime": {
     "end_time": "2025-05-11T14:26:01.522523Z",
     "start_time": "2025-05-11T14:26:01.466671Z"
    }
   },
   "cell_type": "code",
   "source": [
    "# average\n",
    "print(len(loader.dataset)//BATCH_SIZE)\n",
    "averages_losses = []\n",
    "step = 100\n",
    "for i in range(len(losses) // step):\n",
    "    averages_losses.append(sum(losses[i:i+step])/step)\n",
    "    \n",
    "\n",
    "plt.plot(range(len(averages_losses)), averages_losses)\n",
    "plt.show()"
   ],
   "id": "3f7ec4f699ea85a1",
   "outputs": [
    {
     "name": "stdout",
     "output_type": "stream",
     "text": [
      "1225\n"
     ]
    },
    {
     "data": {
      "text/plain": [
       "<Figure size 640x480 with 1 Axes>"
      ],
      "image/png": "[encoded data removed]"
     },
     "metadata": {},
     "output_type": "display_data"
    }
   ],
   "execution_count": 87
  },
  {
   "metadata": {
    "ExecuteTime": {
     "end_time": "2025-05-11T14:29:22.511515Z",
     "start_time": "2025-05-11T14:29:13.852428Z"
    }
   },
   "cell_type": "code",
   "source": [
    "model.eval()\n",
    "samples = ddpm.sample(1000)\n",
    "show_images(samples, num=25)"
   ],
   "id": "bc71ce69b16ebab2",
   "outputs": [
    {
     "data": {
      "text/plain": [
       "0it [00:00, ?it/s]"
      ],
      "application/vnd.jupyter.widget-view+json": {
       "version_major": 2,
       "version_minor": 0,
       "model_id": "b1446db323b74b3e8243837c1cd1d1ab"
      }
     },
     "metadata": {},
     "output_type": "display_data"
    },
    {
     "data": {
      "text/plain": [
       "<Figure size 1000x1000 with 25 Axes>"
      ],
      "image/png": "[encoded data removed]"
     },
     "metadata": {},
     "output_type": "display_data"
    }
   ],
   "execution_count": 96
  },
  {
   "metadata": {
    "ExecuteTime": {
     "end_time": "2025-05-11T14:32:40.179180Z",
     "start_time": "2025-05-11T14:32:39.912678Z"
    }
   },
   "cell_type": "code",
   "source": [
    "for i in range(samples.size(0)):\n",
    "    img = denorm(samples[i])\n",
    "    save_image(img, f\"model2/images/image_{i:04d}.png\")"
   ],
   "id": "9ef7d8f871cce15d",
   "outputs": [],
   "execution_count": 102
  },
  {
   "metadata": {
    "ExecuteTime": {
     "end_time": "2025-05-11T14:28:51.604603Z",
     "start_time": "2025-05-11T14:28:51.588878Z"
    }
   },
   "cell_type": "code",
   "source": [
    "state_dict = model.state_dict()\n",
    "torch.save(state_dict, \"traffic_generative_diffusion_v1.tar\")"
   ],
   "id": "83ab51cabe066406",
   "outputs": [],
   "execution_count": 95
  },
  {
   "metadata": {},
   "cell_type": "markdown",
   "source": "# Evaluation",
   "id": "c9fc643164939126"
  },
  {
   "metadata": {
    "ExecuteTime": {
     "end_time": "2025-05-11T13:35:02.387545Z",
     "start_time": "2025-05-11T13:35:02.381683Z"
    }
   },
   "cell_type": "code",
   "source": [
    "class Evaluator(nn.Module):\n",
    "    def __init__(self, input_dim, hidden_dim):\n",
    "        super(Evaluator, self).__init__()\n",
    "\n",
    "        self.fc_1 = nn.Linear(input_dim, hidden_dim)\n",
    "        self.fc_2 = nn.Linear(hidden_dim, 50)\n",
    "        self.fc_out  = nn.Linear(50, 43)\n",
    "        \n",
    "        self.LeakyReLU = nn.LeakyReLU(0.2)\n",
    "        \n",
    "    def get_features(self, x):\n",
    "        x = torch.flatten(x, 1)\n",
    "        x = self.LeakyReLU(self.fc_1(x))\n",
    "        x = self.LeakyReLU(self.fc_2(x))\n",
    "        return x\n",
    "    \n",
    "\n",
    "    def forward(self, x):\n",
    "        x = self.get_features(x)\n",
    "        x = self.fc_out(x)\n",
    "        return x\n",
    "\n",
    "evaluator = Evaluator(3*32*32, 256).to(device)"
   ],
   "id": "f7f14a2e516074f0",
   "outputs": [],
   "execution_count": 39
  },
  {
   "metadata": {
    "ExecuteTime": {
     "end_time": "2025-05-11T13:35:02.701818Z",
     "start_time": "2025-05-11T13:35:02.699807Z"
    }
   },
   "cell_type": "code",
   "source": [
    "# Optimizers\n",
    "optimizer = torch.optim.Adam(evaluator.parameters(), lr=0.001)\n",
    "scheduler = torch.optim.lr_scheduler.ExponentialLR(optimizer=optimizer, gamma=0.97)\n",
    "\n",
    "# loss\n",
    "criterion = nn.CrossEntropyLoss()"
   ],
   "id": "a8083b0a3f2c60b7",
   "outputs": [],
   "execution_count": 40
  },
  {
   "metadata": {
    "ExecuteTime": {
     "end_time": "2025-05-11T13:36:34.509024Z",
     "start_time": "2025-05-11T13:35:03.067707Z"
    }
   },
   "cell_type": "code",
   "source": [
    "num_epochs = 20\n",
    "for epoch in range(num_epochs):\n",
    "    for data, targets in iter(loader):\n",
    "        data = data.to(device)\n",
    "        targets = targets.to(device)\n",
    "\n",
    "        results = evaluator(data)\n",
    "        loss = criterion(results, targets)\n",
    "\n",
    "        optimizer.zero_grad()\n",
    "        loss.backward()\n",
    "        optimizer.step()\n",
    "    print(loss.item())"
   ],
   "id": "892ac2b29562a753",
   "outputs": [
    {
     "name": "stdout",
     "output_type": "stream",
     "text": [
      "0.6741520762443542\n",
      "0.5116241574287415\n",
      "0.3759540617465973\n",
      "0.26313316822052\n",
      "0.32532018423080444\n",
      "0.4158147871494293\n",
      "0.2765255868434906\n",
      "0.24311311542987823\n",
      "0.22931087017059326\n",
      "0.24249593913555145\n",
      "0.269351989030838\n",
      "0.1650570183992386\n",
      "0.13379107415676117\n",
      "0.15924406051635742\n",
      "0.282192587852478\n",
      "0.11891641467809677\n",
      "0.19397076964378357\n",
      "0.10333108901977539\n",
      "0.10398410260677338\n",
      "0.2577746510505676\n"
     ]
    }
   ],
   "execution_count": 41
  },
  {
   "metadata": {
    "ExecuteTime": {
     "end_time": "2025-05-11T13:44:11.103202Z",
     "start_time": "2025-05-11T13:44:04.555300Z"
    }
   },
   "cell_type": "code",
   "source": [
    "orig_data = [x[0] for x in list(train_data)[:1000]]\n",
    "orig_data = torch.cat(orig_data).view(1000, 3, 32, 32)"
   ],
   "id": "491c527ea1a37f5f",
   "outputs": [],
   "execution_count": 55
  },
  {
   "metadata": {
    "ExecuteTime": {
     "end_time": "2025-05-11T14:26:34.556869Z",
     "start_time": "2025-05-11T14:26:34.553693Z"
    }
   },
   "cell_type": "code",
   "source": [
    "with torch.no_grad():\n",
    "    dist_orig_data = evaluator.get_features(orig_data.to(device)).cpu()\n",
    "    dist_diff = evaluator.get_features(samples.to(device)).cpu()"
   ],
   "id": "a36f387b68d21ee1",
   "outputs": [],
   "execution_count": 90
  },
  {
   "metadata": {
    "ExecuteTime": {
     "end_time": "2025-05-11T13:44:43.333699Z",
     "start_time": "2025-05-11T13:44:43.330379Z"
    }
   },
   "cell_type": "code",
   "source": [
    "######### Frechet Inception distance based on implementation from https://github.com/mseitzer/pytorch-fid\n",
    "\n",
    "import numpy as np\n",
    "from scipy import linalg\n",
    "\n",
    "\n",
    "def calculate_frechet_distance(distribution_1, distribution_2, eps=1e-6):\n",
    "    mu1 = np.mean(distribution_1, axis=0)\n",
    "    sigma1 = np.cov(distribution_1, rowvar=False)\n",
    "\n",
    "    mu2 = np.mean(distribution_2, axis=0)\n",
    "    sigma2 = np.cov(distribution_2, rowvar=False)\n",
    "\n",
    "    \"\"\"Numpy implementation of the Frechet Distance.\n",
    "    The Frechet distance between two multivariate Gaussians X_1 ~ N(mu_1, C_1)\n",
    "    and X_2 ~ N(mu_2, C_2) is\n",
    "            d^2 = ||mu_1 - mu_2||^2 + Tr(C_1 + C_2 - 2*sqrt(C_1*C_2)).\n",
    "    Stable version by Dougal J. Sutherland.\n",
    "    Params:\n",
    "    -- mu1   : Numpy array containing the activations of a layer of the\n",
    "               inception net (like returned by the function 'get_predictions')\n",
    "               for generated samples.\n",
    "    -- mu2   : The sample mean over activations, precalculated on an\n",
    "               representative data set.\n",
    "    -- sigma1: The covariance matrix over activations for generated samples.\n",
    "    -- sigma2: The covariance matrix over activations, precalculated on an\n",
    "               representative data set.\n",
    "    Returns:\n",
    "    --   : The Frechet Distance.\n",
    "    \"\"\"\n",
    "\n",
    "    mu1 = np.atleast_1d(mu1)\n",
    "    mu2 = np.atleast_1d(mu2)\n",
    "\n",
    "    sigma1 = np.atleast_2d(sigma1)\n",
    "    sigma2 = np.atleast_2d(sigma2)\n",
    "\n",
    "    assert mu1.shape == mu2.shape, \\\n",
    "        'Training and test mean vectors have different lengths'\n",
    "    assert sigma1.shape == sigma2.shape, \\\n",
    "        'Training and test covariances have different dimensions'\n",
    "\n",
    "    diff = mu1 - mu2\n",
    "\n",
    "    # Product might be almost singular\n",
    "    covmean, _ = linalg.sqrtm(sigma1.dot(sigma2), disp=False)\n",
    "    if not np.isfinite(covmean).all():\n",
    "        msg = ('fid calculation produces singular product; '\n",
    "               'adding %s to diagonal of cov estimates') % eps\n",
    "        print(msg)\n",
    "        offset = np.eye(sigma1.shape[0]) * eps\n",
    "        covmean = linalg.sqrtm((sigma1 + offset).dot(sigma2 + offset))\n",
    "\n",
    "    # Numerical error might give slight imaginary component\n",
    "    if np.iscomplexobj(covmean):\n",
    "        if not np.allclose(np.diagonal(covmean).imag, 0, atol=1e-3):\n",
    "            m = np.max(np.abs(covmean.imag))\n",
    "            raise ValueError('Imaginary component {}'.format(m))\n",
    "        covmean = covmean.real\n",
    "\n",
    "    tr_covmean = np.trace(covmean)\n",
    "\n",
    "    return (diff.dot(diff) + np.trace(sigma1) +\n",
    "            np.trace(sigma2) - 2 * tr_covmean)"
   ],
   "id": "8608854a4243bb6e",
   "outputs": [],
   "execution_count": 57
  },
  {
   "metadata": {
    "ExecuteTime": {
     "end_time": "2025-05-11T14:26:36.960118Z",
     "start_time": "2025-05-11T14:26:36.955993Z"
    }
   },
   "cell_type": "code",
   "source": [
    "for name, obj in zip(['orig','diff','gan','cond_gan'],[dist_orig_data.numpy(),dist_diff.numpy()]):\n",
    "    print(f\"FD {name}: {calculate_frechet_distance(dist_orig_data.numpy(),obj)}\")"
   ],
   "id": "14e4c0d520ef61f",
   "outputs": [
    {
     "name": "stdout",
     "output_type": "stream",
     "text": [
      "FD orig: 2.8194335754960775e-11\n",
      "FD diff: 4226.03683439164\n"
     ]
    }
   ],
   "execution_count": 91
  },
  {
   "metadata": {},
   "cell_type": "code",
   "outputs": [],
   "execution_count": null,
   "source": "",
   "id": "5206e099b52eb607"
  }
 ],
 "metadata": {
  "kernelspec": {
   "display_name": "Python 3",
   "language": "python",
   "name": "python3"
  },
  "language_info": {
   "codemirror_mode": {
    "name": "ipython",
    "version": 2
   },
   "file_extension": ".py",
   "mimetype": "text/x-python",
   "name": "python",
   "nbconvert_exporter": "python",
   "pygments_lexer": "ipython2",
   "version": "2.7.6"
  }
 },
 "nbformat": 4,
 "nbformat_minor": 5
}
