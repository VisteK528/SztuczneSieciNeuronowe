{
 "cells": [
  {
   "cell_type": "code",
   "id": "initial_id",
   "metadata": {
    "collapsed": true,
    "ExecuteTime": {
     "end_time": "2025-03-07T07:25:43.995978Z",
     "start_time": "2025-03-07T07:25:43.643440Z"
    }
   },
   "source": "import pandas as pd",
   "outputs": [],
   "execution_count": 1
  },
  {
   "metadata": {
    "ExecuteTime": {
     "end_time": "2025-03-07T08:15:07.936801Z",
     "start_time": "2025-03-07T08:15:07.922846Z"
    }
   },
   "cell_type": "code",
   "source": "df = pd.read_csv(\"data.csv\")",
   "id": "3274aefab7f252eb",
   "outputs": [],
   "execution_count": 71
  },
  {
   "metadata": {
    "ExecuteTime": {
     "end_time": "2025-03-07T08:15:08.201807Z",
     "start_time": "2025-03-07T08:15:08.189837Z"
    }
   },
   "cell_type": "code",
   "source": "df",
   "id": "ce5572889201ed26",
   "outputs": [
    {
     "data": {
      "text/plain": [
       "       instant      dteday  season  yr  mnth  hr  holiday  weekday  \\\n",
       "0            1  2011-01-01       1   0     1   0        0        6   \n",
       "1            2  2011-01-01       1   0     1   1        0        6   \n",
       "2            3  2011-01-01       1   0     1   2        0        6   \n",
       "3            4  2011-01-01       1   0     1   3        0        6   \n",
       "4            5  2011-01-01       1   0     1   4        0        6   \n",
       "...        ...         ...     ...  ..   ...  ..      ...      ...   \n",
       "10881    17089  2012-12-19       4   1    12  19        0        3   \n",
       "10882    17090  2012-12-19       4   1    12  20        0        3   \n",
       "10883    17091  2012-12-19       4   1    12  21        0        3   \n",
       "10884    17092  2012-12-19       4   1    12  22        0        3   \n",
       "10885    17093  2012-12-19       4   1    12  23        0        3   \n",
       "\n",
       "       workingday  weathersit  temp   atemp   hum  windspeed  casual  \\\n",
       "0               0           1  0.24  0.2879  0.81     0.0000       3   \n",
       "1               0           1  0.22  0.2727  0.80     0.0000       8   \n",
       "2               0           1  0.22  0.2727  0.80     0.0000       5   \n",
       "3               0           1  0.24  0.2879  0.75     0.0000       3   \n",
       "4               0           1  0.24  0.2879  0.75     0.0000       0   \n",
       "...           ...         ...   ...     ...   ...        ...     ...   \n",
       "10881           1           1  0.38  0.3939  0.50     0.3881       7   \n",
       "10882           1           1  0.36  0.3485  0.57     0.2239      10   \n",
       "10883           1           1  0.34  0.3182  0.61     0.2239       4   \n",
       "10884           1           1  0.34  0.3485  0.61     0.0896      12   \n",
       "10885           1           1  0.32  0.3333  0.66     0.1343       4   \n",
       "\n",
       "       registered  cnt  \n",
       "0              13   16  \n",
       "1              32   40  \n",
       "2              27   32  \n",
       "3              10   13  \n",
       "4               1    1  \n",
       "...           ...  ...  \n",
       "10881         329  336  \n",
       "10882         231  241  \n",
       "10883         164  168  \n",
       "10884         117  129  \n",
       "10885          84   88  \n",
       "\n",
       "[10886 rows x 17 columns]"
      ],
      "text/html": [
       "<div>\n",
       "<style scoped>\n",
       "    .dataframe tbody tr th:only-of-type {\n",
       "        vertical-align: middle;\n",
       "    }\n",
       "\n",
       "    .dataframe tbody tr th {\n",
       "        vertical-align: top;\n",
       "    }\n",
       "\n",
       "    .dataframe thead th {\n",
       "        text-align: right;\n",
       "    }\n",
       "</style>\n",
       "<table border=\"1\" class=\"dataframe\">\n",
       "  <thead>\n",
       "    <tr style=\"text-align: right;\">\n",
       "      <th></th>\n",
       "      <th>instant</th>\n",
       "      <th>dteday</th>\n",
       "      <th>season</th>\n",
       "      <th>yr</th>\n",
       "      <th>mnth</th>\n",
       "      <th>hr</th>\n",
       "      <th>holiday</th>\n",
       "      <th>weekday</th>\n",
       "      <th>workingday</th>\n",
       "      <th>weathersit</th>\n",
       "      <th>temp</th>\n",
       "      <th>atemp</th>\n",
       "      <th>hum</th>\n",
       "      <th>windspeed</th>\n",
       "      <th>casual</th>\n",
       "      <th>registered</th>\n",
       "      <th>cnt</th>\n",
       "    </tr>\n",
       "  </thead>\n",
       "  <tbody>\n",
       "    <tr>\n",
       "      <th>0</th>\n",
       "      <td>1</td>\n",
       "      <td>2011-01-01</td>\n",
       "      <td>1</td>\n",
       "      <td>0</td>\n",
       "      <td>1</td>\n",
       "      <td>0</td>\n",
       "      <td>0</td>\n",
       "      <td>6</td>\n",
       "      <td>0</td>\n",
       "      <td>1</td>\n",
       "      <td>0.24</td>\n",
       "      <td>0.2879</td>\n",
       "      <td>0.81</td>\n",
       "      <td>0.0000</td>\n",
       "      <td>3</td>\n",
       "      <td>13</td>\n",
       "      <td>16</td>\n",
       "    </tr>\n",
       "    <tr>\n",
       "      <th>1</th>\n",
       "      <td>2</td>\n",
       "      <td>2011-01-01</td>\n",
       "      <td>1</td>\n",
       "      <td>0</td>\n",
       "      <td>1</td>\n",
       "      <td>1</td>\n",
       "      <td>0</td>\n",
       "      <td>6</td>\n",
       "      <td>0</td>\n",
       "      <td>1</td>\n",
       "      <td>0.22</td>\n",
       "      <td>0.2727</td>\n",
       "      <td>0.80</td>\n",
       "      <td>0.0000</td>\n",
       "      <td>8</td>\n",
       "      <td>32</td>\n",
       "      <td>40</td>\n",
       "    </tr>\n",
       "    <tr>\n",
       "      <th>2</th>\n",
       "      <td>3</td>\n",
       "      <td>2011-01-01</td>\n",
       "      <td>1</td>\n",
       "      <td>0</td>\n",
       "      <td>1</td>\n",
       "      <td>2</td>\n",
       "      <td>0</td>\n",
       "      <td>6</td>\n",
       "      <td>0</td>\n",
       "      <td>1</td>\n",
       "      <td>0.22</td>\n",
       "      <td>0.2727</td>\n",
       "      <td>0.80</td>\n",
       "      <td>0.0000</td>\n",
       "      <td>5</td>\n",
       "      <td>27</td>\n",
       "      <td>32</td>\n",
       "    </tr>\n",
       "    <tr>\n",
       "      <th>3</th>\n",
       "      <td>4</td>\n",
       "      <td>2011-01-01</td>\n",
       "      <td>1</td>\n",
       "      <td>0</td>\n",
       "      <td>1</td>\n",
       "      <td>3</td>\n",
       "      <td>0</td>\n",
       "      <td>6</td>\n",
       "      <td>0</td>\n",
       "      <td>1</td>\n",
       "      <td>0.24</td>\n",
       "      <td>0.2879</td>\n",
       "      <td>0.75</td>\n",
       "      <td>0.0000</td>\n",
       "      <td>3</td>\n",
       "      <td>10</td>\n",
       "      <td>13</td>\n",
       "    </tr>\n",
       "    <tr>\n",
       "      <th>4</th>\n",
       "      <td>5</td>\n",
       "      <td>2011-01-01</td>\n",
       "      <td>1</td>\n",
       "      <td>0</td>\n",
       "      <td>1</td>\n",
       "      <td>4</td>\n",
       "      <td>0</td>\n",
       "      <td>6</td>\n",
       "      <td>0</td>\n",
       "      <td>1</td>\n",
       "      <td>0.24</td>\n",
       "      <td>0.2879</td>\n",
       "      <td>0.75</td>\n",
       "      <td>0.0000</td>\n",
       "      <td>0</td>\n",
       "      <td>1</td>\n",
       "      <td>1</td>\n",
       "    </tr>\n",
       "    <tr>\n",
       "      <th>...</th>\n",
       "      <td>...</td>\n",
       "      <td>...</td>\n",
       "      <td>...</td>\n",
       "      <td>...</td>\n",
       "      <td>...</td>\n",
       "      <td>...</td>\n",
       "      <td>...</td>\n",
       "      <td>...</td>\n",
       "      <td>...</td>\n",
       "      <td>...</td>\n",
       "      <td>...</td>\n",
       "      <td>...</td>\n",
       "      <td>...</td>\n",
       "      <td>...</td>\n",
       "      <td>...</td>\n",
       "      <td>...</td>\n",
       "      <td>...</td>\n",
       "    </tr>\n",
       "    <tr>\n",
       "      <th>10881</th>\n",
       "      <td>17089</td>\n",
       "      <td>2012-12-19</td>\n",
       "      <td>4</td>\n",
       "      <td>1</td>\n",
       "      <td>12</td>\n",
       "      <td>19</td>\n",
       "      <td>0</td>\n",
       "      <td>3</td>\n",
       "      <td>1</td>\n",
       "      <td>1</td>\n",
       "      <td>0.38</td>\n",
       "      <td>0.3939</td>\n",
       "      <td>0.50</td>\n",
       "      <td>0.3881</td>\n",
       "      <td>7</td>\n",
       "      <td>329</td>\n",
       "      <td>336</td>\n",
       "    </tr>\n",
       "    <tr>\n",
       "      <th>10882</th>\n",
       "      <td>17090</td>\n",
       "      <td>2012-12-19</td>\n",
       "      <td>4</td>\n",
       "      <td>1</td>\n",
       "      <td>12</td>\n",
       "      <td>20</td>\n",
       "      <td>0</td>\n",
       "      <td>3</td>\n",
       "      <td>1</td>\n",
       "      <td>1</td>\n",
       "      <td>0.36</td>\n",
       "      <td>0.3485</td>\n",
       "      <td>0.57</td>\n",
       "      <td>0.2239</td>\n",
       "      <td>10</td>\n",
       "      <td>231</td>\n",
       "      <td>241</td>\n",
       "    </tr>\n",
       "    <tr>\n",
       "      <th>10883</th>\n",
       "      <td>17091</td>\n",
       "      <td>2012-12-19</td>\n",
       "      <td>4</td>\n",
       "      <td>1</td>\n",
       "      <td>12</td>\n",
       "      <td>21</td>\n",
       "      <td>0</td>\n",
       "      <td>3</td>\n",
       "      <td>1</td>\n",
       "      <td>1</td>\n",
       "      <td>0.34</td>\n",
       "      <td>0.3182</td>\n",
       "      <td>0.61</td>\n",
       "      <td>0.2239</td>\n",
       "      <td>4</td>\n",
       "      <td>164</td>\n",
       "      <td>168</td>\n",
       "    </tr>\n",
       "    <tr>\n",
       "      <th>10884</th>\n",
       "      <td>17092</td>\n",
       "      <td>2012-12-19</td>\n",
       "      <td>4</td>\n",
       "      <td>1</td>\n",
       "      <td>12</td>\n",
       "      <td>22</td>\n",
       "      <td>0</td>\n",
       "      <td>3</td>\n",
       "      <td>1</td>\n",
       "      <td>1</td>\n",
       "      <td>0.34</td>\n",
       "      <td>0.3485</td>\n",
       "      <td>0.61</td>\n",
       "      <td>0.0896</td>\n",
       "      <td>12</td>\n",
       "      <td>117</td>\n",
       "      <td>129</td>\n",
       "    </tr>\n",
       "    <tr>\n",
       "      <th>10885</th>\n",
       "      <td>17093</td>\n",
       "      <td>2012-12-19</td>\n",
       "      <td>4</td>\n",
       "      <td>1</td>\n",
       "      <td>12</td>\n",
       "      <td>23</td>\n",
       "      <td>0</td>\n",
       "      <td>3</td>\n",
       "      <td>1</td>\n",
       "      <td>1</td>\n",
       "      <td>0.32</td>\n",
       "      <td>0.3333</td>\n",
       "      <td>0.66</td>\n",
       "      <td>0.1343</td>\n",
       "      <td>4</td>\n",
       "      <td>84</td>\n",
       "      <td>88</td>\n",
       "    </tr>\n",
       "  </tbody>\n",
       "</table>\n",
       "<p>10886 rows × 17 columns</p>\n",
       "</div>"
      ]
     },
     "execution_count": 72,
     "metadata": {},
     "output_type": "execute_result"
    }
   ],
   "execution_count": 72
  },
  {
   "metadata": {
    "ExecuteTime": {
     "end_time": "2025-03-07T08:15:08.764730Z",
     "start_time": "2025-03-07T08:15:08.761176Z"
    }
   },
   "cell_type": "code",
   "source": "df = df.drop(columns=[\"instant\", \"dteday\", \"casual\", \"registered\"])",
   "id": "327bda3cbf644cc5",
   "outputs": [],
   "execution_count": 73
  },
  {
   "metadata": {
    "ExecuteTime": {
     "end_time": "2025-03-07T08:15:09.161199Z",
     "start_time": "2025-03-07T08:15:09.157063Z"
    }
   },
   "cell_type": "code",
   "source": "len(df.columns)",
   "id": "4b53c2a9c33603db",
   "outputs": [
    {
     "data": {
      "text/plain": [
       "13"
      ]
     },
     "execution_count": 74,
     "metadata": {},
     "output_type": "execute_result"
    }
   ],
   "execution_count": 74
  },
  {
   "metadata": {
    "ExecuteTime": {
     "end_time": "2025-03-07T08:32:25.980545Z",
     "start_time": "2025-03-07T08:32:25.975222Z"
    }
   },
   "cell_type": "code",
   "source": [
    "train = df.sample(frac=0.8,random_state=200)\n",
    "val = train.sample(frac=0.2, random_state=200)\n",
    "train = train.drop(val.index)\n",
    "\n",
    "test = df.drop(train.index)"
   ],
   "id": "652f239313e4bb00",
   "outputs": [],
   "execution_count": 114
  },
  {
   "metadata": {
    "ExecuteTime": {
     "end_time": "2025-03-07T08:32:28.100283Z",
     "start_time": "2025-03-07T08:32:28.092462Z"
    }
   },
   "cell_type": "code",
   "source": [
    "import torch\n",
    "import torch.utils.data as data\n",
    "import torch.nn as nn\n",
    "import numpy as np\n",
    "import matplotlib.pyplot as plt\n",
    "from collections import Counter"
   ],
   "id": "e73f9a1bf6110bde",
   "outputs": [],
   "execution_count": 115
  },
  {
   "metadata": {
    "ExecuteTime": {
     "end_time": "2025-03-07T08:32:28.652613Z",
     "start_time": "2025-03-07T08:32:28.639806Z"
    }
   },
   "cell_type": "code",
   "source": "c = Counter(df[\"cnt\"])",
   "id": "a0bafe55ee664a6a",
   "outputs": [],
   "execution_count": 116
  },
  {
   "metadata": {
    "ExecuteTime": {
     "end_time": "2025-03-07T08:32:29.935974Z",
     "start_time": "2025-03-07T08:32:29.151632Z"
    }
   },
   "cell_type": "code",
   "source": "plt.bar(c.keys(), c.values())",
   "id": "360c237a04a332b8",
   "outputs": [
    {
     "data": {
      "text/plain": [
       "<BarContainer object of 822 artists>"
      ]
     },
     "execution_count": 117,
     "metadata": {},
     "output_type": "execute_result"
    },
    {
     "data": {
      "text/plain": [
       "<Figure size 640x480 with 1 Axes>"
      ],
      "image/png": "[encoded data removed]"
     },
     "metadata": {},
     "output_type": "display_data"
    }
   ],
   "execution_count": 117
  },
  {
   "metadata": {},
   "cell_type": "markdown",
   "source": "# Data loading",
   "id": "79d0a902ac68cbe9"
  },
  {
   "metadata": {
    "ExecuteTime": {
     "end_time": "2025-03-07T08:32:31.835367Z",
     "start_time": "2025-03-07T08:32:31.830737Z"
    }
   },
   "cell_type": "code",
   "source": [
    "train_labels = torch.tensor(train.values[:, -1].astype(np.int64))\n",
    "train_data = train.values[:,:-1].astype(np.float32)\n",
    "\n",
    "train_dataset = data.TensorDataset(torch.from_numpy(train_data), train_labels)\n",
    "\n",
    "val_labels = torch.tensor(val.values[:, -1].astype(np.int64))\n",
    "val_data = val.values[:,:-1].astype(np.float32)\n",
    "\n",
    "val_dataset = data.TensorDataset(torch.from_numpy(val_data), val_labels)\n",
    "\n",
    "test_labels = torch.tensor(test.values[:, -1].astype(np.int64))\n",
    "test_data = test.values[:,:-1].astype(np.float32)\n",
    "\n",
    "test_dataset = data.TensorDataset(torch.from_numpy(test_data), test_labels)"
   ],
   "id": "4be7231b6c872faf",
   "outputs": [],
   "execution_count": 118
  },
  {
   "metadata": {
    "ExecuteTime": {
     "end_time": "2025-03-07T08:32:32.853213Z",
     "start_time": "2025-03-07T08:32:32.846795Z"
    }
   },
   "cell_type": "code",
   "source": [
    "BATCH_SIZE = 256\n",
    "train_data_loader = data.DataLoader(train_dataset, batch_size=BATCH_SIZE, shuffle=True)\n",
    "val_data_loader = data.DataLoader(val_dataset, batch_size=BATCH_SIZE, shuffle=True)\n",
    "test_data_loader = data.DataLoader(train_dataset, batch_size=BATCH_SIZE, shuffle=True)"
   ],
   "id": "2243986c64b79aa6",
   "outputs": [],
   "execution_count": 119
  },
  {
   "metadata": {},
   "cell_type": "markdown",
   "source": "# Model",
   "id": "f401795a5c8e2ab7"
  },
  {
   "metadata": {
    "ExecuteTime": {
     "end_time": "2025-03-07T08:32:39.441929Z",
     "start_time": "2025-03-07T08:32:39.437416Z"
    }
   },
   "cell_type": "code",
   "source": [
    "class BikePredictor(nn.Module):\n",
    "    def __init__(self, num_inputs, num_outputs):\n",
    "        super().__init__()\n",
    "        self.linear1 = nn.Linear(num_inputs, 512)\n",
    "        self.act_fn = nn.LeakyReLU()\n",
    "        self.linear2 = nn.Linear(512, 128)\n",
    "        self.linear3 = nn.Linear(128, num_outputs)\n",
    "\n",
    "    def forward(self, x):\n",
    "        x = self.linear1(x)\n",
    "        x = self.act_fn(x)\n",
    "        x = nn.Dropout(p=0.25)(x)\n",
    "        x = self.linear2(x)\n",
    "        x = self.act_fn(x)\n",
    "        x = nn.Dropout(p=0.25)(x)\n",
    "        x = self.linear3(x)\n",
    "        return x"
   ],
   "id": "3cbf9e8c72d80f3e",
   "outputs": [],
   "execution_count": 120
  },
  {
   "metadata": {
    "ExecuteTime": {
     "end_time": "2025-03-07T08:32:40.081911Z",
     "start_time": "2025-03-07T08:32:40.077356Z"
    }
   },
   "cell_type": "code",
   "source": [
    "if torch.cuda.is_available():\n",
    "    device = torch.device(\"cuda\")\n",
    "    torch.cuda.manual_seed(42)\n",
    "    torch.cuda.manual_seed_all(42)\n",
    "\n",
    "else:\n",
    "    device = torch.device(\"cpu\")\n",
    "\n",
    "print(device.type)"
   ],
   "id": "6789357611c11c7f",
   "outputs": [
    {
     "name": "stdout",
     "output_type": "stream",
     "text": [
      "cuda\n"
     ]
    }
   ],
   "execution_count": 121
  },
  {
   "metadata": {
    "ExecuteTime": {
     "end_time": "2025-03-07T08:32:41.011184Z",
     "start_time": "2025-03-07T08:32:41.006751Z"
    }
   },
   "cell_type": "code",
   "source": [
    "model = BikePredictor(12, 1)\n",
    "model.to(device)"
   ],
   "id": "fdf1a04982eb855d",
   "outputs": [
    {
     "data": {
      "text/plain": [
       "BikePredictor(\n",
       "  (linear1): Linear(in_features=12, out_features=512, bias=True)\n",
       "  (act_fn): LeakyReLU(negative_slope=0.01)\n",
       "  (linear2): Linear(in_features=512, out_features=128, bias=True)\n",
       "  (linear3): Linear(in_features=128, out_features=1, bias=True)\n",
       ")"
      ]
     },
     "execution_count": 122,
     "metadata": {},
     "output_type": "execute_result"
    }
   ],
   "execution_count": 122
  },
  {
   "metadata": {
    "ExecuteTime": {
     "end_time": "2025-03-07T08:32:43.021569Z",
     "start_time": "2025-03-07T08:32:43.015824Z"
    }
   },
   "cell_type": "code",
   "source": [
    "optimizer = torch.optim.Adam(model.parameters(), lr=1e-2)\n",
    "\n",
    "\n",
    "class RMSLELoss(nn.Module):\n",
    "    def __init__(self):\n",
    "        super(RMSLELoss, self).__init__()\n",
    "\n",
    "    def forward(self, y_pred, y_true):\n",
    "        log_pred = torch.log(torch.clamp(y_pred, min=0) + 1)\n",
    "        log_true = torch.log(y_true + 1)\n",
    "        loss = torch.sqrt(torch.mean((log_pred - log_true) ** 2))\n",
    "        return loss\n",
    "\n",
    "loss_module = RMSLELoss()"
   ],
   "id": "4f2eba5c77dba2c3",
   "outputs": [],
   "execution_count": 123
  },
  {
   "metadata": {},
   "cell_type": "markdown",
   "source": "# Training",
   "id": "c711f12fbb7fbe84"
  },
  {
   "metadata": {
    "ExecuteTime": {
     "end_time": "2025-03-07T08:32:59.402185Z",
     "start_time": "2025-03-07T08:32:49.062169Z"
    }
   },
   "cell_type": "code",
   "source": [
    "EPOCHS = 100\n",
    "train_losses = []\n",
    "val_losses = []\n",
    "for epoch in range(EPOCHS):\n",
    "    total_train_loss = 0\n",
    "    total_val_loss = 0\n",
    "\n",
    "    model.train()\n",
    "    for data_inputs, data_labels in train_data_loader:\n",
    "        data_inputs, data_labels = data_inputs.to(device), data_labels.to(device)\n",
    "\n",
    "        prediction = model(data_inputs)\n",
    "        prediction = prediction.squeeze(dim=1)\n",
    "\n",
    "        loss = loss_module(prediction, data_labels)\n",
    "        optimizer.zero_grad()\n",
    "        loss.backward()\n",
    "        optimizer.step()\n",
    "\n",
    "        total_train_loss += loss.item()\n",
    "\n",
    "\n",
    "    avg_train_loss = total_train_loss / len(train_data_loader)\n",
    "\n",
    "\n",
    "    model.eval()\n",
    "    with torch.no_grad():\n",
    "        for data_inputs, data_labels in val_data_loader:\n",
    "            data_inputs, data_labels = data_inputs.to(device), data_labels.to(device)\n",
    "\n",
    "            prediction = model(data_inputs)\n",
    "            prediction = prediction.squeeze(dim=1)\n",
    "\n",
    "            loss = loss_module(prediction, data_labels)\n",
    "            total_val_loss += loss.item()\n",
    "\n",
    "    avg_val_loss = total_val_loss / len(val_data_loader)\n",
    "\n",
    "    train_losses.append(avg_train_loss)\n",
    "    val_losses.append(avg_val_loss)\n",
    "    print(f\"Epoch {epoch+1}| Train Loss = {avg_train_loss:.4f}| Val Loss = {avg_val_loss:.4f}\")"
   ],
   "id": "998570993fd46f6a",
   "outputs": [
    {
     "name": "stdout",
     "output_type": "stream",
     "text": [
      "Epoch 1| Train Loss = 1.3558| Val Loss = 1.0580\n",
      "Epoch 2| Train Loss = 1.0315| Val Loss = 0.9337\n",
      "Epoch 3| Train Loss = 0.8917| Val Loss = 0.8013\n",
      "Epoch 4| Train Loss = 0.7814| Val Loss = 0.7300\n",
      "Epoch 5| Train Loss = 0.7166| Val Loss = 0.6992\n",
      "Epoch 6| Train Loss = 0.6857| Val Loss = 0.6918\n",
      "Epoch 7| Train Loss = 0.6709| Val Loss = 0.6442\n",
      "Epoch 8| Train Loss = 0.6213| Val Loss = 0.6369\n",
      "Epoch 9| Train Loss = 0.6071| Val Loss = 0.6302\n",
      "Epoch 10| Train Loss = 0.6007| Val Loss = 0.5801\n",
      "Epoch 11| Train Loss = 0.5854| Val Loss = 0.5874\n",
      "Epoch 12| Train Loss = 0.5729| Val Loss = 0.5848\n",
      "Epoch 13| Train Loss = 0.5668| Val Loss = 0.5806\n",
      "Epoch 14| Train Loss = 0.5617| Val Loss = 0.5653\n",
      "Epoch 15| Train Loss = 0.5511| Val Loss = 0.5780\n",
      "Epoch 16| Train Loss = 0.5401| Val Loss = 0.5437\n",
      "Epoch 17| Train Loss = 0.5355| Val Loss = 0.5425\n",
      "Epoch 18| Train Loss = 0.5389| Val Loss = 0.5422\n",
      "Epoch 19| Train Loss = 0.5385| Val Loss = 0.5462\n",
      "Epoch 20| Train Loss = 0.5347| Val Loss = 0.5324\n",
      "Epoch 21| Train Loss = 0.5214| Val Loss = 0.5267\n",
      "Epoch 22| Train Loss = 0.5165| Val Loss = 0.5260\n",
      "Epoch 23| Train Loss = 0.5122| Val Loss = 0.5183\n",
      "Epoch 24| Train Loss = 0.5154| Val Loss = 0.5214\n",
      "Epoch 25| Train Loss = 0.5098| Val Loss = 0.5292\n",
      "Epoch 26| Train Loss = 0.5073| Val Loss = 0.5584\n",
      "Epoch 27| Train Loss = 0.5094| Val Loss = 0.5190\n",
      "Epoch 28| Train Loss = 0.4968| Val Loss = 0.5108\n",
      "Epoch 29| Train Loss = 0.4972| Val Loss = 0.5301\n",
      "Epoch 30| Train Loss = 0.4939| Val Loss = 0.5085\n",
      "Epoch 31| Train Loss = 0.4989| Val Loss = 0.5073\n",
      "Epoch 32| Train Loss = 0.4915| Val Loss = 0.5104\n",
      "Epoch 33| Train Loss = 0.4911| Val Loss = 0.5012\n",
      "Epoch 34| Train Loss = 0.4865| Val Loss = 0.4962\n",
      "Epoch 35| Train Loss = 0.4742| Val Loss = 0.4939\n",
      "Epoch 36| Train Loss = 0.4814| Val Loss = 0.5093\n",
      "Epoch 37| Train Loss = 0.4823| Val Loss = 0.5003\n",
      "Epoch 38| Train Loss = 0.4767| Val Loss = 0.5463\n",
      "Epoch 39| Train Loss = 0.4972| Val Loss = 0.5120\n",
      "Epoch 40| Train Loss = 0.4759| Val Loss = 0.5072\n",
      "Epoch 41| Train Loss = 0.4772| Val Loss = 0.4851\n",
      "Epoch 42| Train Loss = 0.4646| Val Loss = 0.4926\n",
      "Epoch 43| Train Loss = 0.4667| Val Loss = 0.4779\n",
      "Epoch 44| Train Loss = 0.4539| Val Loss = 0.4704\n",
      "Epoch 45| Train Loss = 0.4631| Val Loss = 0.4971\n",
      "Epoch 46| Train Loss = 0.4629| Val Loss = 0.5018\n",
      "Epoch 47| Train Loss = 0.4608| Val Loss = 0.4820\n",
      "Epoch 48| Train Loss = 0.4555| Val Loss = 0.4696\n",
      "Epoch 49| Train Loss = 0.4529| Val Loss = 0.4793\n",
      "Epoch 50| Train Loss = 0.4561| Val Loss = 0.4778\n",
      "Epoch 51| Train Loss = 0.4555| Val Loss = 0.4700\n",
      "Epoch 52| Train Loss = 0.4538| Val Loss = 0.4735\n",
      "Epoch 53| Train Loss = 0.4492| Val Loss = 0.4782\n",
      "Epoch 54| Train Loss = 0.4457| Val Loss = 0.4547\n",
      "Epoch 55| Train Loss = 0.4479| Val Loss = 0.4692\n",
      "Epoch 56| Train Loss = 0.4524| Val Loss = 0.4706\n",
      "Epoch 57| Train Loss = 0.4496| Val Loss = 0.5061\n",
      "Epoch 58| Train Loss = 0.4521| Val Loss = 0.4560\n",
      "Epoch 59| Train Loss = 0.4391| Val Loss = 0.4487\n",
      "Epoch 60| Train Loss = 0.4395| Val Loss = 0.4890\n",
      "Epoch 61| Train Loss = 0.4433| Val Loss = 0.4606\n",
      "Epoch 62| Train Loss = 0.4404| Val Loss = 0.4663\n",
      "Epoch 63| Train Loss = 0.4340| Val Loss = 0.4387\n",
      "Epoch 64| Train Loss = 0.4302| Val Loss = 0.4424\n",
      "Epoch 65| Train Loss = 0.4242| Val Loss = 0.4581\n",
      "Epoch 66| Train Loss = 0.4299| Val Loss = 0.4455\n",
      "Epoch 67| Train Loss = 0.4322| Val Loss = 0.4417\n",
      "Epoch 68| Train Loss = 0.4272| Val Loss = 0.4558\n",
      "Epoch 69| Train Loss = 0.4227| Val Loss = 0.4337\n",
      "Epoch 70| Train Loss = 0.4237| Val Loss = 0.4453\n",
      "Epoch 71| Train Loss = 0.4323| Val Loss = 0.4468\n",
      "Epoch 72| Train Loss = 0.4282| Val Loss = 0.4580\n",
      "Epoch 73| Train Loss = 0.4361| Val Loss = 0.4445\n",
      "Epoch 74| Train Loss = 0.4154| Val Loss = 0.4601\n",
      "Epoch 75| Train Loss = 0.4332| Val Loss = 0.4521\n",
      "Epoch 76| Train Loss = 0.4214| Val Loss = 0.4448\n",
      "Epoch 77| Train Loss = 0.4259| Val Loss = 0.4377\n",
      "Epoch 78| Train Loss = 0.4161| Val Loss = 0.4310\n",
      "Epoch 79| Train Loss = 0.4149| Val Loss = 0.4282\n",
      "Epoch 80| Train Loss = 0.4163| Val Loss = 0.4437\n",
      "Epoch 81| Train Loss = 0.4208| Val Loss = 0.4361\n",
      "Epoch 82| Train Loss = 0.4056| Val Loss = 0.4327\n",
      "Epoch 83| Train Loss = 0.4112| Val Loss = 0.4265\n",
      "Epoch 84| Train Loss = 0.4150| Val Loss = 0.4618\n",
      "Epoch 85| Train Loss = 0.4264| Val Loss = 0.4232\n",
      "Epoch 86| Train Loss = 0.4083| Val Loss = 0.4344\n",
      "Epoch 87| Train Loss = 0.4122| Val Loss = 0.4239\n",
      "Epoch 88| Train Loss = 0.4035| Val Loss = 0.4226\n",
      "Epoch 89| Train Loss = 0.4097| Val Loss = 0.4364\n",
      "Epoch 90| Train Loss = 0.4026| Val Loss = 0.4346\n",
      "Epoch 91| Train Loss = 0.4132| Val Loss = 0.4354\n",
      "Epoch 92| Train Loss = 0.4056| Val Loss = 0.4242\n",
      "Epoch 93| Train Loss = 0.4064| Val Loss = 0.4342\n",
      "Epoch 94| Train Loss = 0.4041| Val Loss = 0.4249\n",
      "Epoch 95| Train Loss = 0.3981| Val Loss = 0.4271\n",
      "Epoch 96| Train Loss = 0.3981| Val Loss = 0.4547\n",
      "Epoch 97| Train Loss = 0.4128| Val Loss = 0.4280\n",
      "Epoch 98| Train Loss = 0.4010| Val Loss = 0.4207\n",
      "Epoch 99| Train Loss = 0.4053| Val Loss = 0.4412\n",
      "Epoch 100| Train Loss = 0.4071| Val Loss = 0.4231\n"
     ]
    }
   ],
   "execution_count": 124
  },
  {
   "metadata": {
    "ExecuteTime": {
     "end_time": "2025-03-07T08:33:01.287853Z",
     "start_time": "2025-03-07T08:33:01.168930Z"
    }
   },
   "cell_type": "code",
   "source": [
    "plt.plot(np.arange(EPOCHS), train_losses)\n",
    "plt.plot(np.arange(EPOCHS), val_losses)\n",
    "plt.legend([\"train\", \"val\"])"
   ],
   "id": "3af2eb99a88fa4b9",
   "outputs": [
    {
     "data": {
      "text/plain": [
       "<matplotlib.legend.Legend at 0x76b306792c30>"
      ]
     },
     "execution_count": 125,
     "metadata": {},
     "output_type": "execute_result"
    },
    {
     "data": {
      "text/plain": [
       "<Figure size 640x480 with 1 Axes>"
      ],
      "image/png": "[encoded data removed]"
     },
     "metadata": {},
     "output_type": "display_data"
    }
   ],
   "execution_count": 125
  },
  {
   "metadata": {},
   "cell_type": "markdown",
   "source": "# Final evaluation",
   "id": "c9fdc451c7da34b3"
  },
  {
   "metadata": {
    "ExecuteTime": {
     "end_time": "2025-03-07T08:39:03.376312Z",
     "start_time": "2025-03-07T08:39:03.313228Z"
    }
   },
   "cell_type": "code",
   "source": [
    "test_loss = 0\n",
    "with torch.no_grad():\n",
    "    for data_inputs, data_labels in test_data_loader:\n",
    "\n",
    "        data_inputs, data_labels = data_inputs.to(device), data_labels.to(device)\n",
    "        prediction = model(data_inputs)\n",
    "        prediction = prediction.squeeze(dim=1)\n",
    "\n",
    "        test_loss += loss_module(prediction, data_labels).item()\n",
    "\n",
    "test_avg_loss = test_loss / len(test_data_loader)\n",
    "\n",
    "print(f\"Test loss: {test_avg_loss:.4f}\")\n",
    "\n"
   ],
   "id": "b138d46f6e27a511",
   "outputs": [
    {
     "name": "stdout",
     "output_type": "stream",
     "text": [
      "Test loss: 0.3982\n"
     ]
    }
   ],
   "execution_count": 129
  },
  {
   "metadata": {},
   "cell_type": "markdown",
   "source": "# Saving the model",
   "id": "a6bcff8602a335de"
  },
  {
   "metadata": {
    "ExecuteTime": {
     "end_time": "2025-03-07T08:40:21.432676Z",
     "start_time": "2025-03-07T08:40:21.427471Z"
    }
   },
   "cell_type": "code",
   "source": [
    "state_dict = model.state_dict()\n",
    "torch.save(state_dict, \"bikes_good.tar\")"
   ],
   "id": "7db0d18023f519ef",
   "outputs": [],
   "execution_count": 133
  },
  {
   "metadata": {},
   "cell_type": "code",
   "outputs": [],
   "execution_count": null,
   "source": "",
   "id": "2a300c9eddf10f24"
  }
 ],
 "metadata": {
  "kernelspec": {
   "display_name": "Python 3",
   "language": "python",
   "name": "python3"
  },
  "language_info": {
   "codemirror_mode": {
    "name": "ipython",
    "version": 2
   },
   "file_extension": ".py",
   "mimetype": "text/x-python",
   "name": "python",
   "nbconvert_exporter": "python",
   "pygments_lexer": "ipython2",
   "version": "2.7.6"
  }
 },
 "nbformat": 4,
 "nbformat_minor": 5
}
