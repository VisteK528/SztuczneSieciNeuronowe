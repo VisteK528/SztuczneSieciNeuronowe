{
 "cells": [
  {
   "cell_type": "code",
   "id": "initial_id",
   "metadata": {
    "collapsed": true,
    "ExecuteTime": {
     "end_time": "2025-03-26T17:34:17.288788Z",
     "start_time": "2025-03-26T17:34:17.286060Z"
    }
   },
   "source": [
    "import torch\n",
    "from torchvision import transforms, datasets\n",
    "import torch.utils.data as data\n",
    "import torch.nn as nn\n",
    "import numpy as np\n",
    "import matplotlib.pyplot as plt\n",
    "import pandas as pd"
   ],
   "outputs": [],
   "execution_count": 1643
  },
  {
   "metadata": {
    "ExecuteTime": {
     "end_time": "2025-03-26T17:34:17.340171Z",
     "start_time": "2025-03-26T17:34:17.331293Z"
    }
   },
   "cell_type": "code",
   "source": "df = pd.read_csv(\"train_data.csv\")",
   "id": "a116196fc39ed27d",
   "outputs": [],
   "execution_count": 1644
  },
  {
   "metadata": {},
   "cell_type": "markdown",
   "source": [
    "# Data processing\n",
    "- y - class from 0 to 3 according to the following:\n",
    "    - 0 to 100k - class 0\n",
    "    - 100k to 350k - class 1\n",
    "    - 350k and above - class 2\n",
    "        \n",
    "\n",
    "Features:\n",
    "- YearBuilt - numeric\n",
    "- Size(sqf) - numeric\n",
    "- Floor - numeric\n",
    "- HallwayType - one hot encoding\n",
    "- HeatingType - binary encoding\n",
    "- AptManageType - binary encoding\n",
    "- N_Parkinglot(Ground) - numeric\n",
    "- N_Parkinglot(Basement) - numeric\n",
    "- TimeToBusStop - one hot encoding\n",
    "- TimeToSubway - one hot encoding\n",
    "- N_manager - numeric\n",
    "- N_elevators - numeric\n",
    "- SubwayStation - one hot encoding\n",
    "- N_FacilitiesInApt - numeric\n",
    "- N_FacilitiesNearBy(Total) - numeric\n",
    "- N_SchoolNearBy(Total) - numeric\n",
    "\n",
    "Train data: 4124\n",
    "Train data per class: 0 - 562, 1 - 2992, 2 - 570\n"
   ],
   "id": "83d430e2d5ae1250"
  },
  {
   "metadata": {
    "ExecuteTime": {
     "end_time": "2025-03-26T17:34:17.449920Z",
     "start_time": "2025-03-26T17:34:17.437365Z"
    }
   },
   "cell_type": "code",
   "source": "df",
   "id": "3ec0bef3ba8ed1c4",
   "outputs": [
    {
     "data": {
      "text/plain": [
       "      SalePrice  YearBuilt  Size(sqf)  Floor HallwayType         HeatingType  \\\n",
       "0        141592       2006        814      3    terraced  individual_heating   \n",
       "1         51327       1985        587      8    corridor  individual_heating   \n",
       "2         48672       1985        587      6    corridor  individual_heating   \n",
       "3        380530       2006       2056      8    terraced  individual_heating   \n",
       "4         78318       1992        644      2       mixed  individual_heating   \n",
       "...         ...        ...        ...    ...         ...                 ...   \n",
       "4119     570796       2007       1928     24    terraced  individual_heating   \n",
       "4120     307079       2015        644     22    terraced  individual_heating   \n",
       "4121     357522       2007        868     20    terraced  individual_heating   \n",
       "4122     312389       1978       1327      1    corridor  individual_heating   \n",
       "4123     393805       2007        868     13    terraced  individual_heating   \n",
       "\n",
       "            AptManageType  N_Parkinglot(Ground)  N_Parkinglot(Basement)  \\\n",
       "0     management_in_trust                 111.0                   184.0   \n",
       "1         self_management                  80.0                    76.0   \n",
       "2         self_management                  80.0                    76.0   \n",
       "3     management_in_trust                 249.0                   536.0   \n",
       "4         self_management                 142.0                    79.0   \n",
       "...                   ...                   ...                     ...   \n",
       "4119  management_in_trust                   0.0                  1270.0   \n",
       "4120  management_in_trust                 102.0                   400.0   \n",
       "4121  management_in_trust                   0.0                  1270.0   \n",
       "4122      self_management                  87.0                     0.0   \n",
       "4123  management_in_trust                   0.0                  1270.0   \n",
       "\n",
       "     TimeToBusStop TimeToSubway  N_manager  N_elevators  \\\n",
       "0       5min~10min  10min~15min        3.0          0.0   \n",
       "1           0~5min   5min~10min        2.0          2.0   \n",
       "2           0~5min   5min~10min        2.0          2.0   \n",
       "3           0~5min       0-5min        5.0         11.0   \n",
       "4       5min~10min  15min~20min        4.0          8.0   \n",
       "...            ...          ...        ...          ...   \n",
       "4119        0~5min       0-5min       14.0         16.0   \n",
       "4120        0~5min   5min~10min        5.0         10.0   \n",
       "4121        0~5min       0-5min       14.0         16.0   \n",
       "4122        0~5min       0-5min        1.0          4.0   \n",
       "4123        0~5min       0-5min       14.0         16.0   \n",
       "\n",
       "              SubwayStation  N_FacilitiesInApt  N_FacilitiesNearBy(Total)  \\\n",
       "0     Kyungbuk_uni_hospital                  5                        6.0   \n",
       "1                     Daegu                  3                       12.0   \n",
       "2                     Daegu                  3                       12.0   \n",
       "3                   Sin-nam                  5                        3.0   \n",
       "4                 Myung-duk                  3                        9.0   \n",
       "...                     ...                ...                        ...   \n",
       "4119  Kyungbuk_uni_hospital                 10                        9.0   \n",
       "4120                  Daegu                  7                        7.0   \n",
       "4121  Kyungbuk_uni_hospital                 10                        9.0   \n",
       "4122  Kyungbuk_uni_hospital                  3                        7.0   \n",
       "4123  Kyungbuk_uni_hospital                 10                        9.0   \n",
       "\n",
       "      N_SchoolNearBy(Total)  \n",
       "0                       9.0  \n",
       "1                       4.0  \n",
       "2                       4.0  \n",
       "3                       7.0  \n",
       "4                      14.0  \n",
       "...                     ...  \n",
       "4119                   10.0  \n",
       "4120                   11.0  \n",
       "4121                   10.0  \n",
       "4122                   11.0  \n",
       "4123                   10.0  \n",
       "\n",
       "[4124 rows x 17 columns]"
      ],
      "text/html": [
       "<div>\n",
       "<style scoped>\n",
       "    .dataframe tbody tr th:only-of-type {\n",
       "        vertical-align: middle;\n",
       "    }\n",
       "\n",
       "    .dataframe tbody tr th {\n",
       "        vertical-align: top;\n",
       "    }\n",
       "\n",
       "    .dataframe thead th {\n",
       "        text-align: right;\n",
       "    }\n",
       "</style>\n",
       "<table border=\"1\" class=\"dataframe\">\n",
       "  <thead>\n",
       "    <tr style=\"text-align: right;\">\n",
       "      <th></th>\n",
       "      <th>SalePrice</th>\n",
       "      <th>YearBuilt</th>\n",
       "      <th>Size(sqf)</th>\n",
       "      <th>Floor</th>\n",
       "      <th>HallwayType</th>\n",
       "      <th>HeatingType</th>\n",
       "      <th>AptManageType</th>\n",
       "      <th>N_Parkinglot(Ground)</th>\n",
       "      <th>N_Parkinglot(Basement)</th>\n",
       "      <th>TimeToBusStop</th>\n",
       "      <th>TimeToSubway</th>\n",
       "      <th>N_manager</th>\n",
       "      <th>N_elevators</th>\n",
       "      <th>SubwayStation</th>\n",
       "      <th>N_FacilitiesInApt</th>\n",
       "      <th>N_FacilitiesNearBy(Total)</th>\n",
       "      <th>N_SchoolNearBy(Total)</th>\n",
       "    </tr>\n",
       "  </thead>\n",
       "  <tbody>\n",
       "    <tr>\n",
       "      <th>0</th>\n",
       "      <td>141592</td>\n",
       "      <td>2006</td>\n",
       "      <td>814</td>\n",
       "      <td>3</td>\n",
       "      <td>terraced</td>\n",
       "      <td>individual_heating</td>\n",
       "      <td>management_in_trust</td>\n",
       "      <td>111.0</td>\n",
       "      <td>184.0</td>\n",
       "      <td>5min~10min</td>\n",
       "      <td>10min~15min</td>\n",
       "      <td>3.0</td>\n",
       "      <td>0.0</td>\n",
       "      <td>Kyungbuk_uni_hospital</td>\n",
       "      <td>5</td>\n",
       "      <td>6.0</td>\n",
       "      <td>9.0</td>\n",
       "    </tr>\n",
       "    <tr>\n",
       "      <th>1</th>\n",
       "      <td>51327</td>\n",
       "      <td>1985</td>\n",
       "      <td>587</td>\n",
       "      <td>8</td>\n",
       "      <td>corridor</td>\n",
       "      <td>individual_heating</td>\n",
       "      <td>self_management</td>\n",
       "      <td>80.0</td>\n",
       "      <td>76.0</td>\n",
       "      <td>0~5min</td>\n",
       "      <td>5min~10min</td>\n",
       "      <td>2.0</td>\n",
       "      <td>2.0</td>\n",
       "      <td>Daegu</td>\n",
       "      <td>3</td>\n",
       "      <td>12.0</td>\n",
       "      <td>4.0</td>\n",
       "    </tr>\n",
       "    <tr>\n",
       "      <th>2</th>\n",
       "      <td>48672</td>\n",
       "      <td>1985</td>\n",
       "      <td>587</td>\n",
       "      <td>6</td>\n",
       "      <td>corridor</td>\n",
       "      <td>individual_heating</td>\n",
       "      <td>self_management</td>\n",
       "      <td>80.0</td>\n",
       "      <td>76.0</td>\n",
       "      <td>0~5min</td>\n",
       "      <td>5min~10min</td>\n",
       "      <td>2.0</td>\n",
       "      <td>2.0</td>\n",
       "      <td>Daegu</td>\n",
       "      <td>3</td>\n",
       "      <td>12.0</td>\n",
       "      <td>4.0</td>\n",
       "    </tr>\n",
       "    <tr>\n",
       "      <th>3</th>\n",
       "      <td>380530</td>\n",
       "      <td>2006</td>\n",
       "      <td>2056</td>\n",
       "      <td>8</td>\n",
       "      <td>terraced</td>\n",
       "      <td>individual_heating</td>\n",
       "      <td>management_in_trust</td>\n",
       "      <td>249.0</td>\n",
       "      <td>536.0</td>\n",
       "      <td>0~5min</td>\n",
       "      <td>0-5min</td>\n",
       "      <td>5.0</td>\n",
       "      <td>11.0</td>\n",
       "      <td>Sin-nam</td>\n",
       "      <td>5</td>\n",
       "      <td>3.0</td>\n",
       "      <td>7.0</td>\n",
       "    </tr>\n",
       "    <tr>\n",
       "      <th>4</th>\n",
       "      <td>78318</td>\n",
       "      <td>1992</td>\n",
       "      <td>644</td>\n",
       "      <td>2</td>\n",
       "      <td>mixed</td>\n",
       "      <td>individual_heating</td>\n",
       "      <td>self_management</td>\n",
       "      <td>142.0</td>\n",
       "      <td>79.0</td>\n",
       "      <td>5min~10min</td>\n",
       "      <td>15min~20min</td>\n",
       "      <td>4.0</td>\n",
       "      <td>8.0</td>\n",
       "      <td>Myung-duk</td>\n",
       "      <td>3</td>\n",
       "      <td>9.0</td>\n",
       "      <td>14.0</td>\n",
       "    </tr>\n",
       "    <tr>\n",
       "      <th>...</th>\n",
       "      <td>...</td>\n",
       "      <td>...</td>\n",
       "      <td>...</td>\n",
       "      <td>...</td>\n",
       "      <td>...</td>\n",
       "      <td>...</td>\n",
       "      <td>...</td>\n",
       "      <td>...</td>\n",
       "      <td>...</td>\n",
       "      <td>...</td>\n",
       "      <td>...</td>\n",
       "      <td>...</td>\n",
       "      <td>...</td>\n",
       "      <td>...</td>\n",
       "      <td>...</td>\n",
       "      <td>...</td>\n",
       "      <td>...</td>\n",
       "    </tr>\n",
       "    <tr>\n",
       "      <th>4119</th>\n",
       "      <td>570796</td>\n",
       "      <td>2007</td>\n",
       "      <td>1928</td>\n",
       "      <td>24</td>\n",
       "      <td>terraced</td>\n",
       "      <td>individual_heating</td>\n",
       "      <td>management_in_trust</td>\n",
       "      <td>0.0</td>\n",
       "      <td>1270.0</td>\n",
       "      <td>0~5min</td>\n",
       "      <td>0-5min</td>\n",
       "      <td>14.0</td>\n",
       "      <td>16.0</td>\n",
       "      <td>Kyungbuk_uni_hospital</td>\n",
       "      <td>10</td>\n",
       "      <td>9.0</td>\n",
       "      <td>10.0</td>\n",
       "    </tr>\n",
       "    <tr>\n",
       "      <th>4120</th>\n",
       "      <td>307079</td>\n",
       "      <td>2015</td>\n",
       "      <td>644</td>\n",
       "      <td>22</td>\n",
       "      <td>terraced</td>\n",
       "      <td>individual_heating</td>\n",
       "      <td>management_in_trust</td>\n",
       "      <td>102.0</td>\n",
       "      <td>400.0</td>\n",
       "      <td>0~5min</td>\n",
       "      <td>5min~10min</td>\n",
       "      <td>5.0</td>\n",
       "      <td>10.0</td>\n",
       "      <td>Daegu</td>\n",
       "      <td>7</td>\n",
       "      <td>7.0</td>\n",
       "      <td>11.0</td>\n",
       "    </tr>\n",
       "    <tr>\n",
       "      <th>4121</th>\n",
       "      <td>357522</td>\n",
       "      <td>2007</td>\n",
       "      <td>868</td>\n",
       "      <td>20</td>\n",
       "      <td>terraced</td>\n",
       "      <td>individual_heating</td>\n",
       "      <td>management_in_trust</td>\n",
       "      <td>0.0</td>\n",
       "      <td>1270.0</td>\n",
       "      <td>0~5min</td>\n",
       "      <td>0-5min</td>\n",
       "      <td>14.0</td>\n",
       "      <td>16.0</td>\n",
       "      <td>Kyungbuk_uni_hospital</td>\n",
       "      <td>10</td>\n",
       "      <td>9.0</td>\n",
       "      <td>10.0</td>\n",
       "    </tr>\n",
       "    <tr>\n",
       "      <th>4122</th>\n",
       "      <td>312389</td>\n",
       "      <td>1978</td>\n",
       "      <td>1327</td>\n",
       "      <td>1</td>\n",
       "      <td>corridor</td>\n",
       "      <td>individual_heating</td>\n",
       "      <td>self_management</td>\n",
       "      <td>87.0</td>\n",
       "      <td>0.0</td>\n",
       "      <td>0~5min</td>\n",
       "      <td>0-5min</td>\n",
       "      <td>1.0</td>\n",
       "      <td>4.0</td>\n",
       "      <td>Kyungbuk_uni_hospital</td>\n",
       "      <td>3</td>\n",
       "      <td>7.0</td>\n",
       "      <td>11.0</td>\n",
       "    </tr>\n",
       "    <tr>\n",
       "      <th>4123</th>\n",
       "      <td>393805</td>\n",
       "      <td>2007</td>\n",
       "      <td>868</td>\n",
       "      <td>13</td>\n",
       "      <td>terraced</td>\n",
       "      <td>individual_heating</td>\n",
       "      <td>management_in_trust</td>\n",
       "      <td>0.0</td>\n",
       "      <td>1270.0</td>\n",
       "      <td>0~5min</td>\n",
       "      <td>0-5min</td>\n",
       "      <td>14.0</td>\n",
       "      <td>16.0</td>\n",
       "      <td>Kyungbuk_uni_hospital</td>\n",
       "      <td>10</td>\n",
       "      <td>9.0</td>\n",
       "      <td>10.0</td>\n",
       "    </tr>\n",
       "  </tbody>\n",
       "</table>\n",
       "<p>4124 rows × 17 columns</p>\n",
       "</div>"
      ]
     },
     "execution_count": 1645,
     "metadata": {},
     "output_type": "execute_result"
    }
   ],
   "execution_count": 1645
  },
  {
   "metadata": {
    "ExecuteTime": {
     "end_time": "2025-03-26T17:34:17.536626Z",
     "start_time": "2025-03-26T17:34:17.532920Z"
    }
   },
   "cell_type": "code",
   "source": [
    "def preprocess_data(df: pd.DataFrame) -> pd.DataFrame:\n",
    "    # Add classes\n",
    "    df['class'] = pd.cut(df['SalePrice'], bins=[-float('inf'), 100000, 350000, float('inf')], labels=[0, 1, 2])\n",
    "    df = df.drop(columns=[\"SalePrice\"])\n",
    "\n",
    "    # Encode TimeToSubway and TimeToBus\n",
    "    df['TimeToBusStop'] = df['TimeToBusStop'].replace({\n",
    "        \"0~5min\": 2,\n",
    "        \"5min~10min\": 1,\n",
    "        \"10min~15min\": 0\n",
    "    })\n",
    "\n",
    "    df['TimeToSubway'] = df['TimeToSubway'].replace({\n",
    "        \"0-5min\": 4,\n",
    "        \"5min~10min\": 3,\n",
    "        \"10min~15min\": 2,\n",
    "        \"15min~20min\": 1,\n",
    "        \"no_bus_stop_nearby\": 0\n",
    "\n",
    "    })\n",
    "    \n",
    "    # One hot encoding\n",
    "    for_one_hot_encoding = ['HallwayType', 'SubwayStation']\n",
    "    drop_first = True\n",
    "    \n",
    "    df = pd.get_dummies(df, columns=for_one_hot_encoding, drop_first=drop_first)\n",
    "    \n",
    "    # Binary encoding\n",
    "    for_binary = ['HeatingType', 'AptManageType']\n",
    "    df = pd.get_dummies(df, columns=for_binary, drop_first=True)\n",
    "    \n",
    "    # Scale numeric to range 0 to 1\n",
    "    to_be_scaled = ['TimeToBusStop', 'TimeToSubway', 'YearBuilt', 'Size(sqf)', 'Floor', 'N_Parkinglot(Ground)', 'N_Parkinglot(Basement)', 'N_manager', 'N_elevators', 'N_FacilitiesInApt', 'N_FacilitiesNearBy(Total)', 'N_SchoolNearBy(Total)']\n",
    "    for column in to_be_scaled:\n",
    "        df[column] = (df[column] - df[column].min()) / (df[column].max() - df[column].min())\n",
    "    \n",
    "    return df"
   ],
   "id": "8d26c49763651b05",
   "outputs": [],
   "execution_count": 1646
  },
  {
   "metadata": {
    "ExecuteTime": {
     "end_time": "2025-03-26T17:34:17.612078Z",
     "start_time": "2025-03-26T17:34:17.576851Z"
    }
   },
   "cell_type": "code",
   "source": [
    "df = preprocess_data(df)\n",
    "df"
   ],
   "id": "c42ff12d520ac7b9",
   "outputs": [
    {
     "name": "stderr",
     "output_type": "stream",
     "text": [
      "/tmp/ipykernel_6304/945653226.py:7: FutureWarning: Downcasting behavior in `replace` is deprecated and will be removed in a future version. To retain the old behavior, explicitly call `result.infer_objects(copy=False)`. To opt-in to the future behavior, set `pd.set_option('future.no_silent_downcasting', True)`\n",
      "  df['TimeToBusStop'] = df['TimeToBusStop'].replace({\n",
      "/tmp/ipykernel_6304/945653226.py:13: FutureWarning: Downcasting behavior in `replace` is deprecated and will be removed in a future version. To retain the old behavior, explicitly call `result.infer_objects(copy=False)`. To opt-in to the future behavior, set `pd.set_option('future.no_silent_downcasting', True)`\n",
      "  df['TimeToSubway'] = df['TimeToSubway'].replace({\n"
     ]
    },
    {
     "data": {
      "text/plain": [
       "      YearBuilt  Size(sqf)     Floor  N_Parkinglot(Ground)  \\\n",
       "0      0.756757   0.308356  0.047619              0.155680   \n",
       "1      0.189189   0.205268  0.166667              0.112202   \n",
       "2      0.189189   0.205268  0.119048              0.112202   \n",
       "3      0.756757   0.872389  0.166667              0.349229   \n",
       "4      0.378378   0.231153  0.023810              0.199158   \n",
       "...         ...        ...       ...                   ...   \n",
       "4119   0.783784   0.814260  0.547619              0.000000   \n",
       "4120   1.000000   0.231153  0.500000              0.143058   \n",
       "4121   0.783784   0.332879  0.452381              0.000000   \n",
       "4122   0.000000   0.541326  0.000000              0.122020   \n",
       "4123   0.783784   0.332879  0.285714              0.000000   \n",
       "\n",
       "      N_Parkinglot(Basement)  TimeToBusStop  TimeToSubway  N_manager  \\\n",
       "0                   0.139288            0.5          0.50   0.153846   \n",
       "1                   0.057532            1.0          0.75   0.076923   \n",
       "2                   0.057532            1.0          0.75   0.076923   \n",
       "3                   0.405753            1.0          1.00   0.307692   \n",
       "4                   0.059803            0.5          0.25   0.230769   \n",
       "...                      ...            ...           ...        ...   \n",
       "4119                0.961393            1.0          1.00   1.000000   \n",
       "4120                0.302801            1.0          0.75   0.307692   \n",
       "4121                0.961393            1.0          1.00   1.000000   \n",
       "4122                0.000000            1.0          1.00   0.000000   \n",
       "4123                0.961393            1.0          1.00   1.000000   \n",
       "\n",
       "      N_elevators  N_FacilitiesInApt  ...  HallwayType_terraced  \\\n",
       "0        0.000000           0.444444  ...                  True   \n",
       "1        0.074074           0.222222  ...                 False   \n",
       "2        0.074074           0.222222  ...                 False   \n",
       "3        0.407407           0.444444  ...                  True   \n",
       "4        0.296296           0.222222  ...                 False   \n",
       "...           ...                ...  ...                   ...   \n",
       "4119     0.592593           1.000000  ...                  True   \n",
       "4120     0.370370           0.666667  ...                  True   \n",
       "4121     0.592593           1.000000  ...                  True   \n",
       "4122     0.148148           0.222222  ...                 False   \n",
       "4123     0.592593           1.000000  ...                  True   \n",
       "\n",
       "      SubwayStation_Banwoldang SubwayStation_Chil-sung-market  \\\n",
       "0                        False                          False   \n",
       "1                        False                          False   \n",
       "2                        False                          False   \n",
       "3                        False                          False   \n",
       "4                        False                          False   \n",
       "...                        ...                            ...   \n",
       "4119                     False                          False   \n",
       "4120                     False                          False   \n",
       "4121                     False                          False   \n",
       "4122                     False                          False   \n",
       "4123                     False                          False   \n",
       "\n",
       "      SubwayStation_Daegu  SubwayStation_Kyungbuk_uni_hospital  \\\n",
       "0                   False                                 True   \n",
       "1                    True                                False   \n",
       "2                    True                                False   \n",
       "3                   False                                False   \n",
       "4                   False                                False   \n",
       "...                   ...                                  ...   \n",
       "4119                False                                 True   \n",
       "4120                 True                                False   \n",
       "4121                False                                 True   \n",
       "4122                False                                 True   \n",
       "4123                False                                 True   \n",
       "\n",
       "      SubwayStation_Myung-duk  SubwayStation_Sin-nam  \\\n",
       "0                       False                  False   \n",
       "1                       False                  False   \n",
       "2                       False                  False   \n",
       "3                       False                   True   \n",
       "4                        True                  False   \n",
       "...                       ...                    ...   \n",
       "4119                    False                  False   \n",
       "4120                    False                  False   \n",
       "4121                    False                  False   \n",
       "4122                    False                  False   \n",
       "4123                    False                  False   \n",
       "\n",
       "      SubwayStation_no_subway_nearby  HeatingType_individual_heating  \\\n",
       "0                              False                            True   \n",
       "1                              False                            True   \n",
       "2                              False                            True   \n",
       "3                              False                            True   \n",
       "4                              False                            True   \n",
       "...                              ...                             ...   \n",
       "4119                           False                            True   \n",
       "4120                           False                            True   \n",
       "4121                           False                            True   \n",
       "4122                           False                            True   \n",
       "4123                           False                            True   \n",
       "\n",
       "      AptManageType_self_management  \n",
       "0                             False  \n",
       "1                              True  \n",
       "2                              True  \n",
       "3                             False  \n",
       "4                              True  \n",
       "...                             ...  \n",
       "4119                          False  \n",
       "4120                          False  \n",
       "4121                          False  \n",
       "4122                           True  \n",
       "4123                          False  \n",
       "\n",
       "[4124 rows x 24 columns]"
      ],
      "text/html": [
       "<div>\n",
       "<style scoped>\n",
       "    .dataframe tbody tr th:only-of-type {\n",
       "        vertical-align: middle;\n",
       "    }\n",
       "\n",
       "    .dataframe tbody tr th {\n",
       "        vertical-align: top;\n",
       "    }\n",
       "\n",
       "    .dataframe thead th {\n",
       "        text-align: right;\n",
       "    }\n",
       "</style>\n",
       "<table border=\"1\" class=\"dataframe\">\n",
       "  <thead>\n",
       "    <tr style=\"text-align: right;\">\n",
       "      <th></th>\n",
       "      <th>YearBuilt</th>\n",
       "      <th>Size(sqf)</th>\n",
       "      <th>Floor</th>\n",
       "      <th>N_Parkinglot(Ground)</th>\n",
       "      <th>N_Parkinglot(Basement)</th>\n",
       "      <th>TimeToBusStop</th>\n",
       "      <th>TimeToSubway</th>\n",
       "      <th>N_manager</th>\n",
       "      <th>N_elevators</th>\n",
       "      <th>N_FacilitiesInApt</th>\n",
       "      <th>...</th>\n",
       "      <th>HallwayType_terraced</th>\n",
       "      <th>SubwayStation_Banwoldang</th>\n",
       "      <th>SubwayStation_Chil-sung-market</th>\n",
       "      <th>SubwayStation_Daegu</th>\n",
       "      <th>SubwayStation_Kyungbuk_uni_hospital</th>\n",
       "      <th>SubwayStation_Myung-duk</th>\n",
       "      <th>SubwayStation_Sin-nam</th>\n",
       "      <th>SubwayStation_no_subway_nearby</th>\n",
       "      <th>HeatingType_individual_heating</th>\n",
       "      <th>AptManageType_self_management</th>\n",
       "    </tr>\n",
       "  </thead>\n",
       "  <tbody>\n",
       "    <tr>\n",
       "      <th>0</th>\n",
       "      <td>0.756757</td>\n",
       "      <td>0.308356</td>\n",
       "      <td>0.047619</td>\n",
       "      <td>0.155680</td>\n",
       "      <td>0.139288</td>\n",
       "      <td>0.5</td>\n",
       "      <td>0.50</td>\n",
       "      <td>0.153846</td>\n",
       "      <td>0.000000</td>\n",
       "      <td>0.444444</td>\n",
       "      <td>...</td>\n",
       "      <td>True</td>\n",
       "      <td>False</td>\n",
       "      <td>False</td>\n",
       "      <td>False</td>\n",
       "      <td>True</td>\n",
       "      <td>False</td>\n",
       "      <td>False</td>\n",
       "      <td>False</td>\n",
       "      <td>True</td>\n",
       "      <td>False</td>\n",
       "    </tr>\n",
       "    <tr>\n",
       "      <th>1</th>\n",
       "      <td>0.189189</td>\n",
       "      <td>0.205268</td>\n",
       "      <td>0.166667</td>\n",
       "      <td>0.112202</td>\n",
       "      <td>0.057532</td>\n",
       "      <td>1.0</td>\n",
       "      <td>0.75</td>\n",
       "      <td>0.076923</td>\n",
       "      <td>0.074074</td>\n",
       "      <td>0.222222</td>\n",
       "      <td>...</td>\n",
       "      <td>False</td>\n",
       "      <td>False</td>\n",
       "      <td>False</td>\n",
       "      <td>True</td>\n",
       "      <td>False</td>\n",
       "      <td>False</td>\n",
       "      <td>False</td>\n",
       "      <td>False</td>\n",
       "      <td>True</td>\n",
       "      <td>True</td>\n",
       "    </tr>\n",
       "    <tr>\n",
       "      <th>2</th>\n",
       "      <td>0.189189</td>\n",
       "      <td>0.205268</td>\n",
       "      <td>0.119048</td>\n",
       "      <td>0.112202</td>\n",
       "      <td>0.057532</td>\n",
       "      <td>1.0</td>\n",
       "      <td>0.75</td>\n",
       "      <td>0.076923</td>\n",
       "      <td>0.074074</td>\n",
       "      <td>0.222222</td>\n",
       "      <td>...</td>\n",
       "      <td>False</td>\n",
       "      <td>False</td>\n",
       "      <td>False</td>\n",
       "      <td>True</td>\n",
       "      <td>False</td>\n",
       "      <td>False</td>\n",
       "      <td>False</td>\n",
       "      <td>False</td>\n",
       "      <td>True</td>\n",
       "      <td>True</td>\n",
       "    </tr>\n",
       "    <tr>\n",
       "      <th>3</th>\n",
       "      <td>0.756757</td>\n",
       "      <td>0.872389</td>\n",
       "      <td>0.166667</td>\n",
       "      <td>0.349229</td>\n",
       "      <td>0.405753</td>\n",
       "      <td>1.0</td>\n",
       "      <td>1.00</td>\n",
       "      <td>0.307692</td>\n",
       "      <td>0.407407</td>\n",
       "      <td>0.444444</td>\n",
       "      <td>...</td>\n",
       "      <td>True</td>\n",
       "      <td>False</td>\n",
       "      <td>False</td>\n",
       "      <td>False</td>\n",
       "      <td>False</td>\n",
       "      <td>False</td>\n",
       "      <td>True</td>\n",
       "      <td>False</td>\n",
       "      <td>True</td>\n",
       "      <td>False</td>\n",
       "    </tr>\n",
       "    <tr>\n",
       "      <th>4</th>\n",
       "      <td>0.378378</td>\n",
       "      <td>0.231153</td>\n",
       "      <td>0.023810</td>\n",
       "      <td>0.199158</td>\n",
       "      <td>0.059803</td>\n",
       "      <td>0.5</td>\n",
       "      <td>0.25</td>\n",
       "      <td>0.230769</td>\n",
       "      <td>0.296296</td>\n",
       "      <td>0.222222</td>\n",
       "      <td>...</td>\n",
       "      <td>False</td>\n",
       "      <td>False</td>\n",
       "      <td>False</td>\n",
       "      <td>False</td>\n",
       "      <td>False</td>\n",
       "      <td>True</td>\n",
       "      <td>False</td>\n",
       "      <td>False</td>\n",
       "      <td>True</td>\n",
       "      <td>True</td>\n",
       "    </tr>\n",
       "    <tr>\n",
       "      <th>...</th>\n",
       "      <td>...</td>\n",
       "      <td>...</td>\n",
       "      <td>...</td>\n",
       "      <td>...</td>\n",
       "      <td>...</td>\n",
       "      <td>...</td>\n",
       "      <td>...</td>\n",
       "      <td>...</td>\n",
       "      <td>...</td>\n",
       "      <td>...</td>\n",
       "      <td>...</td>\n",
       "      <td>...</td>\n",
       "      <td>...</td>\n",
       "      <td>...</td>\n",
       "      <td>...</td>\n",
       "      <td>...</td>\n",
       "      <td>...</td>\n",
       "      <td>...</td>\n",
       "      <td>...</td>\n",
       "      <td>...</td>\n",
       "      <td>...</td>\n",
       "    </tr>\n",
       "    <tr>\n",
       "      <th>4119</th>\n",
       "      <td>0.783784</td>\n",
       "      <td>0.814260</td>\n",
       "      <td>0.547619</td>\n",
       "      <td>0.000000</td>\n",
       "      <td>0.961393</td>\n",
       "      <td>1.0</td>\n",
       "      <td>1.00</td>\n",
       "      <td>1.000000</td>\n",
       "      <td>0.592593</td>\n",
       "      <td>1.000000</td>\n",
       "      <td>...</td>\n",
       "      <td>True</td>\n",
       "      <td>False</td>\n",
       "      <td>False</td>\n",
       "      <td>False</td>\n",
       "      <td>True</td>\n",
       "      <td>False</td>\n",
       "      <td>False</td>\n",
       "      <td>False</td>\n",
       "      <td>True</td>\n",
       "      <td>False</td>\n",
       "    </tr>\n",
       "    <tr>\n",
       "      <th>4120</th>\n",
       "      <td>1.000000</td>\n",
       "      <td>0.231153</td>\n",
       "      <td>0.500000</td>\n",
       "      <td>0.143058</td>\n",
       "      <td>0.302801</td>\n",
       "      <td>1.0</td>\n",
       "      <td>0.75</td>\n",
       "      <td>0.307692</td>\n",
       "      <td>0.370370</td>\n",
       "      <td>0.666667</td>\n",
       "      <td>...</td>\n",
       "      <td>True</td>\n",
       "      <td>False</td>\n",
       "      <td>False</td>\n",
       "      <td>True</td>\n",
       "      <td>False</td>\n",
       "      <td>False</td>\n",
       "      <td>False</td>\n",
       "      <td>False</td>\n",
       "      <td>True</td>\n",
       "      <td>False</td>\n",
       "    </tr>\n",
       "    <tr>\n",
       "      <th>4121</th>\n",
       "      <td>0.783784</td>\n",
       "      <td>0.332879</td>\n",
       "      <td>0.452381</td>\n",
       "      <td>0.000000</td>\n",
       "      <td>0.961393</td>\n",
       "      <td>1.0</td>\n",
       "      <td>1.00</td>\n",
       "      <td>1.000000</td>\n",
       "      <td>0.592593</td>\n",
       "      <td>1.000000</td>\n",
       "      <td>...</td>\n",
       "      <td>True</td>\n",
       "      <td>False</td>\n",
       "      <td>False</td>\n",
       "      <td>False</td>\n",
       "      <td>True</td>\n",
       "      <td>False</td>\n",
       "      <td>False</td>\n",
       "      <td>False</td>\n",
       "      <td>True</td>\n",
       "      <td>False</td>\n",
       "    </tr>\n",
       "    <tr>\n",
       "      <th>4122</th>\n",
       "      <td>0.000000</td>\n",
       "      <td>0.541326</td>\n",
       "      <td>0.000000</td>\n",
       "      <td>0.122020</td>\n",
       "      <td>0.000000</td>\n",
       "      <td>1.0</td>\n",
       "      <td>1.00</td>\n",
       "      <td>0.000000</td>\n",
       "      <td>0.148148</td>\n",
       "      <td>0.222222</td>\n",
       "      <td>...</td>\n",
       "      <td>False</td>\n",
       "      <td>False</td>\n",
       "      <td>False</td>\n",
       "      <td>False</td>\n",
       "      <td>True</td>\n",
       "      <td>False</td>\n",
       "      <td>False</td>\n",
       "      <td>False</td>\n",
       "      <td>True</td>\n",
       "      <td>True</td>\n",
       "    </tr>\n",
       "    <tr>\n",
       "      <th>4123</th>\n",
       "      <td>0.783784</td>\n",
       "      <td>0.332879</td>\n",
       "      <td>0.285714</td>\n",
       "      <td>0.000000</td>\n",
       "      <td>0.961393</td>\n",
       "      <td>1.0</td>\n",
       "      <td>1.00</td>\n",
       "      <td>1.000000</td>\n",
       "      <td>0.592593</td>\n",
       "      <td>1.000000</td>\n",
       "      <td>...</td>\n",
       "      <td>True</td>\n",
       "      <td>False</td>\n",
       "      <td>False</td>\n",
       "      <td>False</td>\n",
       "      <td>True</td>\n",
       "      <td>False</td>\n",
       "      <td>False</td>\n",
       "      <td>False</td>\n",
       "      <td>True</td>\n",
       "      <td>False</td>\n",
       "    </tr>\n",
       "  </tbody>\n",
       "</table>\n",
       "<p>4124 rows × 24 columns</p>\n",
       "</div>"
      ]
     },
     "execution_count": 1647,
     "metadata": {},
     "output_type": "execute_result"
    }
   ],
   "execution_count": 1647
  },
  {
   "metadata": {
    "ExecuteTime": {
     "end_time": "2025-03-26T17:34:17.698262Z",
     "start_time": "2025-03-26T17:34:17.695690Z"
    }
   },
   "cell_type": "code",
   "source": "df.shape",
   "id": "ef4886387844a113",
   "outputs": [
    {
     "data": {
      "text/plain": [
       "(4124, 24)"
      ]
     },
     "execution_count": 1648,
     "metadata": {},
     "output_type": "execute_result"
    }
   ],
   "execution_count": 1648
  },
  {
   "metadata": {
    "ExecuteTime": {
     "end_time": "2025-03-26T17:34:17.753433Z",
     "start_time": "2025-03-26T17:34:17.750307Z"
    }
   },
   "cell_type": "code",
   "source": [
    "class_counts = df['class'].to_numpy()\n",
    "unique, counts = np.unique(class_counts, return_counts=True)"
   ],
   "id": "f8cc4037318afa79",
   "outputs": [],
   "execution_count": 1649
  },
  {
   "metadata": {
    "ExecuteTime": {
     "end_time": "2025-03-26T17:34:17.863605Z",
     "start_time": "2025-03-26T17:34:17.801620Z"
    }
   },
   "cell_type": "code",
   "source": [
    "plt.bar([\"Cheap\", \"Average\", \"Expensive\"], counts)\n",
    "plt.show()"
   ],
   "id": "62c38bd725e3cd00",
   "outputs": [
    {
     "data": {
      "text/plain": [
       "<Figure size 640x480 with 1 Axes>"
      ],
      "image/png": "[encoded data removed]"
     },
     "metadata": {},
     "output_type": "display_data"
    }
   ],
   "execution_count": 1650
  },
  {
   "metadata": {
    "ExecuteTime": {
     "end_time": "2025-03-26T17:34:17.877754Z",
     "start_time": "2025-03-26T17:34:17.875100Z"
    }
   },
   "cell_type": "code",
   "source": [
    "class_weights = [1 / x for x in counts]\n",
    "class_weights[1] *= 1.2\n",
    "print(class_weights)"
   ],
   "id": "1378323ce295cd29",
   "outputs": [
    {
     "name": "stdout",
     "output_type": "stream",
     "text": [
      "[np.float64(0.0017793594306049821), np.float64(0.0004010695187165775), np.float64(0.0017543859649122807)]\n"
     ]
    }
   ],
   "execution_count": 1651
  },
  {
   "metadata": {
    "ExecuteTime": {
     "end_time": "2025-03-26T17:34:17.976442Z",
     "start_time": "2025-03-26T17:34:17.970408Z"
    }
   },
   "cell_type": "code",
   "source": [
    "train_dataset_raw = df.sample(frac=0.8, random_state=200)\n",
    "df = df.drop(train_dataset_raw.index)\n",
    "val_dataset_raw = train_dataset_raw.sample(frac=0.25, random_state=200) # 20% of original dataset\n",
    "train_dataset_raw = train_dataset_raw.drop(val_dataset_raw.index)\n",
    "\n",
    "test_dataset_raw = df\n",
    "print(\"Dataset sizes\")\n",
    "print(f\"Train: {len(train_dataset_raw)} samples\")\n",
    "print(f\"Val:   {len(val_dataset_raw)} samples\")\n",
    "print(f\"Test:  {len(test_dataset_raw)} samples\")"
   ],
   "id": "262b3dedc35b20fa",
   "outputs": [
    {
     "name": "stdout",
     "output_type": "stream",
     "text": [
      "Dataset sizes\n",
      "Train: 2474 samples\n",
      "Val:   825 samples\n",
      "Test:  825 samples\n"
     ]
    }
   ],
   "execution_count": 1652
  },
  {
   "metadata": {
    "ExecuteTime": {
     "end_time": "2025-03-26T17:34:18.069081Z",
     "start_time": "2025-03-26T17:34:18.059945Z"
    }
   },
   "cell_type": "code",
   "source": [
    "train_labels = train_dataset_raw['class'].to_numpy().astype(np.int64)\n",
    "train_data = train_dataset_raw.drop(columns=['class']).to_numpy().astype(np.float32)\n",
    "\n",
    "val_labels = val_dataset_raw['class'].to_numpy().astype(np.int64)\n",
    "val_data = val_dataset_raw.drop(columns=['class']).to_numpy().astype(np.float32)\n",
    "\n",
    "test_labels = test_dataset_raw['class'].to_numpy().astype(np.int64)\n",
    "test_data = test_dataset_raw.drop(columns=['class']).to_numpy().astype(np.float32)"
   ],
   "id": "296b5e40439191b3",
   "outputs": [],
   "execution_count": 1653
  },
  {
   "metadata": {
    "ExecuteTime": {
     "end_time": "2025-03-26T17:34:18.242072Z",
     "start_time": "2025-03-26T17:34:18.239589Z"
    }
   },
   "cell_type": "code",
   "source": [
    "train_dataset = data.TensorDataset(torch.from_numpy(train_data), torch.from_numpy(train_labels))\n",
    "val_dataset = data.TensorDataset(torch.from_numpy(val_data), torch.from_numpy(val_labels))\n",
    "test_dataset = data.TensorDataset(torch.from_numpy(test_data), torch.from_numpy(test_labels))"
   ],
   "id": "1826b116cc32a449",
   "outputs": [],
   "execution_count": 1654
  },
  {
   "metadata": {
    "ExecuteTime": {
     "end_time": "2025-03-26T17:34:18.268470Z",
     "start_time": "2025-03-26T17:34:18.248105Z"
    }
   },
   "cell_type": "code",
   "source": [
    "sample_weights = np.array([class_weights[label] for label in train_labels])\n",
    "sample_weights = torch.FloatTensor(sample_weights)\n",
    "\n",
    "sampler = data.WeightedRandomSampler(weights=sample_weights, num_samples=len(sample_weights), replacement=True)"
   ],
   "id": "3a13093d430b6c1c",
   "outputs": [],
   "execution_count": 1655
  },
  {
   "metadata": {
    "ExecuteTime": {
     "end_time": "2025-03-26T17:34:18.356615Z",
     "start_time": "2025-03-26T17:34:18.354275Z"
    }
   },
   "cell_type": "code",
   "source": [
    "BATCH_SIZE = 512\n",
    "train_data_loader = data.DataLoader(train_dataset, batch_size=BATCH_SIZE, sampler=sampler)\n",
    "val_data_loader = data.DataLoader(val_dataset, batch_size=BATCH_SIZE, shuffle=True)\n",
    "test_data_loader = data.DataLoader(train_dataset, batch_size=BATCH_SIZE, shuffle=True)"
   ],
   "id": "6bc7857f72589dfd",
   "outputs": [],
   "execution_count": 1656
  },
  {
   "metadata": {},
   "cell_type": "markdown",
   "source": "# Model",
   "id": "93406fed065d330d"
  },
  {
   "metadata": {
    "ExecuteTime": {
     "end_time": "2025-03-26T17:34:18.522883Z",
     "start_time": "2025-03-26T17:34:18.520074Z"
    }
   },
   "cell_type": "code",
   "source": [
    "if torch.cuda.is_available():\n",
    "    device = torch.device(\"cuda\")\n",
    "    print(torch.cuda.get_device_name(device))\n",
    "    torch.cuda.manual_seed(42)\n",
    "    torch.cuda.manual_seed_all(42)\n",
    "\n",
    "else:\n",
    "    device = torch.device(\"cpu\")\n",
    "\n",
    "print(device.type)"
   ],
   "id": "8c34fbb72f190201",
   "outputs": [
    {
     "name": "stdout",
     "output_type": "stream",
     "text": [
      "NVIDIA GeForce RTX 2070 Super\n",
      "cuda\n"
     ]
    }
   ],
   "execution_count": 1657
  },
  {
   "metadata": {
    "ExecuteTime": {
     "end_time": "2025-03-26T17:34:18.575027Z",
     "start_time": "2025-03-26T17:34:18.571076Z"
    }
   },
   "cell_type": "code",
   "source": [
    "class ApartmentClassifier(nn.Module):\n",
    "    def __init__(self, num_inputs, num_outputs):\n",
    "        super().__init__()\n",
    "        self.layer1 = nn.Linear(num_inputs, 1024)\n",
    "        self.bn1 = nn.BatchNorm1d(1024)\n",
    "        self.act_fn1 = nn.ReLU()\n",
    "        self.d1 = nn.Dropout(0.5)\n",
    "\n",
    "        self.layer2 = nn.Linear(1024, 256)\n",
    "        self.bn2 = nn.BatchNorm1d(256)\n",
    "        self.act_fn2 = nn.ReLU()\n",
    "        self.d2 = nn.Dropout(0.5)\n",
    "\n",
    "        self.layer3 = nn.Linear(256, 128)\n",
    "        self.bn3 = nn.BatchNorm1d(128)\n",
    "        self.act_fn3 = nn.ReLU()\n",
    "        self.d3 = nn.Dropout(0.4)\n",
    "\n",
    "        self.output = nn.Linear(128, num_outputs)\n",
    "\n",
    "\n",
    "    def forward(self, x):\n",
    "        x = self.layer1(x)\n",
    "        x = self.bn1(x)\n",
    "        x = self.act_fn1(x)\n",
    "        x = self.d1(x)\n",
    "\n",
    "        x = self.layer2(x)\n",
    "        x = self.bn2(x)\n",
    "        x = self.act_fn2(x)\n",
    "        x = self.d2(x)\n",
    "\n",
    "        x = self.layer3(x)\n",
    "        x = self.bn3(x)\n",
    "        x = self.act_fn3(x)\n",
    "        x = self.d3(x)\n",
    "\n",
    "        x = self.output(x)\n",
    "        return x\n"
   ],
   "id": "e4d6adc9bcaa317",
   "outputs": [],
   "execution_count": 1658
  },
  {
   "metadata": {
    "ExecuteTime": {
     "end_time": "2025-03-26T17:34:18.661933Z",
     "start_time": "2025-03-26T17:34:18.659668Z"
    }
   },
   "cell_type": "code",
   "source": [
    "def predict_from_logits(logits, y_hat):\n",
    "    pred_probabilites = nn.Softmax(dim=1)(logits)\n",
    "    predictions = pred_probabilites.argmax(1)\n",
    "\n",
    "    correct = (predictions == y_hat).sum().item()\n",
    "    return predictions, correct"
   ],
   "id": "d0693bca4b56afdf",
   "outputs": [],
   "execution_count": 1659
  },
  {
   "metadata": {
    "ExecuteTime": {
     "end_time": "2025-03-26T17:34:18.749611Z",
     "start_time": "2025-03-26T17:34:18.745047Z"
    }
   },
   "cell_type": "code",
   "source": [
    "def train(model: nn.Module, epochs: int, optimizer, scheduler) -> np.ndarray:\n",
    "    train_losses = []\n",
    "    val_losses = []\n",
    "    train_acc = []\n",
    "    val_acc = []\n",
    "\n",
    "\n",
    "    for epoch in range(epochs):\n",
    "        total_train_loss = 0\n",
    "        total_val_loss = 0\n",
    "\n",
    "        train_correct = 0\n",
    "        train_total = 0\n",
    "\n",
    "        val_correct = 0\n",
    "        val_total = 0\n",
    "\n",
    "        model.train()\n",
    "        for data_inputs, data_labels in train_data_loader:\n",
    "            data_inputs, data_labels = data_inputs.to(device), data_labels.to(device)\n",
    "\n",
    "            logits = model(data_inputs)\n",
    "\n",
    "            loss = loss_module(logits.squeeze(dim=1), data_labels)\n",
    "            optimizer.zero_grad()\n",
    "            loss.backward()\n",
    "            optimizer.step()\n",
    "            total_train_loss += loss.item()\n",
    "\n",
    "            _, correct = predict_from_logits(logits, data_labels)\n",
    "\n",
    "            train_correct += correct\n",
    "            train_total += data_labels.size(0)\n",
    "\n",
    "        train_accuracy = 100 * train_correct / train_total\n",
    "        avg_train_loss = total_train_loss / len(train_data_loader)\n",
    "        train_losses.append(avg_train_loss)\n",
    "        train_acc.append(train_accuracy)\n",
    "\n",
    "\n",
    "        model.eval()\n",
    "        with torch.no_grad():\n",
    "            for data_inputs, data_labels in val_data_loader:\n",
    "                data_inputs, data_labels = data_inputs.to(device), data_labels.to(device)\n",
    "\n",
    "                logits = model(data_inputs)\n",
    "\n",
    "\n",
    "                loss = loss_module(logits.squeeze(dim=1), data_labels)\n",
    "                total_val_loss += loss.item()\n",
    "\n",
    "                _, correct = predict_from_logits(logits, data_labels)\n",
    "\n",
    "                val_correct += correct\n",
    "                val_total += data_labels.size(0)\n",
    "\n",
    "        val_accuracy = 100 * val_correct / val_total\n",
    "        avg_val_loss = total_val_loss / len(val_data_loader)\n",
    "        val_losses.append(avg_val_loss)\n",
    "        val_acc.append(val_accuracy)\n",
    "\n",
    "        scheduler.step()\n",
    "        print(f\"Epoch {epoch+1}| Train Loss = {avg_train_loss:.4f} Train acc = {train_accuracy:.4f}| Val Loss = {avg_val_loss:.4f}| Val acc = {val_accuracy:.4f}\")\n",
    "\n",
    "    history = [train_losses, train_acc, val_losses, val_acc]\n",
    "    return np.array(history)"
   ],
   "id": "c0b694a4390ca8b9",
   "outputs": [],
   "execution_count": 1660
  },
  {
   "metadata": {
    "ExecuteTime": {
     "end_time": "2025-03-26T17:34:18.837903Z",
     "start_time": "2025-03-26T17:34:18.831884Z"
    }
   },
   "cell_type": "code",
   "source": [
    "model = ApartmentClassifier(23, 3)\n",
    "model.to(device)"
   ],
   "id": "9ac32c76cde46a3e",
   "outputs": [
    {
     "data": {
      "text/plain": [
       "ApartmentClassifier(\n",
       "  (layer1): Linear(in_features=23, out_features=1024, bias=True)\n",
       "  (bn1): BatchNorm1d(1024, eps=1e-05, momentum=0.1, affine=True, track_running_stats=True)\n",
       "  (act_fn1): ReLU()\n",
       "  (d1): Dropout(p=0.5, inplace=False)\n",
       "  (layer2): Linear(in_features=1024, out_features=256, bias=True)\n",
       "  (bn2): BatchNorm1d(256, eps=1e-05, momentum=0.1, affine=True, track_running_stats=True)\n",
       "  (act_fn2): ReLU()\n",
       "  (d2): Dropout(p=0.5, inplace=False)\n",
       "  (layer3): Linear(in_features=256, out_features=128, bias=True)\n",
       "  (bn3): BatchNorm1d(128, eps=1e-05, momentum=0.1, affine=True, track_running_stats=True)\n",
       "  (act_fn3): ReLU()\n",
       "  (d3): Dropout(p=0.4, inplace=False)\n",
       "  (output): Linear(in_features=128, out_features=3, bias=True)\n",
       ")"
      ]
     },
     "execution_count": 1661,
     "metadata": {},
     "output_type": "execute_result"
    }
   ],
   "execution_count": 1661
  },
  {
   "metadata": {
    "ExecuteTime": {
     "end_time": "2025-03-26T17:34:18.922662Z",
     "start_time": "2025-03-26T17:34:18.919819Z"
    }
   },
   "cell_type": "code",
   "source": [
    "optimizer = torch.optim.Adam(model.parameters(), lr=1e-3, betas=(0.9, 0.999))\n",
    "\n",
    "class_weights = torch.FloatTensor([1.0, 5.0, 1.0]).cuda()\n",
    "loss_module = nn.CrossEntropyLoss()\n",
    "scheduler = torch.optim.lr_scheduler.StepLR(optimizer, step_size=20, gamma=0.8)\n"
   ],
   "id": "f2faf792187c6e1b",
   "outputs": [],
   "execution_count": 1662
  },
  {
   "metadata": {
    "ExecuteTime": {
     "end_time": "2025-03-26T17:34:20.623501Z",
     "start_time": "2025-03-26T17:34:19.104089Z"
    }
   },
   "cell_type": "code",
   "source": "history = train(model, epochs=50, optimizer=optimizer, scheduler=scheduler)",
   "id": "1721f47e69c2a097",
   "outputs": [
    {
     "name": "stdout",
     "output_type": "stream",
     "text": [
      "Epoch 1| Train Loss = 0.8646 Train acc = 57.7607| Val Loss = 0.9979| Val acc = 44.4848\n",
      "Epoch 2| Train Loss = 0.6127 Train acc = 72.8375| Val Loss = 0.9180| Val acc = 49.8182\n",
      "Epoch 3| Train Loss = 0.5134 Train acc = 77.9305| Val Loss = 0.8138| Val acc = 57.5758\n",
      "Epoch 4| Train Loss = 0.5049 Train acc = 78.2134| Val Loss = 0.6998| Val acc = 67.3939\n",
      "Epoch 5| Train Loss = 0.4741 Train acc = 78.8197| Val Loss = 0.6360| Val acc = 71.1515\n",
      "Epoch 6| Train Loss = 0.4579 Train acc = 79.4260| Val Loss = 0.6423| Val acc = 72.0000\n",
      "Epoch 7| Train Loss = 0.4373 Train acc = 81.6896| Val Loss = 0.6246| Val acc = 70.0606\n",
      "Epoch 8| Train Loss = 0.4492 Train acc = 80.2344| Val Loss = 0.5828| Val acc = 71.8788\n",
      "Epoch 9| Train Loss = 0.4154 Train acc = 83.4276| Val Loss = 0.5535| Val acc = 74.7879\n",
      "Epoch 10| Train Loss = 0.4076 Train acc = 82.3767| Val Loss = 0.5359| Val acc = 76.0000\n",
      "Epoch 11| Train Loss = 0.3979 Train acc = 84.1552| Val Loss = 0.5489| Val acc = 75.3939\n",
      "Epoch 12| Train Loss = 0.3856 Train acc = 83.9127| Val Loss = 0.5367| Val acc = 76.4848\n",
      "Epoch 13| Train Loss = 0.4082 Train acc = 83.6702| Val Loss = 0.5369| Val acc = 76.8485\n",
      "Epoch 14| Train Loss = 0.3594 Train acc = 85.9337| Val Loss = 0.5472| Val acc = 75.7576\n",
      "Epoch 15| Train Loss = 0.3582 Train acc = 85.7316| Val Loss = 0.5368| Val acc = 75.7576\n",
      "Epoch 16| Train Loss = 0.3627 Train acc = 85.1253| Val Loss = 0.5139| Val acc = 76.2424\n",
      "Epoch 17| Train Loss = 0.3573 Train acc = 86.0954| Val Loss = 0.5032| Val acc = 77.3333\n",
      "Epoch 18| Train Loss = 0.3472 Train acc = 85.7316| Val Loss = 0.5298| Val acc = 76.8485\n",
      "Epoch 19| Train Loss = 0.3728 Train acc = 85.7316| Val Loss = 0.5402| Val acc = 76.7273\n",
      "Epoch 20| Train Loss = 0.3627 Train acc = 85.8933| Val Loss = 0.5103| Val acc = 77.2121\n",
      "Epoch 21| Train Loss = 0.3417 Train acc = 86.8230| Val Loss = 0.4856| Val acc = 77.3333\n",
      "Epoch 22| Train Loss = 0.3399 Train acc = 86.5400| Val Loss = 0.4580| Val acc = 79.2727\n",
      "Epoch 23| Train Loss = 0.3412 Train acc = 87.3888| Val Loss = 0.4915| Val acc = 76.8485\n",
      "Epoch 24| Train Loss = 0.3375 Train acc = 86.8230| Val Loss = 0.5006| Val acc = 75.3939\n",
      "Epoch 25| Train Loss = 0.3264 Train acc = 86.2975| Val Loss = 0.5137| Val acc = 75.7576\n",
      "Epoch 26| Train Loss = 0.3286 Train acc = 86.7421| Val Loss = 0.4963| Val acc = 76.8485\n",
      "Epoch 27| Train Loss = 0.3491 Train acc = 86.5400| Val Loss = 0.4644| Val acc = 77.4545\n",
      "Epoch 28| Train Loss = 0.3212 Train acc = 87.1059| Val Loss = 0.4877| Val acc = 76.8485\n",
      "Epoch 29| Train Loss = 0.3310 Train acc = 86.9442| Val Loss = 0.5146| Val acc = 75.7576\n",
      "Epoch 30| Train Loss = 0.3447 Train acc = 86.6209| Val Loss = 0.5294| Val acc = 75.7576\n",
      "Epoch 31| Train Loss = 0.3390 Train acc = 86.5804| Val Loss = 0.5168| Val acc = 76.6061\n",
      "Epoch 32| Train Loss = 0.3141 Train acc = 87.8739| Val Loss = 0.4781| Val acc = 76.1212\n",
      "Epoch 33| Train Loss = 0.3149 Train acc = 86.9442| Val Loss = 0.4928| Val acc = 76.8485\n",
      "Epoch 34| Train Loss = 0.3020 Train acc = 88.3589| Val Loss = 0.4923| Val acc = 77.5758\n",
      "Epoch 35| Train Loss = 0.3307 Train acc = 87.2272| Val Loss = 0.5022| Val acc = 77.6970\n",
      "Epoch 36| Train Loss = 0.3001 Train acc = 88.1568| Val Loss = 0.5191| Val acc = 76.0000\n",
      "Epoch 37| Train Loss = 0.3106 Train acc = 87.1059| Val Loss = 0.5065| Val acc = 77.0909\n",
      "Epoch 38| Train Loss = 0.3184 Train acc = 86.9846| Val Loss = 0.4811| Val acc = 77.9394\n",
      "Epoch 39| Train Loss = 0.3410 Train acc = 86.3783| Val Loss = 0.4636| Val acc = 78.5455\n",
      "Epoch 40| Train Loss = 0.3177 Train acc = 87.6718| Val Loss = 0.4690| Val acc = 76.3636\n",
      "Epoch 41| Train Loss = 0.3052 Train acc = 87.3888| Val Loss = 0.4759| Val acc = 76.3636\n",
      "Epoch 42| Train Loss = 0.3248 Train acc = 87.0655| Val Loss = 0.4654| Val acc = 77.6970\n",
      "Epoch 43| Train Loss = 0.3120 Train acc = 87.5101| Val Loss = 0.4487| Val acc = 77.4545\n",
      "Epoch 44| Train Loss = 0.3185 Train acc = 87.0251| Val Loss = 0.4870| Val acc = 76.4848\n",
      "Epoch 45| Train Loss = 0.3140 Train acc = 87.3080| Val Loss = 0.4681| Val acc = 77.0909\n",
      "Epoch 46| Train Loss = 0.3044 Train acc = 87.9143| Val Loss = 0.4753| Val acc = 76.6061\n",
      "Epoch 47| Train Loss = 0.2825 Train acc = 89.0865| Val Loss = 0.4747| Val acc = 77.2121\n",
      "Epoch 48| Train Loss = 0.3057 Train acc = 87.8739| Val Loss = 0.4897| Val acc = 76.8485\n",
      "Epoch 49| Train Loss = 0.3158 Train acc = 87.3080| Val Loss = 0.4774| Val acc = 76.4848\n",
      "Epoch 50| Train Loss = 0.3184 Train acc = 87.3484| Val Loss = 0.4576| Val acc = 76.9697\n"
     ]
    }
   ],
   "execution_count": 1663
  },
  {
   "metadata": {
    "ExecuteTime": {
     "end_time": "2025-03-26T17:34:20.875989Z",
     "start_time": "2025-03-26T17:34:20.668001Z"
    }
   },
   "cell_type": "code",
   "source": [
    "fig, (ax1, ax2) = plt.subplots(1, 2, figsize=(15,6))\n",
    "ax1.plot(history[0, :], label=\"train_loss\")\n",
    "ax1.plot(history[2, :], label=\"val_loss\")\n",
    "ax1.legend()\n",
    "\n",
    "ax2.plot(history[1, :], label=\"train_acc\")\n",
    "ax2.plot(history[3, :], label=\"val_acc\")\n",
    "ax2.legend()"
   ],
   "id": "9f09ab4adb4dc3aa",
   "outputs": [
    {
     "data": {
      "text/plain": [
       "<matplotlib.legend.Legend at 0x78d96c0cd190>"
      ]
     },
     "execution_count": 1664,
     "metadata": {},
     "output_type": "execute_result"
    },
    {
     "data": {
      "text/plain": [
       "<Figure size 1500x600 with 2 Axes>"
      ],
      "image/png": "[encoded data removed]"
     },
     "metadata": {},
     "output_type": "display_data"
    }
   ],
   "execution_count": 1664
  },
  {
   "metadata": {},
   "cell_type": "markdown",
   "source": "# Evaluation",
   "id": "f35113bb9b7b27b"
  },
  {
   "metadata": {
    "ExecuteTime": {
     "end_time": "2025-03-26T17:34:20.982277Z",
     "start_time": "2025-03-26T17:34:20.961590Z"
    }
   },
   "cell_type": "code",
   "source": [
    "model.eval()\n",
    "true_preds, num_preds = 0., 0.\n",
    "\n",
    "test_y_hat = []\n",
    "test_y = []\n",
    "with torch.no_grad():\n",
    "    for data_inputs, data_labels in test_data_loader:\n",
    "        data_inputs, data_labels = data_inputs.to(device), data_labels.to(device)\n",
    "\n",
    "\n",
    "        logits = model(data_inputs)\n",
    "        predictions, correct = predict_from_logits(logits, data_labels)\n",
    "\n",
    "\n",
    "        test_y_hat.append(predictions.to(\"cpu\").numpy())\n",
    "        test_y.append(data_labels.to(\"cpu\").numpy())\n",
    "\n",
    "        true_preds += correct\n",
    "        num_preds += data_labels.shape[0]\n",
    "\n",
    "test_accuracy = (true_preds / num_preds) * 100.0\n",
    "print(f\"Accuracy of the model: {test_accuracy:.2f}%\")"
   ],
   "id": "2eb1fb0017cf407e",
   "outputs": [
    {
     "name": "stdout",
     "output_type": "stream",
     "text": [
      "Accuracy of the model: 81.20%\n"
     ]
    }
   ],
   "execution_count": 1665
  },
  {
   "metadata": {
    "ExecuteTime": {
     "end_time": "2025-03-26T17:34:21.068578Z",
     "start_time": "2025-03-26T17:34:21.066638Z"
    }
   },
   "cell_type": "code",
   "source": "from sklearn.metrics import ConfusionMatrixDisplay, confusion_matrix\n",
   "id": "265949fb71992c56",
   "outputs": [],
   "execution_count": 1666
  },
  {
   "metadata": {
    "ExecuteTime": {
     "end_time": "2025-03-26T17:34:21.158508Z",
     "start_time": "2025-03-26T17:34:21.156384Z"
    }
   },
   "cell_type": "code",
   "source": [
    "test_y = np.concatenate(test_y)\n",
    "test_y_hat = np.concatenate(test_y_hat)"
   ],
   "id": "b861e6815163f606",
   "outputs": [],
   "execution_count": 1667
  },
  {
   "metadata": {
    "ExecuteTime": {
     "end_time": "2025-03-26T17:34:21.244675Z",
     "start_time": "2025-03-26T17:34:21.241600Z"
    }
   },
   "cell_type": "code",
   "source": "cm = confusion_matrix(test_y, test_y_hat)",
   "id": "85668a9e9aa20909",
   "outputs": [],
   "execution_count": 1668
  },
  {
   "metadata": {
    "ExecuteTime": {
     "end_time": "2025-03-26T17:34:21.426106Z",
     "start_time": "2025-03-26T17:34:21.328750Z"
    }
   },
   "cell_type": "code",
   "source": [
    "\n",
    "disp = ConfusionMatrixDisplay(cm, display_labels=[str(x) for x in range(cm.shape[0])])\n",
    "disp.plot()\n",
    "plt.show()"
   ],
   "id": "b44a00c620560be2",
   "outputs": [
    {
     "data": {
      "text/plain": [
       "<Figure size 640x480 with 2 Axes>"
      ],
      "image/png": "[encoded data removed]"
     },
     "metadata": {},
     "output_type": "display_data"
    }
   ],
   "execution_count": 1669
  },
  {
   "metadata": {
    "ExecuteTime": {
     "end_time": "2025-03-26T17:34:21.516399Z",
     "start_time": "2025-03-26T17:34:21.513455Z"
    }
   },
   "cell_type": "code",
   "source": [
    "def accuracies_for_classes(cm: np.array):\n",
    "    accuracies = []\n",
    "    for class_idx in range(cm.shape[0]):\n",
    "        acc = (cm[class_idx, class_idx] / np.sum(cm[class_idx, :])) * 100\n",
    "        accuracies.append(acc)\n",
    "\n",
    "    return accuracies"
   ],
   "id": "df0e1ec63471eb44",
   "outputs": [],
   "execution_count": 1670
  },
  {
   "metadata": {
    "ExecuteTime": {
     "end_time": "2025-03-26T17:34:21.601737Z",
     "start_time": "2025-03-26T17:34:21.598905Z"
    }
   },
   "cell_type": "code",
   "source": [
    "accuracies = accuracies_for_classes(cm)\n",
    "labels = [\"Cheap\", \"Average\", \"Expensive\"]\n",
    "for i, acc in enumerate(accuracies):\n",
    "    print(f\"Accuracy for class {labels[i]:<10} ({i}): {acc:.2f} %\")\n",
    "print()\n",
    "print(f\"Test accuracy: {test_accuracy:.2f} %\")\n",
    "print(f\"Average accuracy: {sum(accuracies)/3:.2f} %\")"
   ],
   "id": "c26db08ed314faa1",
   "outputs": [
    {
     "name": "stdout",
     "output_type": "stream",
     "text": [
      "Accuracy for class Cheap      (0): 99.71 %\n",
      "Accuracy for class Average    (1): 75.18 %\n",
      "Accuracy for class Expensive  (2): 94.89 %\n",
      "\n",
      "Test accuracy: 81.20 %\n",
      "Average accuracy: 89.93 %\n"
     ]
    }
   ],
   "execution_count": 1671
  },
  {
   "metadata": {
    "ExecuteTime": {
     "end_time": "2025-03-26T17:34:21.687495Z",
     "start_time": "2025-03-26T17:34:21.685744Z"
    }
   },
   "cell_type": "code",
   "source": [
    "# state_dict = model.state_dict()\n",
    "# torch.save(state_dict, \"apartments_89_average_test.tar\")"
   ],
   "id": "a1d55b34c6cb0d8a",
   "outputs": [],
   "execution_count": 1672
  }
 ],
 "metadata": {
  "kernelspec": {
   "display_name": "Python 3",
   "language": "python",
   "name": "python3"
  },
  "language_info": {
   "codemirror_mode": {
    "name": "ipython",
    "version": 2
   },
   "file_extension": ".py",
   "mimetype": "text/x-python",
   "name": "python",
   "nbconvert_exporter": "python",
   "pygments_lexer": "ipython2",
   "version": "2.7.6"
  }
 },
 "nbformat": 4,
 "nbformat_minor": 5
}
