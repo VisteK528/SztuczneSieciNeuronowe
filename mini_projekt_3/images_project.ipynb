{
 "cells": [
  {
   "cell_type": "code",
   "id": "initial_id",
   "metadata": {
    "collapsed": true,
    "ExecuteTime": {
     "end_time": "2025-04-08T14:33:26.795571Z",
     "start_time": "2025-04-08T14:33:26.791612Z"
    }
   },
   "source": [
    "import torch\n",
    "import torchvision\n",
    "import torch.nn as nn\n",
    "import torchvision.transforms as transforms\n",
    "import pandas as pd\n",
    "import numpy as np\n",
    "import torch.nn.functional as F\n",
    "import matplotlib.pyplot as plt\n",
    "from torch.utils.data import random_split, DataLoader, Dataset\n",
    "from collections import Counter"
   ],
   "outputs": [],
   "execution_count": 294
  },
  {
   "metadata": {
    "ExecuteTime": {
     "end_time": "2025-04-08T14:33:26.814494Z",
     "start_time": "2025-04-08T14:33:26.810542Z"
    }
   },
   "cell_type": "code",
   "source": [
    "if torch.cuda.is_available():\n",
    "    device = torch.device(\"cuda\")\n",
    "    print(torch.cuda.get_device_name(device))\n",
    "    torch.cuda.manual_seed(42)\n",
    "    torch.cuda.manual_seed_all(42)\n",
    "\n",
    "else:\n",
    "    device = torch.device(\"cpu\")\n",
    "\n",
    "print(device.type)"
   ],
   "id": "b7558617ed0265de",
   "outputs": [
    {
     "name": "stdout",
     "output_type": "stream",
     "text": [
      "NVIDIA GeForce RTX 2070 Super\n",
      "cuda\n"
     ]
    }
   ],
   "execution_count": 295
  },
  {
   "metadata": {
    "ExecuteTime": {
     "end_time": "2025-04-08T14:33:27.592649Z",
     "start_time": "2025-04-08T14:33:26.875236Z"
    }
   },
   "cell_type": "code",
   "source": [
    "transform = transforms.Compose(\n",
    "    [transforms.ToTensor(),\n",
    "     transforms.Normalize((0.5, 0.5, 0.5), (0.5, 0.5, 0.5))])\n",
    "\n",
    "transform2 = transforms.Compose(\n",
    "    [transforms.RandomHorizontalFlip(0.5),\n",
    "     transforms.RandomVerticalFlip(0.5),\n",
    "     transforms.RandomRotation(24),\n",
    "     transforms.ToTensor(),\n",
    "     transforms.RandomErasing(0.2),\n",
    "     transforms.Normalize((0.5, 0.5, 0.5), (0.5, 0.5, 0.5))])\n",
    "\n",
    "dataset = torchvision.datasets.ImageFolder(\"./train\", transform=transform)\n",
    "dataset1 = torchvision.datasets.ImageFolder(\"./train\", transform=transform2)\n",
    "\n",
    "# Image dimensions 3x64x64\n",
    "\n",
    "total_size = len(dataset)\n",
    "total_size1 = len(dataset1)\n",
    "print(f\"Size of total dataset: {total_size} images from {len(dataset.classes)} classes\")\n",
    "print(f\"Size of total dataset: {total_size1} images from {len(dataset.classes)} classes\")\n",
    "\n",
    "train_percentage = 0.7\n",
    "val_percentage = 0.15\n",
    "test_percentage = 0.15\n",
    "\n",
    "train_size = int(train_percentage * total_size)\n",
    "val_size = int(val_percentage * total_size)\n",
    "test_size = total_size - train_size - val_size\n",
    "\n",
    "train_dataset, val_dataset, test_dataset = random_split(dataset, [train_size, val_size, test_size])"
   ],
   "id": "4ac9bbaa716de641",
   "outputs": [
    {
     "name": "stdout",
     "output_type": "stream",
     "text": [
      "Size of total dataset: 88011 images from 50 classes\n",
      "Size of total dataset: 88011 images from 50 classes\n"
     ]
    }
   ],
   "execution_count": 296
  },
  {
   "metadata": {
    "ExecuteTime": {
     "end_time": "2025-04-08T14:33:27.667206Z",
     "start_time": "2025-04-08T14:33:27.657845Z"
    }
   },
   "cell_type": "code",
   "source": [
    "BATCH_SIZE = 32\n",
    "TEST_BATCH_SIZE = 1024\n",
    "train_data_loader = DataLoader(train_dataset, batch_size=BATCH_SIZE, shuffle=True, num_workers=16, pin_memory=True)\n",
    "val_data_loader = DataLoader(val_dataset, batch_size=TEST_BATCH_SIZE, shuffle=False, num_workers=16)\n",
    "test_data_loader = DataLoader(test_dataset, batch_size=TEST_BATCH_SIZE, shuffle=False, num_workers=16)"
   ],
   "id": "a48488a126cfe5c9",
   "outputs": [],
   "execution_count": 297
  },
  {
   "metadata": {
    "ExecuteTime": {
     "end_time": "2025-04-08T14:33:27.729266Z",
     "start_time": "2025-04-08T14:33:27.725676Z"
    }
   },
   "cell_type": "code",
   "source": [
    "def predict_from_logits(logits, y_hat):\n",
    "    pred_probabilites = nn.Softmax(dim=1)(logits)\n",
    "    predictions = pred_probabilites.argmax(1)\n",
    "\n",
    "    correct = (predictions == y_hat).sum().item()\n",
    "    return predictions, correct\n",
    "\n",
    "def predict_from_logits_train(logits, y_hat):\n",
    "    predictions = logits.argmax(dim=1)\n",
    "    correct = (predictions == y_hat).sum().item()\n",
    "    return predictions, correct\n"
   ],
   "id": "784e3bfc301d13de",
   "outputs": [],
   "execution_count": 298
  },
  {
   "metadata": {
    "ExecuteTime": {
     "end_time": "2025-04-08T14:33:27.793114Z",
     "start_time": "2025-04-08T14:33:27.789247Z"
    }
   },
   "cell_type": "code",
   "source": [
    "class EarlyStopping:\n",
    "    def __init__(self, tolerance=5, min_delta=0):\n",
    "\n",
    "        self.tolerance = tolerance\n",
    "        self.min_delta = min_delta\n",
    "        self.counter = 0\n",
    "        self.early_stop = False\n",
    "\n",
    "    def __call__(self, train_loss, validation_loss):\n",
    "        if (validation_loss - train_loss) > self.min_delta:\n",
    "            self.counter +=1\n",
    "            if self.counter >= self.tolerance:\n",
    "                self.early_stop = True"
   ],
   "id": "166015841ac6012b",
   "outputs": [],
   "execution_count": 299
  },
  {
   "metadata": {
    "ExecuteTime": {
     "end_time": "2025-04-08T14:33:27.861423Z",
     "start_time": "2025-04-08T14:33:27.853556Z"
    }
   },
   "cell_type": "code",
   "source": [
    "def train(model: nn.Module, epochs: int, optimizer, scheduler, loss_module, early_stopping) -> np.ndarray:\n",
    "    train_losses = []\n",
    "    val_losses = []\n",
    "    train_acc = []\n",
    "    val_acc = []\n",
    "\n",
    "    for epoch in range(epochs):\n",
    "        total_train_loss = 0\n",
    "        total_val_loss = 0\n",
    "\n",
    "        train_correct = 0\n",
    "        train_total = 0\n",
    "\n",
    "        val_correct = 0\n",
    "        val_total = 0\n",
    "\n",
    "        model.train()\n",
    "        for data_inputs, data_labels in train_data_loader:\n",
    "            data_inputs, data_labels = data_inputs.to(device), data_labels.to(device)\n",
    "\n",
    "            logits = model(data_inputs)\n",
    "            loss = loss_module(logits, data_labels)\n",
    "\n",
    "            optimizer.zero_grad()\n",
    "            loss.backward()\n",
    "            optimizer.step()\n",
    "\n",
    "            total_train_loss += loss.item()\n",
    "\n",
    "            _, correct = predict_from_logits_train(logits, data_labels)\n",
    "\n",
    "            train_correct += correct\n",
    "            train_total += data_labels.size(0)\n",
    "\n",
    "        train_accuracy = 100 * train_correct / train_total\n",
    "        avg_train_loss = total_train_loss / len(train_data_loader)\n",
    "        train_losses.append(avg_train_loss)\n",
    "        train_acc.append(train_accuracy)\n",
    "\n",
    "\n",
    "        model.eval()\n",
    "        with torch.no_grad():\n",
    "            for data_inputs, data_labels in val_data_loader:\n",
    "                data_inputs, data_labels = data_inputs.to(device), data_labels.to(device)\n",
    "\n",
    "                logits = model(data_inputs)\n",
    "\n",
    "\n",
    "                loss = loss_module(logits, data_labels)\n",
    "                total_val_loss += loss.item()\n",
    "\n",
    "                _, correct = predict_from_logits_train(logits, data_labels)\n",
    "\n",
    "                val_correct += correct\n",
    "                val_total += data_labels.size(0)\n",
    "\n",
    "        val_accuracy = 100 * val_correct / val_total\n",
    "        avg_val_loss = total_val_loss / len(val_data_loader)\n",
    "        val_losses.append(avg_val_loss)\n",
    "        val_acc.append(val_accuracy)\n",
    "\n",
    "        scheduler.step()\n",
    "        print(f\"Epoch {epoch+1}| Train Loss = {avg_train_loss:.4f} Train acc = {train_accuracy:.4f}| Val Loss = {avg_val_loss:.4f}| Val acc = {val_accuracy:.4f}\")\n",
    "\n",
    "        early_stopping(avg_train_loss, avg_val_loss)\n",
    "        if early_stopping.early_stop:\n",
    "          print(\"Early stopping! We are at epoch:\", epoch)\n",
    "          break\n",
    "\n",
    "    history = [train_losses, train_acc, val_losses, val_acc]\n",
    "    return np.array(history)"
   ],
   "id": "c953552390371f2b",
   "outputs": [],
   "execution_count": 300
  },
  {
   "metadata": {
    "ExecuteTime": {
     "end_time": "2025-04-08T14:33:27.929481Z",
     "start_time": "2025-04-08T14:33:27.922584Z"
    }
   },
   "cell_type": "code",
   "source": [
    "class ImagesClassifier(nn.Module):\n",
    "    def __init__(self, num_outputs):\n",
    "        super().__init__()\n",
    "\n",
    "        self.features = nn.Sequential(\n",
    "            nn.Conv2d(3, 64, kernel_size=7, stride=1, padding=3),  # 64x64 → 64x64\n",
    "            nn.BatchNorm2d(64),\n",
    "            nn.ReLU(),\n",
    "            nn.MaxPool2d(2),  # 32x32\n",
    "\n",
    "            nn.Conv2d(64, 128, kernel_size=5, stride=1, padding=2),  # 32x32 → 32x32\n",
    "            nn.BatchNorm2d(128),\n",
    "            nn.ReLU(),\n",
    "            nn.MaxPool2d(2),  # 16x16\n",
    "\n",
    "            nn.Conv2d(128, 256, kernel_size=3, stride=1, padding=0),  # 16x16 → 14x14\n",
    "            nn.BatchNorm2d(256),\n",
    "            nn.ReLU(),\n",
    "\n",
    "            nn.Conv2d(256, 384, kernel_size=3, stride=1, padding=0),  # 14x14 → 12x12\n",
    "            nn.BatchNorm2d(384),\n",
    "            nn.ReLU(),\n",
    "\n",
    "            nn.Conv2d(384, 256, kernel_size=3, stride=1, padding=1),  # 12x12 → 12x12\n",
    "            nn.BatchNorm2d(256),\n",
    "            nn.ReLU(),\n",
    "\n",
    "            nn.MaxPool2d(kernel_size=3, stride=2) #5x5,\n",
    "        )\n",
    "\n",
    "\n",
    "\n",
    "        self.flatten = nn.Flatten()\n",
    "\n",
    "        # self.classifier = nn.Sequential(\n",
    "        #     nn.Linear(256 * 5 * 5, 512),\n",
    "        #     nn.BatchNorm1d(512),\n",
    "        #     nn.ReLU(),\n",
    "        #     nn.Dropout(0.5),\n",
    "        #\n",
    "        #     nn.Linear(512, 256),\n",
    "        #     nn.BatchNorm1d(256),\n",
    "        #     nn.ReLU(),\n",
    "        #     nn.Dropout(0.5),\n",
    "        #\n",
    "        #     nn.Linear(256, num_outputs)\n",
    "        # )\n",
    "\n",
    "        self.classifier = nn.Sequential(\n",
    "            nn.Linear(256 * 5 * 5, 128),\n",
    "            nn.BatchNorm1d(128),\n",
    "            nn.ReLU(),\n",
    "            nn.Dropout(0.5),\n",
    "\n",
    "            nn.Linear(128, 128),\n",
    "            nn.BatchNorm1d(128),\n",
    "            nn.ReLU(),\n",
    "            nn.Dropout(0.5),\n",
    "\n",
    "            nn.Linear(128, num_outputs)\n",
    "        )\n",
    "\n",
    "    def forward(self, x):\n",
    "        x = self.features(x)\n",
    "        x = self.flatten(x)\n",
    "        x = self.classifier(x)\n",
    "        return x"
   ],
   "id": "7d6fe34d4f380e96",
   "outputs": [],
   "execution_count": 301
  },
  {
   "metadata": {
    "ExecuteTime": {
     "end_time": "2025-04-08T14:33:28.053618Z",
     "start_time": "2025-04-08T14:33:28.050153Z"
    }
   },
   "cell_type": "code",
   "source": [
    "def count_parameters(model):\n",
    "    return sum(p.numel() for p in model.parameters() if p.requires_grad)"
   ],
   "id": "5c7b9bcece65e8d7",
   "outputs": [],
   "execution_count": 302
  },
  {
   "metadata": {
    "ExecuteTime": {
     "end_time": "2025-04-08T14:33:28.127806Z",
     "start_time": "2025-04-08T14:33:28.096892Z"
    }
   },
   "cell_type": "code",
   "source": [
    "model = ImagesClassifier(num_outputs=50)\n",
    "model.to(device)"
   ],
   "id": "ac2aadddd2d85fa",
   "outputs": [
    {
     "data": {
      "text/plain": [
       "ImagesClassifier(\n",
       "  (features): Sequential(\n",
       "    (0): Conv2d(3, 64, kernel_size=(7, 7), stride=(1, 1), padding=(3, 3))\n",
       "    (1): BatchNorm2d(64, eps=1e-05, momentum=0.1, affine=True, track_running_stats=True)\n",
       "    (2): ReLU()\n",
       "    (3): MaxPool2d(kernel_size=2, stride=2, padding=0, dilation=1, ceil_mode=False)\n",
       "    (4): Conv2d(64, 128, kernel_size=(5, 5), stride=(1, 1), padding=(2, 2))\n",
       "    (5): BatchNorm2d(128, eps=1e-05, momentum=0.1, affine=True, track_running_stats=True)\n",
       "    (6): ReLU()\n",
       "    (7): MaxPool2d(kernel_size=2, stride=2, padding=0, dilation=1, ceil_mode=False)\n",
       "    (8): Conv2d(128, 256, kernel_size=(3, 3), stride=(1, 1))\n",
       "    (9): BatchNorm2d(256, eps=1e-05, momentum=0.1, affine=True, track_running_stats=True)\n",
       "    (10): ReLU()\n",
       "    (11): Conv2d(256, 384, kernel_size=(3, 3), stride=(1, 1))\n",
       "    (12): BatchNorm2d(384, eps=1e-05, momentum=0.1, affine=True, track_running_stats=True)\n",
       "    (13): ReLU()\n",
       "    (14): Conv2d(384, 256, kernel_size=(3, 3), stride=(1, 1), padding=(1, 1))\n",
       "    (15): BatchNorm2d(256, eps=1e-05, momentum=0.1, affine=True, track_running_stats=True)\n",
       "    (16): ReLU()\n",
       "    (17): MaxPool2d(kernel_size=3, stride=2, padding=0, dilation=1, ceil_mode=False)\n",
       "  )\n",
       "  (flatten): Flatten(start_dim=1, end_dim=-1)\n",
       "  (classifier): Sequential(\n",
       "    (0): Linear(in_features=6400, out_features=128, bias=True)\n",
       "    (1): BatchNorm1d(128, eps=1e-05, momentum=0.1, affine=True, track_running_stats=True)\n",
       "    (2): ReLU()\n",
       "    (3): Dropout(p=0.5, inplace=False)\n",
       "    (4): Linear(in_features=128, out_features=128, bias=True)\n",
       "    (5): BatchNorm1d(128, eps=1e-05, momentum=0.1, affine=True, track_running_stats=True)\n",
       "    (6): ReLU()\n",
       "    (7): Dropout(p=0.5, inplace=False)\n",
       "    (8): Linear(in_features=128, out_features=50, bias=True)\n",
       "  )\n",
       ")"
      ]
     },
     "execution_count": 303,
     "metadata": {},
     "output_type": "execute_result"
    }
   ],
   "execution_count": 303
  },
  {
   "metadata": {
    "ExecuteTime": {
     "end_time": "2025-04-08T14:33:28.196085Z",
     "start_time": "2025-04-08T14:33:28.192180Z"
    }
   },
   "cell_type": "code",
   "source": "count_parameters(model)",
   "id": "13835b3c65776d82",
   "outputs": [
    {
     "data": {
      "text/plain": [
       "3124658"
      ]
     },
     "execution_count": 304,
     "metadata": {},
     "output_type": "execute_result"
    }
   ],
   "execution_count": 304
  },
  {
   "metadata": {
    "ExecuteTime": {
     "end_time": "2025-04-08T14:33:28.309621Z",
     "start_time": "2025-04-08T14:33:28.305252Z"
    }
   },
   "cell_type": "code",
   "source": [
    "optimizer = torch.optim.Adam(model.parameters(), lr=1e-3, weight_decay=0.0001)\n",
    "\n",
    "loss_module = nn.CrossEntropyLoss()\n",
    "scheduler = torch.optim.lr_scheduler.StepLR(optimizer, step_size=15, gamma=0.1)\n",
    "early_stopping = EarlyStopping(tolerance=10, min_delta=0.1)"
   ],
   "id": "6790b6963adae3fe",
   "outputs": [],
   "execution_count": 305
  },
  {
   "metadata": {
    "ExecuteTime": {
     "end_time": "2025-04-08T15:03:38.921438Z",
     "start_time": "2025-04-08T14:33:28.380713Z"
    }
   },
   "cell_type": "code",
   "source": "history = train(model, epochs=50, optimizer=optimizer, scheduler=scheduler, loss_module=loss_module, early_stopping=early_stopping)",
   "id": "7f6a06294e5b252a",
   "outputs": [
    {
     "name": "stdout",
     "output_type": "stream",
     "text": [
      "Epoch 1| Train Loss = 3.3666 Train acc = 12.1528| Val Loss = 2.9699| Val acc = 20.5590\n",
      "Epoch 2| Train Loss = 3.0031 Train acc = 19.8159| Val Loss = 2.7180| Val acc = 26.3465\n",
      "Epoch 3| Train Loss = 2.8080 Train acc = 24.2716| Val Loss = 2.5244| Val acc = 30.8083\n",
      "Epoch 4| Train Loss = 2.6731 Train acc = 27.7274| Val Loss = 2.3587| Val acc = 35.8306\n",
      "Epoch 5| Train Loss = 2.5608 Train acc = 30.4235| Val Loss = 2.4360| Val acc = 33.8459\n",
      "Epoch 6| Train Loss = 2.4706 Train acc = 33.1147| Val Loss = 2.1369| Val acc = 41.6105\n",
      "Epoch 7| Train Loss = 2.3752 Train acc = 35.7005| Val Loss = 2.0977| Val acc = 41.8074\n",
      "Epoch 8| Train Loss = 2.2951 Train acc = 37.8480| Val Loss = 2.0051| Val acc = 45.1784\n",
      "Epoch 9| Train Loss = 2.2352 Train acc = 39.3527| Val Loss = 1.9202| Val acc = 47.0570\n",
      "Epoch 10| Train Loss = 2.1694 Train acc = 41.2762| Val Loss = 1.9064| Val acc = 47.6782\n",
      "Epoch 11| Train Loss = 2.1088 Train acc = 42.6948| Val Loss = 1.7992| Val acc = 50.4053\n",
      "Epoch 12| Train Loss = 2.0649 Train acc = 43.7645| Val Loss = 1.8028| Val acc = 51.2688\n",
      "Epoch 13| Train Loss = 2.0055 Train acc = 45.4380| Val Loss = 1.7736| Val acc = 51.7158\n",
      "Epoch 14| Train Loss = 1.9544 Train acc = 46.7252| Val Loss = 1.7451| Val acc = 52.5718\n",
      "Epoch 15| Train Loss = 1.9107 Train acc = 47.8111| Val Loss = 1.7842| Val acc = 51.5643\n",
      "Epoch 16| Train Loss = 1.7218 Train acc = 52.9291| Val Loss = 1.5906| Val acc = 56.7306\n",
      "Epoch 17| Train Loss = 1.6246 Train acc = 55.2778| Val Loss = 1.5774| Val acc = 57.1093\n",
      "Epoch 18| Train Loss = 1.5691 Train acc = 56.6494| Val Loss = 1.5703| Val acc = 57.6093\n",
      "Epoch 19| Train Loss = 1.4986 Train acc = 58.4382| Val Loss = 1.5543| Val acc = 57.7684\n",
      "Epoch 20| Train Loss = 1.4501 Train acc = 59.5776| Val Loss = 1.6080| Val acc = 56.7836\n",
      "Epoch 21| Train Loss = 1.3992 Train acc = 60.7674| Val Loss = 1.5728| Val acc = 58.1547\n",
      "Epoch 22| Train Loss = 1.3466 Train acc = 62.1569| Val Loss = 1.5797| Val acc = 57.4956\n",
      "Epoch 23| Train Loss = 1.3016 Train acc = 63.2931| Val Loss = 1.5900| Val acc = 57.8668\n",
      "Epoch 24| Train Loss = 1.2748 Train acc = 63.7996| Val Loss = 1.5876| Val acc = 58.0108\n",
      "Epoch 25| Train Loss = 1.2247 Train acc = 65.1257| Val Loss = 1.6209| Val acc = 57.5108\n",
      "Epoch 26| Train Loss = 1.2002 Train acc = 65.7263| Val Loss = 1.6342| Val acc = 57.4123\n",
      "Epoch 27| Train Loss = 1.1507 Train acc = 66.8804| Val Loss = 1.6483| Val acc = 57.5638\n",
      "Epoch 28| Train Loss = 1.1189 Train acc = 67.6644| Val Loss = 1.6741| Val acc = 57.2457\n",
      "Epoch 29| Train Loss = 1.0792 Train acc = 68.5523| Val Loss = 1.6591| Val acc = 57.7305\n",
      "Early stopping! We are at epoch: 28\n"
     ]
    }
   ],
   "execution_count": 306
  },
  {
   "metadata": {
    "ExecuteTime": {
     "end_time": "2025-04-08T15:04:22.743682Z",
     "start_time": "2025-04-08T15:04:22.474130Z"
    }
   },
   "cell_type": "code",
   "source": [
    "fig, (ax1, ax2) = plt.subplots(1, 2, figsize=(15,6))\n",
    "ax1.plot(history[0, :], label=\"train_loss\")\n",
    "ax1.plot(history[2, :], label=\"val_loss\")\n",
    "ax1.legend()\n",
    "\n",
    "ax2.plot(history[1, :], label=\"train_acc\")\n",
    "ax2.plot(history[3, :], label=\"val_acc\")\n",
    "ax2.legend()"
   ],
   "id": "f21edb3dabea13d4",
   "outputs": [
    {
     "data": {
      "text/plain": [
       "<matplotlib.legend.Legend at 0x703e0f3e0710>"
      ]
     },
     "execution_count": 309,
     "metadata": {},
     "output_type": "execute_result"
    },
    {
     "data": {
      "text/plain": [
       "<Figure size 1500x600 with 2 Axes>"
      ],
      "image/png": "[encoded data removed]"
     },
     "metadata": {},
     "output_type": "display_data"
    }
   ],
   "execution_count": 309
  },
  {
   "metadata": {},
   "cell_type": "markdown",
   "source": "# Evaluation",
   "id": "69a30d0db9239d8"
  },
  {
   "metadata": {
    "ExecuteTime": {
     "end_time": "2025-04-08T15:04:31.698221Z",
     "start_time": "2025-04-08T15:04:28.728213Z"
    }
   },
   "cell_type": "code",
   "source": [
    "model.eval()\n",
    "true_preds, num_preds = 0., 0.\n",
    "\n",
    "test_y_hat = []\n",
    "test_y = []\n",
    "with torch.no_grad():\n",
    "    for data_inputs, data_labels in test_data_loader:\n",
    "        data_inputs, data_labels = data_inputs.to(device), data_labels.to(device)\n",
    "\n",
    "\n",
    "        logits = model(data_inputs)\n",
    "        predictions, correct = predict_from_logits(logits, data_labels)\n",
    "\n",
    "\n",
    "        test_y_hat.append(predictions.to(\"cpu\").numpy())\n",
    "        test_y.append(data_labels.to(\"cpu\").numpy())\n",
    "\n",
    "        true_preds += correct\n",
    "        num_preds += data_labels.shape[0]\n",
    "\n",
    "test_accuracy = (true_preds / num_preds) * 100.0\n",
    "print(f\"Accuracy of the model: {test_accuracy:.2f}%\")"
   ],
   "id": "6048851f1c24a106",
   "outputs": [
    {
     "name": "stdout",
     "output_type": "stream",
     "text": [
      "Accuracy of the model: 57.31%\n"
     ]
    }
   ],
   "execution_count": 310
  },
  {
   "metadata": {
    "ExecuteTime": {
     "end_time": "2025-04-08T15:03:42.689350Z",
     "start_time": "2025-04-08T15:03:42.687256Z"
    }
   },
   "cell_type": "code",
   "source": "",
   "id": "d7c988f8693bcbf4",
   "outputs": [],
   "execution_count": null
  }
 ],
 "metadata": {
  "kernelspec": {
   "display_name": "Python 3",
   "language": "python",
   "name": "python3"
  },
  "language_info": {
   "codemirror_mode": {
    "name": "ipython",
    "version": 2
   },
   "file_extension": ".py",
   "mimetype": "text/x-python",
   "name": "python",
   "nbconvert_exporter": "python",
   "pygments_lexer": "ipython2",
   "version": "2.7.6"
  }
 },
 "nbformat": 4,
 "nbformat_minor": 5
}
