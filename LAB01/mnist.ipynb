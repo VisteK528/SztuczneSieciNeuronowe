{
 "cells": [
  {
   "cell_type": "code",
   "id": "initial_id",
   "metadata": {
    "collapsed": true,
    "ExecuteTime": {
     "end_time": "2025-03-04T17:44:29.993863Z",
     "start_time": "2025-03-04T17:44:29.990752Z"
    }
   },
   "source": [
    "import torch\n",
    "from torchvision import transforms, datasets\n",
    "import torch.utils.data as data\n",
    "import torch.nn as nn\n",
    "import numpy as np\n",
    "import matplotlib.pyplot as plt"
   ],
   "outputs": [],
   "execution_count": 19
  },
  {
   "metadata": {
    "ExecuteTime": {
     "end_time": "2025-03-04T17:29:38.797857Z",
     "start_time": "2025-03-04T17:29:38.778814Z"
    }
   },
   "cell_type": "code",
   "source": [
    "if torch.cuda.is_available():\n",
    "    device = torch.device(\"cuda\")\n",
    "\n",
    "    # Losowość jest bardzo ważnym elementem trenowania sieci neuronowych (o czym się wkrótce przekonamy).Eksperymentując, chcielibyśmy jednak żeby przy każdym uruchomieniu programu, wynik był taki sam. Tylko w takim przypadku jesteśmy w stanie coś wnioskować. Do zapewnienia możliwości reprodukcji wyników na GPU za pomocą pytorcha służa poniższe komendy:\n",
    "\n",
    "    torch.cuda.manual_seed(42)\n",
    "    torch.cuda.manual_seed_all(42)\n",
    "\n",
    "else:\n",
    "    device = torch.device(\"cpu\")\n",
    "\n",
    "print(device.type)"
   ],
   "id": "e4c06ece6c901b67",
   "outputs": [
    {
     "name": "stdout",
     "output_type": "stream",
     "text": [
      "cuda\n"
     ]
    }
   ],
   "execution_count": 2
  },
  {
   "metadata": {
    "ExecuteTime": {
     "end_time": "2025-03-04T17:44:34.673484Z",
     "start_time": "2025-03-04T17:44:34.670981Z"
    }
   },
   "cell_type": "code",
   "source": [
    "transform=transforms.Compose([\n",
    "        transforms.ToTensor(),\n",
    "        transforms.Normalize((0.1307,), (0.3081,))\n",
    "        ])"
   ],
   "id": "c5475a8b59b65058",
   "outputs": [],
   "execution_count": 21
  },
  {
   "metadata": {
    "ExecuteTime": {
     "end_time": "2025-03-04T17:45:30.241840Z",
     "start_time": "2025-03-04T17:45:14.951782Z"
    }
   },
   "cell_type": "code",
   "source": [
    "train_data = datasets.MNIST(\"data/\", train=True, transform=transform, download=True)\n",
    "test_data = datasets.MNIST(\"data/\", train=False, transform=transform)"
   ],
   "id": "d0c3ca923247892a",
   "outputs": [
    {
     "name": "stderr",
     "output_type": "stream",
     "text": [
      "100.0%\n",
      "100.0%\n",
      "100.0%\n",
      "100.0%\n"
     ]
    }
   ],
   "execution_count": 24
  },
  {
   "metadata": {
    "ExecuteTime": {
     "end_time": "2025-03-04T18:09:52.878571Z",
     "start_time": "2025-03-04T18:09:52.876093Z"
    }
   },
   "cell_type": "code",
   "source": [
    "train_data_loader = data.DataLoader(train_data, batch_size=512, shuffle=True, num_workers=10, pin_memory=True)\n",
    "test_data_loader = data.DataLoader(test_data, batch_size=512, shuffle=True, num_workers=10, pin_memory=True)"
   ],
   "id": "9e1f75d8294e3e67",
   "outputs": [],
   "execution_count": 66
  },
  {
   "metadata": {
    "ExecuteTime": {
     "end_time": "2025-03-04T18:58:38.068635Z",
     "start_time": "2025-03-04T18:58:38.065953Z"
    }
   },
   "cell_type": "code",
   "source": "len(train_data)",
   "id": "4a09db8867d588d4",
   "outputs": [
    {
     "data": {
      "text/plain": [
       "60000"
      ]
     },
     "execution_count": 117,
     "metadata": {},
     "output_type": "execute_result"
    }
   ],
   "execution_count": 117
  },
  {
   "metadata": {
    "ExecuteTime": {
     "end_time": "2025-03-04T17:51:14.077354Z",
     "start_time": "2025-03-04T17:51:14.074671Z"
    }
   },
   "cell_type": "code",
   "source": "image = next(iter(train_data))[0]",
   "id": "eb6d7c008f9e29dc",
   "outputs": [],
   "execution_count": 31
  },
  {
   "metadata": {
    "ExecuteTime": {
     "end_time": "2025-03-04T17:52:04.588496Z",
     "start_time": "2025-03-04T17:52:04.493970Z"
    }
   },
   "cell_type": "code",
   "source": "plt.imshow(image.view(28, 28))",
   "id": "3963892fc36b11d7",
   "outputs": [
    {
     "data": {
      "text/plain": [
       "<matplotlib.image.AxesImage at 0x75e009ef3050>"
      ]
     },
     "execution_count": 34,
     "metadata": {},
     "output_type": "execute_result"
    },
    {
     "data": {
      "text/plain": [
       "<Figure size 640x480 with 1 Axes>"
      ],
      "image/png": "[encoded data removed]"
     },
     "metadata": {},
     "output_type": "display_data"
    }
   ],
   "execution_count": 34
  },
  {
   "metadata": {
    "ExecuteTime": {
     "end_time": "2025-03-04T17:56:30.684914Z",
     "start_time": "2025-03-04T17:56:30.677329Z"
    }
   },
   "cell_type": "code",
   "source": [
    "flatten = nn.Flatten(start_dim=0, end_dim=2)\n",
    "image_flat = flatten(image)\n",
    "image_flat.shape"
   ],
   "id": "5c41b5647f39c97d",
   "outputs": [
    {
     "data": {
      "text/plain": [
       "torch.Size([784])"
      ]
     },
     "execution_count": 39,
     "metadata": {},
     "output_type": "execute_result"
    }
   ],
   "execution_count": 39
  },
  {
   "metadata": {},
   "cell_type": "markdown",
   "source": "# Model",
   "id": "3bf7510542c26104"
  },
  {
   "metadata": {
    "ExecuteTime": {
     "end_time": "2025-03-04T18:07:59.639911Z",
     "start_time": "2025-03-04T18:07:59.635971Z"
    }
   },
   "cell_type": "code",
   "source": [
    "class MnistClassifier(nn.Module):\n",
    "    def __init__(self, num_inputs, num_outputs):\n",
    "        super().__init__()\n",
    "        self.input_flat = nn.Flatten()\n",
    "        self.input = nn.Linear(num_inputs, 512)\n",
    "        self.hidden1 = nn.Linear(512, 128)\n",
    "        self.output = nn.Linear(128, num_outputs)\n",
    "        self.act_fn = nn.LeakyReLU()\n",
    "\n",
    "    def forward(self, x):\n",
    "        x = self.input_flat(x)\n",
    "        x = self.input(x)\n",
    "        x = self.act_fn(x)\n",
    "        x = self.hidden1(x)\n",
    "        x = self.act_fn(x)\n",
    "        x = self.output(x)\n",
    "        return x\n"
   ],
   "id": "a34afe07839bbeeb",
   "outputs": [],
   "execution_count": 60
  },
  {
   "metadata": {
    "ExecuteTime": {
     "end_time": "2025-03-04T18:10:50.406739Z",
     "start_time": "2025-03-04T18:10:50.384213Z"
    }
   },
   "cell_type": "code",
   "source": [
    "model = MnistClassifier(28*28, 10)\n",
    "model.to(device)"
   ],
   "id": "eb0f51ecf25d5c02",
   "outputs": [
    {
     "data": {
      "text/plain": [
       "MnistClassifier(\n",
       "  (input_flat): Flatten(start_dim=1, end_dim=-1)\n",
       "  (input): Linear(in_features=784, out_features=512, bias=True)\n",
       "  (hidden1): Linear(in_features=512, out_features=128, bias=True)\n",
       "  (output): Linear(in_features=128, out_features=10, bias=True)\n",
       "  (act_fn): LeakyReLU(negative_slope=0.01)\n",
       ")"
      ]
     },
     "execution_count": 71,
     "metadata": {},
     "output_type": "execute_result"
    }
   ],
   "execution_count": 71
  },
  {
   "metadata": {
    "ExecuteTime": {
     "end_time": "2025-03-04T18:10:50.774370Z",
     "start_time": "2025-03-04T18:10:50.771384Z"
    }
   },
   "cell_type": "code",
   "source": [
    "optimizer = torch.optim.Adam(model.parameters(), lr=1e-3)\n",
    "loss_module = nn.CrossEntropyLoss()"
   ],
   "id": "459007f95ac3343f",
   "outputs": [],
   "execution_count": 72
  },
  {
   "metadata": {
    "ExecuteTime": {
     "end_time": "2025-03-04T18:10:51.180143Z",
     "start_time": "2025-03-04T18:10:51.176897Z"
    }
   },
   "cell_type": "code",
   "source": "device",
   "id": "5ffd2f6dee732cd6",
   "outputs": [
    {
     "data": {
      "text/plain": [
       "device(type='cuda')"
      ]
     },
     "execution_count": 73,
     "metadata": {},
     "output_type": "execute_result"
    }
   ],
   "execution_count": 73
  },
  {
   "metadata": {
    "ExecuteTime": {
     "end_time": "2025-03-04T18:11:06.145946Z",
     "start_time": "2025-03-04T18:10:51.659610Z"
    }
   },
   "cell_type": "code",
   "source": [
    "# Training loop\n",
    "EPOCHS = 10\n",
    "model.train()\n",
    "for epoch in range(EPOCHS):\n",
    "    total_loss = 0\n",
    "    correct = 0\n",
    "    total = 0\n",
    "    for data_inputs, data_labels in train_data_loader:\n",
    "        data_inputs, data_labels = data_inputs.to(device), data_labels.to(device)\n",
    "\n",
    "\n",
    "        logits = model(data_inputs)\n",
    "        loss = loss_module(logits, data_labels)\n",
    "\n",
    "        optimizer.zero_grad()\n",
    "        loss.backward()\n",
    "        optimizer.step()\n",
    "\n",
    "        total_loss += loss.item()\n",
    "\n",
    "        # Accuracy calculation\n",
    "        preds = logits.argmax(1)\n",
    "        correct += (preds == data_labels).sum().item()\n",
    "        total += data_labels.size(0)\n",
    "\n",
    "    avg_loss = total_loss / len(train_data_loader)\n",
    "    accuracy = 100 * correct / total\n",
    "\n",
    "    print(f\"Epoch {epoch+1}: Loss = {avg_loss:.4f}, Accuracy = {accuracy:.2f}%\")"
   ],
   "id": "4e26b016a11f7db2",
   "outputs": [
    {
     "name": "stdout",
     "output_type": "stream",
     "text": [
      "Epoch 1: Loss = 0.3866, Accuracy = 89.23%\n",
      "Epoch 2: Loss = 0.1323, Accuracy = 96.01%\n",
      "Epoch 3: Loss = 0.0832, Accuracy = 97.50%\n",
      "Epoch 4: Loss = 0.0607, Accuracy = 98.12%\n",
      "Epoch 5: Loss = 0.0456, Accuracy = 98.59%\n",
      "Epoch 6: Loss = 0.0345, Accuracy = 98.97%\n",
      "Epoch 7: Loss = 0.0271, Accuracy = 99.16%\n",
      "Epoch 8: Loss = 0.0214, Accuracy = 99.33%\n",
      "Epoch 9: Loss = 0.0151, Accuracy = 99.59%\n",
      "Epoch 10: Loss = 0.0141, Accuracy = 99.59%\n"
     ]
    }
   ],
   "execution_count": 74
  },
  {
   "metadata": {},
   "cell_type": "markdown",
   "source": "# Evaluation",
   "id": "3b0f09ba1f3895b0"
  },
  {
   "metadata": {
    "ExecuteTime": {
     "end_time": "2025-03-04T18:19:29.005378Z",
     "start_time": "2025-03-04T18:19:28.561375Z"
    }
   },
   "cell_type": "code",
   "source": [
    "model.eval() # Set model to eval mode\n",
    "true_preds, num_preds = 0., 0.\n",
    "\n",
    "test_y_hat = []\n",
    "test_y = []\n",
    "with torch.no_grad(): # Deactivate gradients for the following code\n",
    "    for data_inputs, data_labels in test_data_loader:\n",
    "\n",
    "        # Determine prediction of model on dev set\n",
    "        data_inputs, data_labels = data_inputs.to(device), data_labels.to(device)\n",
    "        logits = model(data_inputs)\n",
    "        pred_probabilites = nn.Softmax(dim=1)(logits)\n",
    "        pred_labels = pred_probabilites.argmax(1)\n",
    "        test_y_hat.append(pred_labels.to(\"cpu\").numpy())\n",
    "        test_y.append(data_labels.to(\"cpu\").numpy())\n",
    "\n",
    "        true_preds += (pred_labels == data_labels).sum()\n",
    "        num_preds += data_labels.shape[0]\n",
    "\n",
    "acc = true_preds / num_preds\n",
    "print(f\"Accuracy of the model: {100.0*acc:4.2f}%\")"
   ],
   "id": "43dc7af8e00c559c",
   "outputs": [
    {
     "name": "stdout",
     "output_type": "stream",
     "text": [
      "Accuracy of the model: 98.12%\n"
     ]
    }
   ],
   "execution_count": 95
  },
  {
   "metadata": {
    "ExecuteTime": {
     "end_time": "2025-03-04T18:22:15.970264Z",
     "start_time": "2025-03-04T18:22:15.968163Z"
    }
   },
   "cell_type": "code",
   "source": "test_y = np.concatenate(test_y)",
   "id": "5265fd628a65d330",
   "outputs": [],
   "execution_count": 100
  },
  {
   "metadata": {
    "ExecuteTime": {
     "end_time": "2025-03-04T18:22:25.619654Z",
     "start_time": "2025-03-04T18:22:25.617230Z"
    }
   },
   "cell_type": "code",
   "source": "test_y_hat = np.concatenate(test_y_hat)",
   "id": "3ee69bf87ed7d947",
   "outputs": [],
   "execution_count": 101
  },
  {
   "metadata": {
    "ExecuteTime": {
     "end_time": "2025-03-04T18:23:05.077042Z",
     "start_time": "2025-03-04T18:23:05.060231Z"
    }
   },
   "cell_type": "code",
   "source": "from sklearn.metrics import ConfusionMatrixDisplay, confusion_matrix",
   "id": "76c57e537b618c0b",
   "outputs": [],
   "execution_count": 102
  },
  {
   "metadata": {
    "ExecuteTime": {
     "end_time": "2025-03-04T18:23:17.038429Z",
     "start_time": "2025-03-04T18:23:17.035086Z"
    }
   },
   "cell_type": "code",
   "source": "cm = confusion_matrix(test_y, test_y_hat)",
   "id": "ba45ccec87f9d4ae",
   "outputs": [],
   "execution_count": 103
  },
  {
   "metadata": {
    "ExecuteTime": {
     "end_time": "2025-03-04T18:24:41.375638Z",
     "start_time": "2025-03-04T18:24:41.208511Z"
    }
   },
   "cell_type": "code",
   "source": [
    "disp = ConfusionMatrixDisplay(cm, display_labels=[str(x) for x in range(10)])\n",
    "disp.plot()\n",
    "plt.show()\n",
    "\n"
   ],
   "id": "633ebbd7723ca9aa",
   "outputs": [
    {
     "data": {
      "text/plain": [
       "<Figure size 640x480 with 2 Axes>"
      ],
      "image/png": "[encoded data removed]"
     },
     "metadata": {},
     "output_type": "display_data"
    }
   ],
   "execution_count": 106
  },
  {
   "metadata": {
    "ExecuteTime": {
     "end_time": "2025-03-04T18:53:18.980766Z",
     "start_time": "2025-03-04T18:53:18.917198Z"
    }
   },
   "cell_type": "code",
   "source": [
    "from torchviz import make_dot\n",
    "from torchview import draw_graph\n",
    "\n",
    "\n",
    "model_graph = draw_graph(MnistClassifier(28*28, 10), input_size=(1, 28, 28))\n",
    "model_graph.visual_graph.render(format=\"png\")"
   ],
   "id": "8765eee1804cd92c",
   "outputs": [
    {
     "data": {
      "text/plain": [
       "'model.gv.png'"
      ]
     },
     "execution_count": 116,
     "metadata": {},
     "output_type": "execute_result"
    }
   ],
   "execution_count": 116
  },
  {
   "metadata": {},
   "cell_type": "code",
   "outputs": [],
   "execution_count": null,
   "source": "",
   "id": "795b6274880d0e19"
  }
 ],
 "metadata": {
  "kernelspec": {
   "display_name": "Python 3",
   "language": "python",
   "name": "python3"
  },
  "language_info": {
   "codemirror_mode": {
    "name": "ipython",
    "version": 2
   },
   "file_extension": ".py",
   "mimetype": "text/x-python",
   "name": "python",
   "nbconvert_exporter": "python",
   "pygments_lexer": "ipython2",
   "version": "2.7.6"
  }
 },
 "nbformat": 4,
 "nbformat_minor": 5
}
