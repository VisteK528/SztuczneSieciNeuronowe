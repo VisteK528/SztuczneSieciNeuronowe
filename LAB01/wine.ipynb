{
 "cells": [
  {
   "cell_type": "code",
   "metadata": {
    "collapsed": true,
    "ExecuteTime": {
     "end_time": "2025-03-04T15:08:24.623547Z",
     "start_time": "2025-03-04T15:08:23.959120Z"
    }
   },
   "source": [
    "import torch\n",
    "import torch.utils.data as data\n",
    "import torch.nn as nn\n",
    "import numpy as np\n",
    "import time\n",
    "import math\n",
    "import matplotlib.pyplot as plt\n",
    "import pandas as pd\n",
    "from collections import Counter\n",
    "from sklearn.preprocessing import StandardScaler"
   ],
   "outputs": [],
   "execution_count": 52
  },
  {
   "metadata": {
    "ExecuteTime": {
     "end_time": "2025-03-04T14:58:54.788331Z",
     "start_time": "2025-03-04T14:58:54.786157Z"
    }
   },
   "cell_type": "code",
   "source": [
    "import os\n",
    "os.environ['CUDA_LAUNCH_BLOCKING'] = '1'"
   ],
   "outputs": [],
   "execution_count": 2
  },
  {
   "cell_type": "code",
   "source": [
    "if torch.cuda.is_available():\n",
    "    device = torch.device(\"cuda\")\n",
    "\n",
    "    # Losowość jest bardzo ważnym elementem trenowania sieci neuronowych (o czym się wkrótce przekonamy).Eksperymentując, chcielibyśmy jednak żeby przy każdym uruchomieniu programu, wynik był taki sam. Tylko w takim przypadku jesteśmy w stanie coś wnioskować. Do zapewnienia możliwości reprodukcji wyników na GPU za pomocą pytorcha służa poniższe komendy:\n",
    "\n",
    "    torch.cuda.manual_seed(42)\n",
    "    torch.cuda.manual_seed_all(42)\n",
    "\n",
    "else:\n",
    "    device = torch.device(\"cpu\")\n",
    "\n",
    "print(device.type)"
   ],
   "metadata": {
    "collapsed": false,
    "ExecuteTime": {
     "end_time": "2025-03-04T14:59:02.718994Z",
     "start_time": "2025-03-04T14:59:01.197028Z"
    }
   },
   "outputs": [
    {
     "name": "stdout",
     "output_type": "stream",
     "text": [
      "cuda\n"
     ]
    }
   ],
   "execution_count": 3
  },
  {
   "cell_type": "code",
   "source": [
    "df = pd.read_csv('https://archive.ics.uci.edu/ml/machine-learning-databases/wine-quality/winequality-white.csv', delimiter=\";\")"
   ],
   "metadata": {
    "collapsed": false,
    "ExecuteTime": {
     "end_time": "2025-03-04T14:59:06.261571Z",
     "start_time": "2025-03-04T14:59:04.332377Z"
    }
   },
   "outputs": [],
   "execution_count": 4
  },
  {
   "metadata": {
    "ExecuteTime": {
     "end_time": "2025-03-04T15:06:30.933462Z",
     "start_time": "2025-03-04T15:06:30.930575Z"
    }
   },
   "cell_type": "code",
   "source": "len(df.columns)",
   "outputs": [
    {
     "data": {
      "text/plain": [
       "12"
      ]
     },
     "execution_count": 51,
     "metadata": {},
     "output_type": "execute_result"
    }
   ],
   "execution_count": 51
  },
  {
   "cell_type": "code",
   "source": [
    "train=df.sample(frac=0.8,random_state=200) #random state is a seed value\n",
    "test=df.drop(train.index)"
   ],
   "metadata": {
    "collapsed": false,
    "ExecuteTime": {
     "end_time": "2025-03-04T14:59:06.270498Z",
     "start_time": "2025-03-04T14:59:06.266888Z"
    }
   },
   "outputs": [],
   "execution_count": 5
  },
  {
   "cell_type": "code",
   "source": [
    "classes = Counter(df[\"quality\"])"
   ],
   "metadata": {
    "collapsed": false,
    "ExecuteTime": {
     "end_time": "2025-03-04T14:59:06.315531Z",
     "start_time": "2025-03-04T14:59:06.312721Z"
    }
   },
   "outputs": [],
   "execution_count": 6
  },
  {
   "cell_type": "code",
   "source": [
    "df.keys().__len__()"
   ],
   "metadata": {
    "collapsed": false,
    "ExecuteTime": {
     "end_time": "2025-03-04T14:59:06.420425Z",
     "start_time": "2025-03-04T14:59:06.415464Z"
    }
   },
   "outputs": [
    {
     "data": {
      "text/plain": [
       "12"
      ]
     },
     "execution_count": 7,
     "metadata": {},
     "output_type": "execute_result"
    }
   ],
   "execution_count": 7
  },
  {
   "cell_type": "code",
   "source": [
    "plt.bar(classes.keys(), classes.values())"
   ],
   "metadata": {
    "collapsed": false,
    "ExecuteTime": {
     "end_time": "2025-03-04T14:59:07.176723Z",
     "start_time": "2025-03-04T14:59:07.073918Z"
    }
   },
   "outputs": [
    {
     "data": {
      "text/plain": [
       "<BarContainer object of 7 artists>"
      ]
     },
     "execution_count": 8,
     "metadata": {},
     "output_type": "execute_result"
    },
    {
     "data": {
      "text/plain": [
       "<Figure size 640x480 with 1 Axes>"
      ],
      "image/png": "[encoded data removed]"
     },
     "metadata": {},
     "output_type": "display_data"
    }
   ],
   "execution_count": 8
  },
  {
   "cell_type": "code",
   "source": [
    "train_labels = train.values[:, -1].astype(np.int64)\n",
    "train_labels_mapped = []\n",
    "for label in train_labels:\n",
    "    if label < 6:\n",
    "        train_labels_mapped.append(0)\n",
    "    elif 5 <= label < 7:\n",
    "        train_labels_mapped.append(1)\n",
    "    else:\n",
    "        train_labels_mapped.append(2)\n",
    "\n",
    "\n",
    "train_labels = torch.tensor(train_labels_mapped)\n",
    "\n",
    "scaler = StandardScaler()\n",
    "train_data = train.values[:,:-1].astype(np.float32)\n",
    "train_data = scaler.fit_transform(train_data)\n",
    "#train_labels = nn.functional.one_hot(train_labels, 11)\n",
    "train_dataset = data.TensorDataset(torch.from_numpy(train_data), train_labels)"
   ],
   "metadata": {
    "collapsed": false,
    "ExecuteTime": {
     "end_time": "2025-03-04T15:09:54.583401Z",
     "start_time": "2025-03-04T15:09:54.577037Z"
    }
   },
   "outputs": [],
   "execution_count": 53
  },
  {
   "metadata": {
    "ExecuteTime": {
     "end_time": "2025-03-04T15:09:57.100350Z",
     "start_time": "2025-03-04T15:09:56.972950Z"
    }
   },
   "cell_type": "code",
   "source": [
    "classes = Counter(train_labels_mapped)\n",
    "print(classes.keys())\n",
    "plt.bar(classes.keys(), classes.values())"
   ],
   "outputs": [
    {
     "name": "stdout",
     "output_type": "stream",
     "text": [
      "dict_keys([0, 1, 2])\n"
     ]
    },
    {
     "data": {
      "text/plain": [
       "<BarContainer object of 3 artists>"
      ]
     },
     "execution_count": 54,
     "metadata": {},
     "output_type": "execute_result"
    },
    {
     "data": {
      "text/plain": [
       "<Figure size 640x480 with 1 Axes>"
      ],
      "image/png": "[encoded data removed]"
     },
     "metadata": {},
     "output_type": "display_data"
    }
   ],
   "execution_count": 54
  },
  {
   "cell_type": "code",
   "source": [
    "class WineClassifier(nn.Module):\n",
    "    def __init__(self, num_inputs, num_outputs):\n",
    "        super().__init__()\n",
    "        # Initialize the modules we need to build the network\n",
    "        self.linear1 = nn.Linear(num_inputs, 512)\n",
    "        self.act_fn = nn.LeakyReLU()\n",
    "        self.linear2 = nn.Linear(512, 128)\n",
    "        self.linear3 = nn.Linear(128, num_outputs)\n",
    "\n",
    "    def forward(self, x):\n",
    "        # Perform the calculation of the model to determine the prediction\n",
    "        x = self.linear1(x)\n",
    "        x = self.act_fn(x)\n",
    "        x = nn.Dropout(p=0.25)(x)\n",
    "        x = self.linear2(x)\n",
    "        x = self.act_fn(x)\n",
    "        x = nn.Dropout(p=0.25)(x)\n",
    "        x = self.linear3(x)\n",
    "        return x"
   ],
   "metadata": {
    "collapsed": false,
    "ExecuteTime": {
     "end_time": "2025-03-04T15:15:14.537990Z",
     "start_time": "2025-03-04T15:15:14.534418Z"
    }
   },
   "outputs": [],
   "execution_count": 104
  },
  {
   "cell_type": "code",
   "source": "train_data_loader = data.DataLoader(train_dataset, batch_size=512, shuffle=True, num_workers=10)",
   "metadata": {
    "collapsed": false,
    "ExecuteTime": {
     "end_time": "2025-03-04T17:39:51.972199Z",
     "start_time": "2025-03-04T17:39:51.969742Z"
    }
   },
   "outputs": [],
   "execution_count": 120
  },
  {
   "cell_type": "code",
   "source": [
    "model = WineClassifier(11, 3)\n",
    "model.to(device)"
   ],
   "metadata": {
    "collapsed": false,
    "ExecuteTime": {
     "end_time": "2025-03-04T17:39:54.179381Z",
     "start_time": "2025-03-04T17:39:54.175281Z"
    }
   },
   "outputs": [
    {
     "data": {
      "text/plain": [
       "WineClassifier(\n",
       "  (linear1): Linear(in_features=11, out_features=512, bias=True)\n",
       "  (act_fn): LeakyReLU(negative_slope=0.01)\n",
       "  (linear2): Linear(in_features=512, out_features=128, bias=True)\n",
       "  (linear3): Linear(in_features=128, out_features=3, bias=True)\n",
       ")"
      ]
     },
     "execution_count": 121,
     "metadata": {},
     "output_type": "execute_result"
    }
   ],
   "execution_count": 121
  },
  {
   "cell_type": "code",
   "source": [
    "for name, param in model.named_parameters():\n",
    "    print(f\"Parameter {name}, shape {param.shape}, dtype {param.dtype}\")"
   ],
   "metadata": {
    "collapsed": false,
    "ExecuteTime": {
     "end_time": "2025-03-04T17:39:55.198740Z",
     "start_time": "2025-03-04T17:39:55.196103Z"
    }
   },
   "outputs": [
    {
     "name": "stdout",
     "output_type": "stream",
     "text": [
      "Parameter linear1.weight, shape torch.Size([512, 11]), dtype torch.float32\n",
      "Parameter linear1.bias, shape torch.Size([512]), dtype torch.float32\n",
      "Parameter linear2.weight, shape torch.Size([128, 512]), dtype torch.float32\n",
      "Parameter linear2.bias, shape torch.Size([128]), dtype torch.float32\n",
      "Parameter linear3.weight, shape torch.Size([3, 128]), dtype torch.float32\n",
      "Parameter linear3.bias, shape torch.Size([3]), dtype torch.float32\n"
     ]
    }
   ],
   "execution_count": 122
  },
  {
   "cell_type": "code",
   "source": "optimizer = torch.optim.Adam(model.parameters(), lr=1e-3)",
   "metadata": {
    "collapsed": false,
    "ExecuteTime": {
     "end_time": "2025-03-04T17:39:56.091594Z",
     "start_time": "2025-03-04T17:39:56.089195Z"
    }
   },
   "outputs": [],
   "execution_count": 123
  },
  {
   "cell_type": "code",
   "source": "loss_module = nn.CrossEntropyLoss()",
   "metadata": {
    "collapsed": false,
    "ExecuteTime": {
     "end_time": "2025-03-04T17:39:57.026265Z",
     "start_time": "2025-03-04T17:39:57.023870Z"
    }
   },
   "outputs": [],
   "execution_count": 124
  },
  {
   "cell_type": "code",
   "source": [
    "# Training loop\n",
    "EPOCHS = 200\n",
    "for epoch in range(EPOCHS):\n",
    "    total_loss = 0\n",
    "    correct = 0\n",
    "    total = 0\n",
    "\n",
    "    model.train()\n",
    "    for data_inputs, data_labels in train_data_loader:\n",
    "        data_inputs, data_labels = data_inputs.to(device), data_labels.to(device)\n",
    "\n",
    "        logits = model(data_inputs)  # No softmax needed\n",
    "        loss = loss_module(logits, data_labels)\n",
    "\n",
    "        optimizer.zero_grad()\n",
    "        loss.backward()\n",
    "        optimizer.step()\n",
    "\n",
    "        total_loss += loss.item()\n",
    "\n",
    "        # Accuracy calculation\n",
    "        preds = logits.argmax(1)\n",
    "        correct += (preds == data_labels).sum().item()\n",
    "        total += data_labels.size(0)\n",
    "\n",
    "    avg_loss = total_loss / len(train_data_loader)\n",
    "    accuracy = 100 * correct / total\n",
    "\n",
    "    print(f\"Epoch {epoch+1}: Loss = {avg_loss:.4f}, Accuracy = {accuracy:.2f}%\")"
   ],
   "metadata": {
    "collapsed": false,
    "ExecuteTime": {
     "end_time": "2025-03-04T17:40:55.654519Z",
     "start_time": "2025-03-04T17:39:58.343796Z"
    }
   },
   "outputs": [
    {
     "name": "stdout",
     "output_type": "stream",
     "text": [
      "Epoch 1: Loss = 0.9873, Accuracy = 47.96%\n",
      "Epoch 2: Loss = 0.8967, Accuracy = 57.27%\n",
      "Epoch 3: Loss = 0.8606, Accuracy = 58.60%\n",
      "Epoch 4: Loss = 0.8509, Accuracy = 58.91%\n",
      "Epoch 5: Loss = 0.8398, Accuracy = 59.34%\n",
      "Epoch 6: Loss = 0.8248, Accuracy = 59.47%\n",
      "Epoch 7: Loss = 0.8222, Accuracy = 60.16%\n",
      "Epoch 8: Loss = 0.8193, Accuracy = 60.54%\n",
      "Epoch 9: Loss = 0.8098, Accuracy = 60.62%\n",
      "Epoch 10: Loss = 0.8054, Accuracy = 61.20%\n",
      "Epoch 11: Loss = 0.8021, Accuracy = 61.31%\n",
      "Epoch 12: Loss = 0.7938, Accuracy = 61.79%\n",
      "Epoch 13: Loss = 0.7977, Accuracy = 62.20%\n",
      "Epoch 14: Loss = 0.7896, Accuracy = 62.15%\n",
      "Epoch 15: Loss = 0.7886, Accuracy = 62.17%\n",
      "Epoch 16: Loss = 0.7837, Accuracy = 62.15%\n",
      "Epoch 17: Loss = 0.7773, Accuracy = 62.30%\n",
      "Epoch 18: Loss = 0.7804, Accuracy = 62.71%\n",
      "Epoch 19: Loss = 0.7732, Accuracy = 63.30%\n",
      "Epoch 20: Loss = 0.7730, Accuracy = 62.79%\n",
      "Epoch 21: Loss = 0.7666, Accuracy = 63.96%\n",
      "Epoch 22: Loss = 0.7661, Accuracy = 63.53%\n",
      "Epoch 23: Loss = 0.7676, Accuracy = 63.37%\n",
      "Epoch 24: Loss = 0.7569, Accuracy = 63.81%\n",
      "Epoch 25: Loss = 0.7588, Accuracy = 63.83%\n",
      "Epoch 26: Loss = 0.7483, Accuracy = 64.73%\n",
      "Epoch 27: Loss = 0.7531, Accuracy = 64.11%\n",
      "Epoch 28: Loss = 0.7492, Accuracy = 65.24%\n",
      "Epoch 29: Loss = 0.7436, Accuracy = 64.91%\n",
      "Epoch 30: Loss = 0.7405, Accuracy = 65.57%\n",
      "Epoch 31: Loss = 0.7470, Accuracy = 64.65%\n",
      "Epoch 32: Loss = 0.7325, Accuracy = 65.93%\n",
      "Epoch 33: Loss = 0.7381, Accuracy = 64.83%\n",
      "Epoch 34: Loss = 0.7349, Accuracy = 65.26%\n",
      "Epoch 35: Loss = 0.7292, Accuracy = 65.98%\n",
      "Epoch 36: Loss = 0.7238, Accuracy = 66.11%\n",
      "Epoch 37: Loss = 0.7210, Accuracy = 66.36%\n",
      "Epoch 38: Loss = 0.7229, Accuracy = 66.44%\n",
      "Epoch 39: Loss = 0.7166, Accuracy = 66.36%\n",
      "Epoch 40: Loss = 0.7201, Accuracy = 65.62%\n",
      "Epoch 41: Loss = 0.7081, Accuracy = 66.90%\n",
      "Epoch 42: Loss = 0.7159, Accuracy = 66.77%\n",
      "Epoch 43: Loss = 0.7088, Accuracy = 66.44%\n",
      "Epoch 44: Loss = 0.7120, Accuracy = 66.41%\n",
      "Epoch 45: Loss = 0.7108, Accuracy = 67.66%\n",
      "Epoch 46: Loss = 0.7029, Accuracy = 66.95%\n",
      "Epoch 47: Loss = 0.7099, Accuracy = 66.41%\n",
      "Epoch 48: Loss = 0.6991, Accuracy = 66.74%\n",
      "Epoch 49: Loss = 0.6983, Accuracy = 67.79%\n",
      "Epoch 50: Loss = 0.6965, Accuracy = 68.27%\n",
      "Epoch 51: Loss = 0.6915, Accuracy = 67.64%\n",
      "Epoch 52: Loss = 0.6917, Accuracy = 67.87%\n",
      "Epoch 53: Loss = 0.6896, Accuracy = 67.99%\n",
      "Epoch 54: Loss = 0.6900, Accuracy = 67.66%\n",
      "Epoch 55: Loss = 0.6794, Accuracy = 69.01%\n",
      "Epoch 56: Loss = 0.6896, Accuracy = 68.12%\n",
      "Epoch 57: Loss = 0.6846, Accuracy = 67.82%\n",
      "Epoch 58: Loss = 0.6781, Accuracy = 68.94%\n",
      "Epoch 59: Loss = 0.6728, Accuracy = 68.66%\n",
      "Epoch 60: Loss = 0.6795, Accuracy = 68.86%\n",
      "Epoch 61: Loss = 0.6772, Accuracy = 68.84%\n",
      "Epoch 62: Loss = 0.6711, Accuracy = 69.88%\n",
      "Epoch 63: Loss = 0.6716, Accuracy = 68.66%\n",
      "Epoch 64: Loss = 0.6622, Accuracy = 69.04%\n",
      "Epoch 65: Loss = 0.6693, Accuracy = 69.14%\n",
      "Epoch 66: Loss = 0.6621, Accuracy = 69.68%\n",
      "Epoch 67: Loss = 0.6676, Accuracy = 69.50%\n",
      "Epoch 68: Loss = 0.6620, Accuracy = 69.81%\n",
      "Epoch 69: Loss = 0.6597, Accuracy = 69.73%\n",
      "Epoch 70: Loss = 0.6630, Accuracy = 69.55%\n",
      "Epoch 71: Loss = 0.6459, Accuracy = 70.83%\n",
      "Epoch 72: Loss = 0.6564, Accuracy = 70.62%\n",
      "Epoch 73: Loss = 0.6506, Accuracy = 69.73%\n",
      "Epoch 74: Loss = 0.6485, Accuracy = 70.85%\n",
      "Epoch 75: Loss = 0.6521, Accuracy = 70.72%\n",
      "Epoch 76: Loss = 0.6478, Accuracy = 70.39%\n",
      "Epoch 77: Loss = 0.6446, Accuracy = 70.47%\n",
      "Epoch 78: Loss = 0.6471, Accuracy = 70.65%\n",
      "Epoch 79: Loss = 0.6421, Accuracy = 71.39%\n",
      "Epoch 80: Loss = 0.6338, Accuracy = 72.08%\n",
      "Epoch 81: Loss = 0.6398, Accuracy = 71.67%\n",
      "Epoch 82: Loss = 0.6321, Accuracy = 70.83%\n",
      "Epoch 83: Loss = 0.6284, Accuracy = 71.69%\n",
      "Epoch 84: Loss = 0.6294, Accuracy = 71.18%\n",
      "Epoch 85: Loss = 0.6276, Accuracy = 72.08%\n",
      "Epoch 86: Loss = 0.6244, Accuracy = 71.06%\n",
      "Epoch 87: Loss = 0.6263, Accuracy = 71.82%\n",
      "Epoch 88: Loss = 0.6258, Accuracy = 72.31%\n",
      "Epoch 89: Loss = 0.6142, Accuracy = 72.23%\n",
      "Epoch 90: Loss = 0.6241, Accuracy = 71.90%\n",
      "Epoch 91: Loss = 0.6214, Accuracy = 72.36%\n",
      "Epoch 92: Loss = 0.6156, Accuracy = 72.87%\n",
      "Epoch 93: Loss = 0.6224, Accuracy = 72.69%\n",
      "Epoch 94: Loss = 0.6051, Accuracy = 73.15%\n",
      "Epoch 95: Loss = 0.6114, Accuracy = 72.92%\n",
      "Epoch 96: Loss = 0.6123, Accuracy = 72.41%\n",
      "Epoch 97: Loss = 0.6002, Accuracy = 73.02%\n",
      "Epoch 98: Loss = 0.6116, Accuracy = 72.41%\n",
      "Epoch 99: Loss = 0.6044, Accuracy = 74.04%\n",
      "Epoch 100: Loss = 0.6081, Accuracy = 72.97%\n",
      "Epoch 101: Loss = 0.5974, Accuracy = 73.53%\n",
      "Epoch 102: Loss = 0.5875, Accuracy = 74.14%\n",
      "Epoch 103: Loss = 0.6026, Accuracy = 73.00%\n",
      "Epoch 104: Loss = 0.5907, Accuracy = 74.63%\n",
      "Epoch 105: Loss = 0.5982, Accuracy = 72.97%\n",
      "Epoch 106: Loss = 0.5881, Accuracy = 74.22%\n",
      "Epoch 107: Loss = 0.5899, Accuracy = 74.12%\n",
      "Epoch 108: Loss = 0.5835, Accuracy = 74.25%\n",
      "Epoch 109: Loss = 0.5916, Accuracy = 74.55%\n",
      "Epoch 110: Loss = 0.5954, Accuracy = 73.89%\n",
      "Epoch 111: Loss = 0.5803, Accuracy = 74.58%\n",
      "Epoch 112: Loss = 0.5793, Accuracy = 74.37%\n",
      "Epoch 113: Loss = 0.5837, Accuracy = 74.60%\n",
      "Epoch 114: Loss = 0.5798, Accuracy = 74.43%\n",
      "Epoch 115: Loss = 0.5800, Accuracy = 74.04%\n",
      "Epoch 116: Loss = 0.5795, Accuracy = 74.43%\n",
      "Epoch 117: Loss = 0.5766, Accuracy = 74.68%\n",
      "Epoch 118: Loss = 0.5753, Accuracy = 74.66%\n",
      "Epoch 119: Loss = 0.5770, Accuracy = 75.11%\n",
      "Epoch 120: Loss = 0.5709, Accuracy = 75.65%\n",
      "Epoch 121: Loss = 0.5655, Accuracy = 75.52%\n",
      "Epoch 122: Loss = 0.5769, Accuracy = 75.29%\n",
      "Epoch 123: Loss = 0.5610, Accuracy = 75.29%\n",
      "Epoch 124: Loss = 0.5638, Accuracy = 75.52%\n",
      "Epoch 125: Loss = 0.5642, Accuracy = 75.27%\n",
      "Epoch 126: Loss = 0.5561, Accuracy = 76.14%\n",
      "Epoch 127: Loss = 0.5598, Accuracy = 75.78%\n",
      "Epoch 128: Loss = 0.5665, Accuracy = 75.60%\n",
      "Epoch 129: Loss = 0.5642, Accuracy = 74.78%\n",
      "Epoch 130: Loss = 0.5582, Accuracy = 76.19%\n",
      "Epoch 131: Loss = 0.5533, Accuracy = 76.01%\n",
      "Epoch 132: Loss = 0.5555, Accuracy = 75.83%\n",
      "Epoch 133: Loss = 0.5537, Accuracy = 76.31%\n",
      "Epoch 134: Loss = 0.5526, Accuracy = 76.19%\n",
      "Epoch 135: Loss = 0.5506, Accuracy = 76.62%\n",
      "Epoch 136: Loss = 0.5520, Accuracy = 76.16%\n",
      "Epoch 137: Loss = 0.5488, Accuracy = 76.57%\n",
      "Epoch 138: Loss = 0.5483, Accuracy = 76.26%\n",
      "Epoch 139: Loss = 0.5473, Accuracy = 76.95%\n",
      "Epoch 140: Loss = 0.5315, Accuracy = 77.44%\n",
      "Epoch 141: Loss = 0.5410, Accuracy = 77.16%\n",
      "Epoch 142: Loss = 0.5446, Accuracy = 76.95%\n",
      "Epoch 143: Loss = 0.5464, Accuracy = 77.18%\n",
      "Epoch 144: Loss = 0.5454, Accuracy = 76.21%\n",
      "Epoch 145: Loss = 0.5419, Accuracy = 75.91%\n",
      "Epoch 146: Loss = 0.5368, Accuracy = 77.62%\n",
      "Epoch 147: Loss = 0.5329, Accuracy = 77.11%\n",
      "Epoch 148: Loss = 0.5301, Accuracy = 77.03%\n",
      "Epoch 149: Loss = 0.5390, Accuracy = 77.03%\n",
      "Epoch 150: Loss = 0.5365, Accuracy = 76.90%\n",
      "Epoch 151: Loss = 0.5330, Accuracy = 77.11%\n",
      "Epoch 152: Loss = 0.5266, Accuracy = 77.21%\n",
      "Epoch 153: Loss = 0.5280, Accuracy = 77.79%\n",
      "Epoch 154: Loss = 0.5173, Accuracy = 77.36%\n",
      "Epoch 155: Loss = 0.5140, Accuracy = 78.28%\n",
      "Epoch 156: Loss = 0.5221, Accuracy = 77.16%\n",
      "Epoch 157: Loss = 0.5223, Accuracy = 77.31%\n",
      "Epoch 158: Loss = 0.5172, Accuracy = 78.33%\n",
      "Epoch 159: Loss = 0.5189, Accuracy = 77.69%\n",
      "Epoch 160: Loss = 0.5067, Accuracy = 78.97%\n",
      "Epoch 161: Loss = 0.5152, Accuracy = 78.25%\n",
      "Epoch 162: Loss = 0.5251, Accuracy = 77.00%\n",
      "Epoch 163: Loss = 0.5223, Accuracy = 76.93%\n",
      "Epoch 164: Loss = 0.5051, Accuracy = 79.17%\n",
      "Epoch 165: Loss = 0.5030, Accuracy = 78.99%\n",
      "Epoch 166: Loss = 0.5064, Accuracy = 78.25%\n",
      "Epoch 167: Loss = 0.5032, Accuracy = 78.43%\n",
      "Epoch 168: Loss = 0.5111, Accuracy = 78.31%\n",
      "Epoch 169: Loss = 0.5130, Accuracy = 77.67%\n",
      "Epoch 170: Loss = 0.4959, Accuracy = 78.82%\n",
      "Epoch 171: Loss = 0.5046, Accuracy = 78.48%\n",
      "Epoch 172: Loss = 0.5132, Accuracy = 78.02%\n",
      "Epoch 173: Loss = 0.5008, Accuracy = 78.76%\n",
      "Epoch 174: Loss = 0.4965, Accuracy = 79.48%\n",
      "Epoch 175: Loss = 0.5029, Accuracy = 79.33%\n",
      "Epoch 176: Loss = 0.4997, Accuracy = 78.59%\n",
      "Epoch 177: Loss = 0.5066, Accuracy = 78.48%\n",
      "Epoch 178: Loss = 0.4990, Accuracy = 78.71%\n",
      "Epoch 179: Loss = 0.4933, Accuracy = 79.71%\n",
      "Epoch 180: Loss = 0.4978, Accuracy = 78.71%\n",
      "Epoch 181: Loss = 0.4793, Accuracy = 80.12%\n",
      "Epoch 182: Loss = 0.4921, Accuracy = 79.28%\n",
      "Epoch 183: Loss = 0.4836, Accuracy = 79.66%\n",
      "Epoch 184: Loss = 0.4897, Accuracy = 79.15%\n",
      "Epoch 185: Loss = 0.4934, Accuracy = 78.97%\n",
      "Epoch 186: Loss = 0.4747, Accuracy = 80.37%\n",
      "Epoch 187: Loss = 0.4795, Accuracy = 79.05%\n",
      "Epoch 188: Loss = 0.4901, Accuracy = 79.05%\n",
      "Epoch 189: Loss = 0.4820, Accuracy = 79.94%\n",
      "Epoch 190: Loss = 0.4807, Accuracy = 79.30%\n",
      "Epoch 191: Loss = 0.4738, Accuracy = 80.30%\n",
      "Epoch 192: Loss = 0.4718, Accuracy = 80.73%\n",
      "Epoch 193: Loss = 0.4838, Accuracy = 79.15%\n",
      "Epoch 194: Loss = 0.4666, Accuracy = 80.04%\n",
      "Epoch 195: Loss = 0.4653, Accuracy = 80.99%\n",
      "Epoch 196: Loss = 0.4643, Accuracy = 80.63%\n",
      "Epoch 197: Loss = 0.4688, Accuracy = 80.78%\n",
      "Epoch 198: Loss = 0.4817, Accuracy = 79.99%\n",
      "Epoch 199: Loss = 0.4780, Accuracy = 79.94%\n",
      "Epoch 200: Loss = 0.4777, Accuracy = 80.09%\n"
     ]
    }
   ],
   "execution_count": 125
  },
  {
   "cell_type": "code",
   "source": [
    "test_labels = test.values[:, -1].astype(np.int64)\n",
    "test_labels_mapped = []\n",
    "for label in test_labels:\n",
    "    if label < 6:\n",
    "        test_labels_mapped.append(0)\n",
    "    elif 5 <= label < 7:\n",
    "        test_labels_mapped.append(1)\n",
    "    else:\n",
    "        test_labels_mapped.append(2)\n",
    "\n",
    "test_data = test.values[:,:-1].astype(np.float32)\n",
    "test_data = scaler.transform(test_data)\n",
    "\n",
    "test_dataset = data.TensorDataset(torch.from_numpy(test_data), torch.tensor(test_labels_mapped))\n",
    "test_data_loader = data.DataLoader(test_dataset, batch_size=512, shuffle=False, drop_last=False)\n",
    "model.eval() # Set model to eval mode\n",
    "true_preds, num_preds = 0., 0.\n",
    "\n",
    "with torch.no_grad(): # Deactivate gradients for the following code\n",
    "    for data_inputs, data_labels in test_data_loader:\n",
    "\n",
    "        # Determine prediction of model on dev set\n",
    "        data_inputs, data_labels = data_inputs.to(device), data_labels.to(device)\n",
    "        logits = model(data_inputs)\n",
    "        pred_probabilites = nn.Softmax(dim=1)(logits)\n",
    "        pred_labels = pred_probabilites.argmax(1)\n",
    "\n",
    "        # Keep records of predictions for the accuracy metric (true_preds=TP+TN, num_preds=TP+TN+FP+FN)\n",
    "        true_preds += (pred_labels == data_labels).sum()\n",
    "        num_preds += data_labels.shape[0]\n",
    "\n",
    "acc = true_preds / num_preds\n",
    "print(f\"Accuracy of the model: {100.0*acc:4.2f}%\")"
   ],
   "metadata": {
    "collapsed": false,
    "ExecuteTime": {
     "end_time": "2025-03-04T17:41:02.108978Z",
     "start_time": "2025-03-04T17:41:02.094108Z"
    }
   },
   "outputs": [
    {
     "name": "stdout",
     "output_type": "stream",
     "text": [
      "Accuracy of the model: 66.02%\n"
     ]
    }
   ],
   "execution_count": 126
  },
  {
   "metadata": {},
   "cell_type": "code",
   "outputs": [],
   "execution_count": null,
   "source": ""
  }
 ],
 "metadata": {
  "kernelspec": {
   "display_name": "Python 3",
   "language": "python",
   "name": "python3"
  },
  "language_info": {
   "codemirror_mode": {
    "name": "ipython",
    "version": 2
   },
   "file_extension": ".py",
   "mimetype": "text/x-python",
   "name": "python",
   "nbconvert_exporter": "python",
   "pygments_lexer": "ipython2",
   "version": "2.7.6"
  }
 },
 "nbformat": 4,
 "nbformat_minor": 0
}
