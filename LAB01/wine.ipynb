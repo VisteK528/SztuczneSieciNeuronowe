{
 "cells": [
  {
   "cell_type": "code",
   "execution_count": 28,
   "metadata": {
    "collapsed": true
   },
   "outputs": [],
   "source": [
    "import torch\n",
    "import torch.utils.data as data\n",
    "import torch.nn as nn\n",
    "import numpy as np\n",
    "import time\n",
    "import math\n",
    "import matplotlib.pyplot as plt\n",
    "import pandas as pd\n",
    "from collections import Counter"
   ]
  },
  {
   "cell_type": "code",
   "execution_count": 10,
   "outputs": [
    {
     "name": "stdout",
     "output_type": "stream",
     "text": [
      "cpu\n"
     ]
    }
   ],
   "source": [
    "if torch.cuda.is_available():\n",
    "    device = torch.device(\"cuda\")\n",
    "\n",
    "    # Losowość jest bardzo ważnym elementem trenowania sieci neuronowych (o czym się wkrótce przekonamy).Eksperymentując, chcielibyśmy jednak żeby przy każdym uruchomieniu programu, wynik był taki sam. Tylko w takim przypadku jesteśmy w stanie coś wnioskować. Do zapewnienia możliwości reprodukcji wyników na GPU za pomocą pytorcha służa poniższe komendy:\n",
    "\n",
    "    torch.cuda.manual_seed(42)\n",
    "    torch.cuda.manual_seed_all(42)\n",
    "\n",
    "else:\n",
    "    device = torch.device(\"cpu\")\n",
    "print(device.type)"
   ],
   "metadata": {
    "collapsed": false
   }
  },
  {
   "cell_type": "code",
   "execution_count": 12,
   "outputs": [],
   "source": [
    "df = pd.read_csv('https://archive.ics.uci.edu/ml/machine-learning-databases/wine-quality/winequality-white.csv', delimiter=\";\")"
   ],
   "metadata": {
    "collapsed": false
   }
  },
  {
   "cell_type": "code",
   "execution_count": 13,
   "outputs": [],
   "source": [
    "train=df.sample(frac=0.8,random_state=200) #random state is a seed value\n",
    "test=df.drop(train.index)"
   ],
   "metadata": {
    "collapsed": false
   }
  },
  {
   "cell_type": "code",
   "execution_count": 21,
   "outputs": [],
   "source": [
    "classes = Counter(df[\"quality\"])"
   ],
   "metadata": {
    "collapsed": false
   }
  },
  {
   "cell_type": "code",
   "execution_count": 30,
   "outputs": [
    {
     "data": {
      "text/plain": "12"
     },
     "execution_count": 30,
     "metadata": {},
     "output_type": "execute_result"
    }
   ],
   "source": [
    "df.keys().__len__()"
   ],
   "metadata": {
    "collapsed": false
   }
  },
  {
   "cell_type": "code",
   "execution_count": 26,
   "outputs": [
    {
     "data": {
      "text/plain": "<BarContainer object of 7 artists>"
     },
     "execution_count": 26,
     "metadata": {},
     "output_type": "execute_result"
    },
    {
     "data": {
      "text/plain": "<Figure size 640x480 with 1 Axes>",
      "image/png": "[encoded data removed]"
     },
     "metadata": {},
     "output_type": "display_data"
    }
   ],
   "source": [
    "plt.bar(classes.keys(), classes.values())"
   ],
   "metadata": {
    "collapsed": false
   }
  },
  {
   "cell_type": "code",
   "execution_count": 52,
   "outputs": [],
   "source": [
    "train_dataset = data.TensorDataset(torch.from_numpy(train.values[:,:-1].astype(np.float32)),torch.from_numpy(train.values[:,-1].astype(np.float32)))"
   ],
   "metadata": {
    "collapsed": false
   }
  },
  {
   "cell_type": "code",
   "execution_count": 53,
   "outputs": [],
   "source": [
    "class WineClassifier(nn.Module):\n",
    "    def __init__(self, num_inputs, num_outputs):\n",
    "        super().__init__()\n",
    "        # Initialize the modules we need to build the network\n",
    "        self.linear1 = nn.Linear(num_inputs, 32)\n",
    "        self.act_fn = nn.LeakyReLU()\n",
    "        self.linear2 = nn.Linear(32, 32)\n",
    "        self.linear3 = nn.Linear(32, num_outputs)\n",
    "\n",
    "    def forward(self, x):\n",
    "        # Perform the calculation of the model to determine the prediction\n",
    "        x = self.linear1(x)\n",
    "        x = self.act_fn(x)\n",
    "        x = self.linear2(x)\n",
    "        x = self.act_fn(x)\n",
    "        x = self.linear3(x)\n",
    "        return x"
   ],
   "metadata": {
    "collapsed": false
   }
  },
  {
   "cell_type": "code",
   "execution_count": 54,
   "outputs": [],
   "source": [
    "train_data_loader = data.DataLoader(train_dataset, batch_size=64, shuffle=True)"
   ],
   "metadata": {
    "collapsed": false
   }
  },
  {
   "cell_type": "code",
   "execution_count": 67,
   "outputs": [
    {
     "data": {
      "text/plain": "WineClassifier(\n  (linear1): Linear(in_features=11, out_features=32, bias=True)\n  (act_fn): LeakyReLU(negative_slope=0.01)\n  (linear2): Linear(in_features=32, out_features=32, bias=True)\n  (linear3): Linear(in_features=32, out_features=11, bias=True)\n)"
     },
     "execution_count": 67,
     "metadata": {},
     "output_type": "execute_result"
    }
   ],
   "source": [
    "model = WineClassifier(11, 11)\n",
    "model.to(device)"
   ],
   "metadata": {
    "collapsed": false
   }
  },
  {
   "cell_type": "code",
   "execution_count": 68,
   "outputs": [
    {
     "name": "stdout",
     "output_type": "stream",
     "text": [
      "Parameter linear1.weight, shape torch.Size([32, 11]), dtype torch.float32\n",
      "Parameter linear1.bias, shape torch.Size([32]), dtype torch.float32\n",
      "Parameter linear2.weight, shape torch.Size([32, 32]), dtype torch.float32\n",
      "Parameter linear2.bias, shape torch.Size([32]), dtype torch.float32\n",
      "Parameter linear3.weight, shape torch.Size([11, 32]), dtype torch.float32\n",
      "Parameter linear3.bias, shape torch.Size([11]), dtype torch.float32\n"
     ]
    }
   ],
   "source": [
    "for name, param in model.named_parameters():\n",
    "    print(f\"Parameter {name}, shape {param.shape}, dtype {param.dtype}\")"
   ],
   "metadata": {
    "collapsed": false
   }
  },
  {
   "cell_type": "code",
   "execution_count": 77,
   "outputs": [],
   "source": [
    "optimizer = torch.optim.Adam(model.parameters(), lr=0.001)"
   ],
   "metadata": {
    "collapsed": false
   }
  },
  {
   "cell_type": "code",
   "execution_count": 78,
   "outputs": [],
   "source": [
    "loss_module = nn.CrossEntropyLoss()"
   ],
   "metadata": {
    "collapsed": false
   }
  },
  {
   "cell_type": "code",
   "execution_count": 79,
   "outputs": [
    {
     "name": "stdout",
     "output_type": "stream",
     "text": [
      "Epoch: 0, loss: 0.949\n",
      "Epoch: 1, loss: 0.813\n",
      "Epoch: 2, loss: 0.844\n",
      "Epoch: 3, loss: 1.12\n",
      "Epoch: 4, loss: 1.1\n",
      "Epoch: 5, loss: 0.905\n",
      "Epoch: 6, loss: 1.06\n",
      "Epoch: 7, loss: 1.04\n",
      "Epoch: 8, loss: 1.25\n",
      "Epoch: 9, loss: 0.752\n",
      "Epoch: 10, loss: 0.972\n",
      "Epoch: 11, loss: 0.831\n",
      "Epoch: 12, loss: 0.916\n",
      "Epoch: 13, loss: 0.689\n",
      "Epoch: 14, loss: 0.906\n",
      "Epoch: 15, loss: 0.724\n",
      "Epoch: 16, loss: 0.781\n",
      "Epoch: 17, loss: 1.26\n",
      "Epoch: 18, loss: 0.838\n",
      "Epoch: 19, loss: 0.978\n",
      "Epoch: 20, loss: 1.35\n",
      "Epoch: 21, loss: 1.31\n",
      "Epoch: 22, loss: 1.06\n",
      "Epoch: 23, loss: 0.834\n",
      "Epoch: 24, loss: 1.53\n",
      "Epoch: 25, loss: 0.943\n",
      "Epoch: 26, loss: 1.08\n",
      "Epoch: 27, loss: 0.894\n",
      "Epoch: 28, loss: 1.01\n",
      "Epoch: 29, loss: 1.01\n",
      "Epoch: 30, loss: 0.615\n",
      "Epoch: 31, loss: 0.914\n",
      "Epoch: 32, loss: 1.16\n",
      "Epoch: 33, loss: 1.3\n",
      "Epoch: 34, loss: 1.04\n",
      "Epoch: 35, loss: 1.38\n",
      "Epoch: 36, loss: 0.772\n",
      "Epoch: 37, loss: 0.98\n",
      "Epoch: 38, loss: 1.14\n",
      "Epoch: 39, loss: 1.06\n",
      "Epoch: 40, loss: 0.967\n",
      "Epoch: 41, loss: 0.765\n",
      "Epoch: 42, loss: 0.823\n",
      "Epoch: 43, loss: 1.02\n",
      "Epoch: 44, loss: 1.09\n",
      "Epoch: 45, loss: 1.13\n",
      "Epoch: 46, loss: 0.923\n",
      "Epoch: 47, loss: 0.938\n",
      "Epoch: 48, loss: 1.0\n",
      "Epoch: 49, loss: 1.14\n",
      "Epoch: 50, loss: 0.799\n",
      "Epoch: 51, loss: 0.777\n",
      "Epoch: 52, loss: 1.14\n",
      "Epoch: 53, loss: 0.92\n",
      "Epoch: 54, loss: 1.05\n",
      "Epoch: 55, loss: 0.849\n",
      "Epoch: 56, loss: 1.09\n",
      "Epoch: 57, loss: 1.08\n",
      "Epoch: 58, loss: 0.755\n",
      "Epoch: 59, loss: 1.12\n",
      "Epoch: 60, loss: 1.03\n",
      "Epoch: 61, loss: 0.767\n",
      "Epoch: 62, loss: 1.14\n",
      "Epoch: 63, loss: 1.1\n",
      "Epoch: 64, loss: 0.985\n",
      "Epoch: 65, loss: 1.13\n",
      "Epoch: 66, loss: 0.747\n",
      "Epoch: 67, loss: 1.06\n",
      "Epoch: 68, loss: 0.816\n",
      "Epoch: 69, loss: 1.12\n",
      "Epoch: 70, loss: 0.965\n",
      "Epoch: 71, loss: 0.858\n",
      "Epoch: 72, loss: 1.34\n",
      "Epoch: 73, loss: 1.16\n",
      "Epoch: 74, loss: 0.862\n",
      "Epoch: 75, loss: 0.703\n",
      "Epoch: 76, loss: 1.3\n",
      "Epoch: 77, loss: 0.792\n",
      "Epoch: 78, loss: 0.927\n",
      "Epoch: 79, loss: 0.828\n",
      "Epoch: 80, loss: 1.27\n",
      "Epoch: 81, loss: 0.937\n",
      "Epoch: 82, loss: 0.96\n",
      "Epoch: 83, loss: 0.953\n",
      "Epoch: 84, loss: 0.902\n",
      "Epoch: 85, loss: 0.996\n",
      "Epoch: 86, loss: 0.72\n",
      "Epoch: 87, loss: 0.668\n",
      "Epoch: 88, loss: 1.09\n",
      "Epoch: 89, loss: 1.24\n",
      "Epoch: 90, loss: 0.916\n",
      "Epoch: 91, loss: 0.806\n",
      "Epoch: 92, loss: 1.13\n",
      "Epoch: 93, loss: 1.1\n",
      "Epoch: 94, loss: 0.867\n",
      "Epoch: 95, loss: 1.34\n",
      "Epoch: 96, loss: 1.89\n",
      "Epoch: 97, loss: 0.908\n",
      "Epoch: 98, loss: 0.664\n",
      "Epoch: 99, loss: 0.909\n"
     ]
    }
   ],
   "source": [
    "model.train()\n",
    "EPOCHS = 100\n",
    "for epoch in range(EPOCHS):\n",
    "    for data_inputs, data_labels in train_data_loader:\n",
    "        ## Step 1: Move input data to device (only strictly necessary if we use GPU)\n",
    "        data_inputs = data_inputs.to(device)\n",
    "        data_labels = data_labels.to(device)\n",
    "\n",
    "        ## Step 2: Run the model on the input data\n",
    "        preds = model(data_inputs)\n",
    "\n",
    "\n",
    "        ## Step 3: Calculate the loss\n",
    "        loss = loss_module(preds, data_labels.long())\n",
    "\n",
    "        ## Step 4: Perform backpropagation\n",
    "        # Before calculating the gradients, we need to ensure that they are all zero.\n",
    "        # The gradients would not be overwritten, but actually added to the existing ones.\n",
    "        optimizer.zero_grad()\n",
    "        # Perform backpropagation\n",
    "        loss.backward()\n",
    "\n",
    "        ## Step 5: Update the parameters\n",
    "        optimizer.step()\n",
    "    print(f\"Epoch: {epoch}, loss: {loss.item():.3}\")"
   ],
   "metadata": {
    "collapsed": false
   }
  },
  {
   "cell_type": "code",
   "execution_count": null,
   "outputs": [],
   "source": [],
   "metadata": {
    "collapsed": false
   }
  }
 ],
 "metadata": {
  "kernelspec": {
   "display_name": "Python 3",
   "language": "python",
   "name": "python3"
  },
  "language_info": {
   "codemirror_mode": {
    "name": "ipython",
    "version": 2
   },
   "file_extension": ".py",
   "mimetype": "text/x-python",
   "name": "python",
   "nbconvert_exporter": "python",
   "pygments_lexer": "ipython2",
   "version": "2.7.6"
  }
 },
 "nbformat": 4,
 "nbformat_minor": 0
}
